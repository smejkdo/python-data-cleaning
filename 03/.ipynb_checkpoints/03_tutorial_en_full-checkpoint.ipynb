{
 "cells": [
  {
   "cell_type": "markdown",
   "metadata": {
    "id": "EXjEmjjUN0uG"
   },
   "source": [
    "# Tutorial 03\n",
    "## Feature transformation & selection"
   ]
  },
  {
   "cell_type": "markdown",
   "metadata": {
    "id": "PKmgLRRNN0uL"
   },
   "source": [
    "#### Import"
   ]
  },
  {
   "cell_type": "code",
   "execution_count": 1,
   "metadata": {
    "colab": {
     "base_uri": "https://localhost:8080/",
     "height": 17
    },
    "id": "v8IShhxPN0uL",
    "outputId": "c971e5dd-9086-4630-b5bd-95a9517b2708"
   },
   "outputs": [
    {
     "data": {
      "application/javascript": [
       "IPython.OutputArea.prototype._should_scroll = function(lines) {\n",
       "    return false;\n",
       "}\n"
      ],
      "text/plain": [
       "<IPython.core.display.Javascript object>"
      ]
     },
     "metadata": {},
     "output_type": "display_data"
    }
   ],
   "source": [
    "%%javascript\n",
    "IPython.OutputArea.prototype._should_scroll = function(lines) {\n",
    "    return false;\n",
    "}"
   ]
  },
  {
   "cell_type": "code",
   "execution_count": 2,
   "metadata": {
    "id": "jNdvoztAN0uM"
   },
   "outputs": [],
   "source": [
    "import numpy as np\n",
    "import pandas as pd\n",
    "\n",
    "from scipy import stats, optimize\n",
    "\n",
    "from sklearn import model_selection, linear_model, metrics, preprocessing, feature_selection\n",
    "\n",
    "import matplotlib\n",
    "import matplotlib.pyplot as plt\n",
    "import seaborn as sns\n",
    "\n",
    "%matplotlib inline"
   ]
  },
  {
   "cell_type": "markdown",
   "metadata": {
    "id": "eKBbRdU7N0uM"
   },
   "source": [
    "### Data\n",
    "We use [a dataset](https://www.kaggle.com/c/house-prices-advanced-regression-techniques) from Kaggle.\n",
    "It contains 80 features describing sold houses. \n",
    "The features describe house locations, its physical attributes and sales information.\n",
    "See data_description.txt for more details.\n",
    "\n",
    "We want to predict the sale prices (SalePrice column, called as \"target\" variable or \"label\") based on the remaining 79 explanatory features."
   ]
  },
  {
   "cell_type": "code",
   "execution_count": 3,
   "metadata": {
    "id": "gX4gviZvN0uM"
   },
   "outputs": [],
   "source": [
    "# if you download the data from Kaggle, run following code\n",
    "# to remove Miscellaneous feature value \n",
    "# since we don't want to create several value variables for each feature (try it at home)\n",
    "\n",
    "# df = pd.read_csv('data.csv')\n",
    "# df.drop(['MiscVal'], axis=1, inplace = True, errors = 'ignore')\n",
    "# df.to_csv('data.csv', index = False)\n",
    "\n",
    "# df.MiscFeature.unique() # array([nan, 'Shed', 'Gar2', 'Othr', 'TenC'], dtype=object)"
   ]
  },
  {
   "cell_type": "code",
   "execution_count": 4,
   "metadata": {
    "id": "VajoebOxN0uM"
   },
   "outputs": [
    {
     "data": {
      "text/html": [
       "<div>\n",
       "<style scoped>\n",
       "    .dataframe tbody tr th:only-of-type {\n",
       "        vertical-align: middle;\n",
       "    }\n",
       "\n",
       "    .dataframe tbody tr th {\n",
       "        vertical-align: top;\n",
       "    }\n",
       "\n",
       "    .dataframe thead th {\n",
       "        text-align: right;\n",
       "    }\n",
       "</style>\n",
       "<table border=\"1\" class=\"dataframe\">\n",
       "  <thead>\n",
       "    <tr style=\"text-align: right;\">\n",
       "      <th></th>\n",
       "      <th>Id</th>\n",
       "      <th>MSSubClass</th>\n",
       "      <th>MSZoning</th>\n",
       "      <th>LotFrontage</th>\n",
       "      <th>LotArea</th>\n",
       "      <th>Street</th>\n",
       "      <th>Alley</th>\n",
       "      <th>LotShape</th>\n",
       "      <th>LandContour</th>\n",
       "      <th>Utilities</th>\n",
       "      <th>...</th>\n",
       "      <th>PoolArea</th>\n",
       "      <th>PoolQC</th>\n",
       "      <th>Fence</th>\n",
       "      <th>MiscFeature</th>\n",
       "      <th>MiscVal</th>\n",
       "      <th>MoSold</th>\n",
       "      <th>YrSold</th>\n",
       "      <th>SaleType</th>\n",
       "      <th>SaleCondition</th>\n",
       "      <th>SalePrice</th>\n",
       "    </tr>\n",
       "  </thead>\n",
       "  <tbody>\n",
       "    <tr>\n",
       "      <td>0</td>\n",
       "      <td>1</td>\n",
       "      <td>60</td>\n",
       "      <td>RL</td>\n",
       "      <td>65.0</td>\n",
       "      <td>8450</td>\n",
       "      <td>Pave</td>\n",
       "      <td>NaN</td>\n",
       "      <td>Reg</td>\n",
       "      <td>Lvl</td>\n",
       "      <td>AllPub</td>\n",
       "      <td>...</td>\n",
       "      <td>0</td>\n",
       "      <td>NaN</td>\n",
       "      <td>NaN</td>\n",
       "      <td>NaN</td>\n",
       "      <td>0</td>\n",
       "      <td>2</td>\n",
       "      <td>2008</td>\n",
       "      <td>WD</td>\n",
       "      <td>Normal</td>\n",
       "      <td>208500</td>\n",
       "    </tr>\n",
       "    <tr>\n",
       "      <td>1</td>\n",
       "      <td>2</td>\n",
       "      <td>20</td>\n",
       "      <td>RL</td>\n",
       "      <td>80.0</td>\n",
       "      <td>9600</td>\n",
       "      <td>Pave</td>\n",
       "      <td>NaN</td>\n",
       "      <td>Reg</td>\n",
       "      <td>Lvl</td>\n",
       "      <td>AllPub</td>\n",
       "      <td>...</td>\n",
       "      <td>0</td>\n",
       "      <td>NaN</td>\n",
       "      <td>NaN</td>\n",
       "      <td>NaN</td>\n",
       "      <td>0</td>\n",
       "      <td>5</td>\n",
       "      <td>2007</td>\n",
       "      <td>WD</td>\n",
       "      <td>Normal</td>\n",
       "      <td>181500</td>\n",
       "    </tr>\n",
       "    <tr>\n",
       "      <td>2</td>\n",
       "      <td>3</td>\n",
       "      <td>60</td>\n",
       "      <td>RL</td>\n",
       "      <td>68.0</td>\n",
       "      <td>11250</td>\n",
       "      <td>Pave</td>\n",
       "      <td>NaN</td>\n",
       "      <td>IR1</td>\n",
       "      <td>Lvl</td>\n",
       "      <td>AllPub</td>\n",
       "      <td>...</td>\n",
       "      <td>0</td>\n",
       "      <td>NaN</td>\n",
       "      <td>NaN</td>\n",
       "      <td>NaN</td>\n",
       "      <td>0</td>\n",
       "      <td>9</td>\n",
       "      <td>2008</td>\n",
       "      <td>WD</td>\n",
       "      <td>Normal</td>\n",
       "      <td>223500</td>\n",
       "    </tr>\n",
       "    <tr>\n",
       "      <td>3</td>\n",
       "      <td>4</td>\n",
       "      <td>70</td>\n",
       "      <td>RL</td>\n",
       "      <td>60.0</td>\n",
       "      <td>9550</td>\n",
       "      <td>Pave</td>\n",
       "      <td>NaN</td>\n",
       "      <td>IR1</td>\n",
       "      <td>Lvl</td>\n",
       "      <td>AllPub</td>\n",
       "      <td>...</td>\n",
       "      <td>0</td>\n",
       "      <td>NaN</td>\n",
       "      <td>NaN</td>\n",
       "      <td>NaN</td>\n",
       "      <td>0</td>\n",
       "      <td>2</td>\n",
       "      <td>2006</td>\n",
       "      <td>WD</td>\n",
       "      <td>Abnorml</td>\n",
       "      <td>140000</td>\n",
       "    </tr>\n",
       "    <tr>\n",
       "      <td>4</td>\n",
       "      <td>5</td>\n",
       "      <td>60</td>\n",
       "      <td>RL</td>\n",
       "      <td>84.0</td>\n",
       "      <td>14260</td>\n",
       "      <td>Pave</td>\n",
       "      <td>NaN</td>\n",
       "      <td>IR1</td>\n",
       "      <td>Lvl</td>\n",
       "      <td>AllPub</td>\n",
       "      <td>...</td>\n",
       "      <td>0</td>\n",
       "      <td>NaN</td>\n",
       "      <td>NaN</td>\n",
       "      <td>NaN</td>\n",
       "      <td>0</td>\n",
       "      <td>12</td>\n",
       "      <td>2008</td>\n",
       "      <td>WD</td>\n",
       "      <td>Normal</td>\n",
       "      <td>250000</td>\n",
       "    </tr>\n",
       "  </tbody>\n",
       "</table>\n",
       "<p>5 rows × 81 columns</p>\n",
       "</div>"
      ],
      "text/plain": [
       "   Id  MSSubClass MSZoning  LotFrontage  LotArea Street Alley LotShape  \\\n",
       "0   1          60       RL         65.0     8450   Pave   NaN      Reg   \n",
       "1   2          20       RL         80.0     9600   Pave   NaN      Reg   \n",
       "2   3          60       RL         68.0    11250   Pave   NaN      IR1   \n",
       "3   4          70       RL         60.0     9550   Pave   NaN      IR1   \n",
       "4   5          60       RL         84.0    14260   Pave   NaN      IR1   \n",
       "\n",
       "  LandContour Utilities  ... PoolArea PoolQC Fence MiscFeature MiscVal MoSold  \\\n",
       "0         Lvl    AllPub  ...        0    NaN   NaN         NaN       0      2   \n",
       "1         Lvl    AllPub  ...        0    NaN   NaN         NaN       0      5   \n",
       "2         Lvl    AllPub  ...        0    NaN   NaN         NaN       0      9   \n",
       "3         Lvl    AllPub  ...        0    NaN   NaN         NaN       0      2   \n",
       "4         Lvl    AllPub  ...        0    NaN   NaN         NaN       0     12   \n",
       "\n",
       "  YrSold  SaleType  SaleCondition  SalePrice  \n",
       "0   2008        WD         Normal     208500  \n",
       "1   2007        WD         Normal     181500  \n",
       "2   2008        WD         Normal     223500  \n",
       "3   2006        WD        Abnorml     140000  \n",
       "4   2008        WD         Normal     250000  \n",
       "\n",
       "[5 rows x 81 columns]"
      ]
     },
     "metadata": {},
     "output_type": "display_data"
    },
    {
     "data": {
      "text/plain": [
       "(1460, 81)"
      ]
     },
     "execution_count": 4,
     "metadata": {},
     "output_type": "execute_result"
    }
   ],
   "source": [
    "df = pd.read_csv('data.csv')\n",
    "display(df.head())\n",
    "df.shape"
   ]
  },
  {
   "cell_type": "markdown",
   "metadata": {
    "id": "F53ZESzAN0uN"
   },
   "source": [
    "Brief cleaning first. We would like to use some regression model to predict the sale prices (continuous values). Note that the main aim of this tutorial is not cleaning, but the feature transformation and selection. So we won't spend a lot of energy on cleaning."
   ]
  },
  {
   "cell_type": "code",
   "execution_count": 5,
   "metadata": {
    "id": "IYGk1d1qN0uN"
   },
   "outputs": [],
   "source": [
    "# Convert all object values to categorial format\n",
    "df[df.select_dtypes(include=['object']).columns] = df.select_dtypes(include=['object']).apply(pd.Series.astype, dtype='category')\n"
   ]
  },
  {
   "cell_type": "code",
   "execution_count": 6,
   "metadata": {
    "id": "0kmJ_2vnN0uN"
   },
   "outputs": [],
   "source": [
    "# Fill all numer NaN with 0\n",
    "df.loc[:,df.select_dtypes(include=['float64']).columns] = df.loc[:,df.select_dtypes(include=['float64']).columns].fillna(0)"
   ]
  },
  {
   "cell_type": "markdown",
   "metadata": {
    "id": "Wk4GDRgtN0uN"
   },
   "source": [
    "Now we have several categorical features with some missings."
   ]
  },
  {
   "cell_type": "code",
   "execution_count": 7,
   "metadata": {
    "id": "Gw6u1smgN0uN"
   },
   "outputs": [
    {
     "data": {
      "text/plain": [
       "MSZoning            0\n",
       "Street              0\n",
       "Alley            1369\n",
       "LotShape            0\n",
       "LandContour         0\n",
       "Utilities           0\n",
       "LotConfig           0\n",
       "LandSlope           0\n",
       "Neighborhood        0\n",
       "Condition1          0\n",
       "Condition2          0\n",
       "BldgType            0\n",
       "HouseStyle          0\n",
       "RoofStyle           0\n",
       "RoofMatl            0\n",
       "Exterior1st         0\n",
       "Exterior2nd         0\n",
       "MasVnrType          8\n",
       "ExterQual           0\n",
       "ExterCond           0\n",
       "Foundation          0\n",
       "BsmtQual           37\n",
       "BsmtCond           37\n",
       "BsmtExposure       38\n",
       "BsmtFinType1       37\n",
       "BsmtFinType2       38\n",
       "Heating             0\n",
       "HeatingQC           0\n",
       "CentralAir          0\n",
       "Electrical          1\n",
       "KitchenQual         0\n",
       "Functional          0\n",
       "FireplaceQu       690\n",
       "GarageType         81\n",
       "GarageFinish       81\n",
       "GarageQual         81\n",
       "GarageCond         81\n",
       "PavedDrive          0\n",
       "PoolQC           1453\n",
       "Fence            1179\n",
       "MiscFeature      1406\n",
       "SaleType            0\n",
       "SaleCondition       0\n",
       "dtype: int64"
      ]
     },
     "execution_count": 7,
     "metadata": {},
     "output_type": "execute_result"
    }
   ],
   "source": [
    "# list of categorical features with sum of missings\n",
    "df.select_dtypes(include=['category']).isnull().sum()\n",
    "\n",
    "# all features with missings\n",
    "#df.columns[df.isnull().any()]"
   ]
  },
  {
   "cell_type": "code",
   "execution_count": 8,
   "metadata": {
    "id": "yXOgsAG6N0uO"
   },
   "outputs": [
    {
     "data": {
      "text/plain": [
       "[NaN, Grvl, Pave]\n",
       "Categories (2, object): [Grvl, Pave]"
      ]
     },
     "execution_count": 8,
     "metadata": {},
     "output_type": "execute_result"
    }
   ],
   "source": [
    "# just check the values\n",
    "df['Alley'].unique()"
   ]
  },
  {
   "cell_type": "markdown",
   "metadata": {
    "id": "vg3jVDfDN0uO"
   },
   "source": [
    "## Feature transformations\n",
    "\n",
    "First, we focus on transformations that can help to increase the performance of prediction models.\n",
    "\n",
    "Since we want to use the linear regression as a prediction model it is usually beneficial to convert categorical (especially nominal) variables into indicators which is called one hot encoding."
   ]
  },
  {
   "cell_type": "code",
   "execution_count": 9,
   "metadata": {
    "id": "Vyxj5aA9N0uO"
   },
   "outputs": [
    {
     "name": "stdout",
     "output_type": "stream",
     "text": [
      "False\n"
     ]
    }
   ],
   "source": [
    "# Convert categorical variables to indicators and create new data\n",
    "df = pd.get_dummies(df) # one-hot encoding\n",
    "\n",
    "# check that there are no missings now\n",
    "print(df.isnull().any().any())"
   ]
  },
  {
   "cell_type": "code",
   "execution_count": 10,
   "metadata": {
    "id": "iWyoGKWuN0uO"
   },
   "outputs": [
    {
     "data": {
      "text/plain": [
       "uint8      252\n",
       "int64       35\n",
       "float64      3\n",
       "dtype: int64"
      ]
     },
     "execution_count": 10,
     "metadata": {},
     "output_type": "execute_result"
    }
   ],
   "source": [
    "df.dtypes.value_counts()"
   ]
  },
  {
   "cell_type": "markdown",
   "metadata": {
    "id": "8WTiui0HN0uO"
   },
   "source": [
    "Let us also convert all non-indicator values to float64 - which would be useful later."
   ]
  },
  {
   "cell_type": "code",
   "execution_count": 11,
   "metadata": {
    "id": "JkB8L5u2N0uO"
   },
   "outputs": [],
   "source": [
    "df[df.select_dtypes(['float64', 'int64']).columns] = df[df.select_dtypes(['float64', 'int64']).columns].astype('float64')"
   ]
  },
  {
   "cell_type": "code",
   "execution_count": 12,
   "metadata": {
    "id": "ydralPb6N0uP"
   },
   "outputs": [
    {
     "data": {
      "text/plain": [
       "uint8      252\n",
       "float64     38\n",
       "dtype: int64"
      ]
     },
     "execution_count": 12,
     "metadata": {},
     "output_type": "execute_result"
    }
   ],
   "source": [
    "df.dtypes.value_counts()"
   ]
  },
  {
   "cell_type": "markdown",
   "metadata": {
    "id": "bsvCGwjdN0uP"
   },
   "source": [
    "#### Sometimes it is useful to introduce new features based on the original ones"
   ]
  },
  {
   "cell_type": "code",
   "execution_count": 13,
   "metadata": {
    "id": "0w_GLlP4N0uP"
   },
   "outputs": [
    {
     "name": "stdout",
     "output_type": "stream",
     "text": [
      "Shape of the data: (1460, 290)\n"
     ]
    }
   ],
   "source": [
    "print('Shape of the data:', df.shape)"
   ]
  },
  {
   "cell_type": "code",
   "execution_count": 14,
   "metadata": {
    "id": "gW5xIS71N0uP"
   },
   "outputs": [
    {
     "name": "stdout",
     "output_type": "stream",
     "text": [
      "Shape of the data: (1460, 320)\n"
     ]
    }
   ],
   "source": [
    "# Let us create new features as square roots of area features\n",
    "# i.e. so they correspond to diameters of circles having the same area\n",
    "# We also add indicators of zero values (usually missings) there\n",
    "\n",
    "for column in df.filter(regex='Area|SF', axis=1).columns:  # SF - square foot which means area\n",
    "    df['Has' + column] = (df[column] > 0).replace({True: 1, False: 0}).astype('uint8')\n",
    "    df['Sqrt' + column] = np.sqrt(df[column])\n",
    "\n",
    "print('Shape of the data:', df.shape)"
   ]
  },
  {
   "cell_type": "code",
   "execution_count": 15,
   "metadata": {
    "id": "_RIFn2LwN0uP"
   },
   "outputs": [
    {
     "data": {
      "text/html": [
       "<div>\n",
       "<style scoped>\n",
       "    .dataframe tbody tr th:only-of-type {\n",
       "        vertical-align: middle;\n",
       "    }\n",
       "\n",
       "    .dataframe tbody tr th {\n",
       "        vertical-align: top;\n",
       "    }\n",
       "\n",
       "    .dataframe thead th {\n",
       "        text-align: right;\n",
       "    }\n",
       "</style>\n",
       "<table border=\"1\" class=\"dataframe\">\n",
       "  <thead>\n",
       "    <tr style=\"text-align: right;\">\n",
       "      <th></th>\n",
       "      <th>LotArea</th>\n",
       "      <th>MasVnrArea</th>\n",
       "      <th>GrLivArea</th>\n",
       "      <th>GarageArea</th>\n",
       "      <th>PoolArea</th>\n",
       "      <th>HasLotArea</th>\n",
       "      <th>SqrtLotArea</th>\n",
       "      <th>HasMasVnrArea</th>\n",
       "      <th>SqrtMasVnrArea</th>\n",
       "      <th>HasGrLivArea</th>\n",
       "      <th>SqrtGrLivArea</th>\n",
       "      <th>HasGarageArea</th>\n",
       "      <th>SqrtGarageArea</th>\n",
       "      <th>HasPoolArea</th>\n",
       "      <th>SqrtPoolArea</th>\n",
       "    </tr>\n",
       "  </thead>\n",
       "  <tbody>\n",
       "    <tr>\n",
       "      <td>0</td>\n",
       "      <td>8450.0</td>\n",
       "      <td>196.0</td>\n",
       "      <td>1710.0</td>\n",
       "      <td>548.0</td>\n",
       "      <td>0.0</td>\n",
       "      <td>1</td>\n",
       "      <td>91.923882</td>\n",
       "      <td>1</td>\n",
       "      <td>14.000000</td>\n",
       "      <td>1</td>\n",
       "      <td>41.352146</td>\n",
       "      <td>1</td>\n",
       "      <td>23.409400</td>\n",
       "      <td>0</td>\n",
       "      <td>0.0</td>\n",
       "    </tr>\n",
       "    <tr>\n",
       "      <td>1</td>\n",
       "      <td>9600.0</td>\n",
       "      <td>0.0</td>\n",
       "      <td>1262.0</td>\n",
       "      <td>460.0</td>\n",
       "      <td>0.0</td>\n",
       "      <td>1</td>\n",
       "      <td>97.979590</td>\n",
       "      <td>0</td>\n",
       "      <td>0.000000</td>\n",
       "      <td>1</td>\n",
       "      <td>35.524639</td>\n",
       "      <td>1</td>\n",
       "      <td>21.447611</td>\n",
       "      <td>0</td>\n",
       "      <td>0.0</td>\n",
       "    </tr>\n",
       "    <tr>\n",
       "      <td>2</td>\n",
       "      <td>11250.0</td>\n",
       "      <td>162.0</td>\n",
       "      <td>1786.0</td>\n",
       "      <td>608.0</td>\n",
       "      <td>0.0</td>\n",
       "      <td>1</td>\n",
       "      <td>106.066017</td>\n",
       "      <td>1</td>\n",
       "      <td>12.727922</td>\n",
       "      <td>1</td>\n",
       "      <td>42.261093</td>\n",
       "      <td>1</td>\n",
       "      <td>24.657656</td>\n",
       "      <td>0</td>\n",
       "      <td>0.0</td>\n",
       "    </tr>\n",
       "    <tr>\n",
       "      <td>3</td>\n",
       "      <td>9550.0</td>\n",
       "      <td>0.0</td>\n",
       "      <td>1717.0</td>\n",
       "      <td>642.0</td>\n",
       "      <td>0.0</td>\n",
       "      <td>1</td>\n",
       "      <td>97.724101</td>\n",
       "      <td>0</td>\n",
       "      <td>0.000000</td>\n",
       "      <td>1</td>\n",
       "      <td>41.436699</td>\n",
       "      <td>1</td>\n",
       "      <td>25.337719</td>\n",
       "      <td>0</td>\n",
       "      <td>0.0</td>\n",
       "    </tr>\n",
       "    <tr>\n",
       "      <td>4</td>\n",
       "      <td>14260.0</td>\n",
       "      <td>350.0</td>\n",
       "      <td>2198.0</td>\n",
       "      <td>836.0</td>\n",
       "      <td>0.0</td>\n",
       "      <td>1</td>\n",
       "      <td>119.415242</td>\n",
       "      <td>1</td>\n",
       "      <td>18.708287</td>\n",
       "      <td>1</td>\n",
       "      <td>46.882833</td>\n",
       "      <td>1</td>\n",
       "      <td>28.913665</td>\n",
       "      <td>0</td>\n",
       "      <td>0.0</td>\n",
       "    </tr>\n",
       "  </tbody>\n",
       "</table>\n",
       "</div>"
      ],
      "text/plain": [
       "   LotArea  MasVnrArea  GrLivArea  GarageArea  PoolArea  HasLotArea  \\\n",
       "0   8450.0       196.0     1710.0       548.0       0.0           1   \n",
       "1   9600.0         0.0     1262.0       460.0       0.0           1   \n",
       "2  11250.0       162.0     1786.0       608.0       0.0           1   \n",
       "3   9550.0         0.0     1717.0       642.0       0.0           1   \n",
       "4  14260.0       350.0     2198.0       836.0       0.0           1   \n",
       "\n",
       "   SqrtLotArea  HasMasVnrArea  SqrtMasVnrArea  HasGrLivArea  SqrtGrLivArea  \\\n",
       "0    91.923882              1       14.000000             1      41.352146   \n",
       "1    97.979590              0        0.000000             1      35.524639   \n",
       "2   106.066017              1       12.727922             1      42.261093   \n",
       "3    97.724101              0        0.000000             1      41.436699   \n",
       "4   119.415242              1       18.708287             1      46.882833   \n",
       "\n",
       "   HasGarageArea  SqrtGarageArea  HasPoolArea  SqrtPoolArea  \n",
       "0              1       23.409400            0           0.0  \n",
       "1              1       21.447611            0           0.0  \n",
       "2              1       24.657656            0           0.0  \n",
       "3              1       25.337719            0           0.0  \n",
       "4              1       28.913665            0           0.0  "
      ]
     },
     "execution_count": 15,
     "metadata": {},
     "output_type": "execute_result"
    }
   ],
   "source": [
    "# See the results for Area features\n",
    "df[df.filter(regex='Area', axis=1).columns].head()\n",
    "\n",
    "# LotArea: Lot size in square feet\n",
    "# MasVnrArea: Masonry veneer area in square feet\n",
    "# GrLivArea: Above grade (ground) living area square feet\n",
    "# GarageArea: Size of garage in square feet\n",
    "# PoolArea: Pool area in square feet"
   ]
  },
  {
   "cell_type": "code",
   "execution_count": 16,
   "metadata": {
    "id": "0f8JdgGrN0uP"
   },
   "outputs": [
    {
     "data": {
      "text/plain": [
       "<matplotlib.axes._subplots.AxesSubplot at 0x7f4e4df03350>"
      ]
     },
     "execution_count": 16,
     "metadata": {},
     "output_type": "execute_result"
    },
    {
     "data": {
      "image/png": "[encoded data removed]",
      "text/plain": [
       "<Figure size 1080x360 with 2 Axes>"
      ]
     },
     "metadata": {
      "needs_background": "light"
     },
     "output_type": "display_data"
    }
   ],
   "source": [
    "# Distribution visualisation\n",
    "f, axes = plt.subplots(1, 2, figsize=(15,5))\n",
    "sns.distplot(df[df.LotArea>0].LotArea, ax=axes[0], kde=False) \n",
    "sns.distplot(df[df.LotArea>0].SqrtLotArea, ax=axes[1], kde=False)"
   ]
  },
  {
   "cell_type": "markdown",
   "metadata": {
    "id": "4JXgTbMcN0uQ"
   },
   "source": [
    "#### Constant features removal\n",
    "They are not beneficial for the model."
   ]
  },
  {
   "cell_type": "code",
   "execution_count": 17,
   "metadata": {
    "id": "gquA8vZZN0uQ"
   },
   "outputs": [
    {
     "data": {
      "text/plain": [
       "Index(['HasLotArea', 'Has1stFlrSF', 'HasGrLivArea'], dtype='object')"
      ]
     },
     "metadata": {},
     "output_type": "display_data"
    }
   ],
   "source": [
    "# Remove constant features\n",
    "display(df.columns[df.min() == df.max()])\n",
    "df = df[df.columns[df.min() != df.max()]]"
   ]
  },
  {
   "cell_type": "markdown",
   "metadata": {
    "id": "8K02L3QyN0uQ"
   },
   "source": [
    "#### Split train &validation data to be able to study the influence of further steps"
   ]
  },
  {
   "cell_type": "code",
   "execution_count": 18,
   "metadata": {
    "id": "acy5hlEFN0uQ"
   },
   "outputs": [
    {
     "name": "stdout",
     "output_type": "stream",
     "text": [
      "Train:  1095 ; Validation:  365\n"
     ]
    }
   ],
   "source": [
    "dt, dv = model_selection.train_test_split(df, test_size=0.25, random_state=17)\n",
    "dt = dt.copy()\n",
    "dv = dv.copy()\n",
    "print('Train: ', len(dt), '; Validation: ', len(dv))"
   ]
  },
  {
   "cell_type": "markdown",
   "metadata": {
    "id": "AmornIF3N0uQ"
   },
   "source": [
    "#### Prepare models run to be able to study the influence of further steps"
   ]
  },
  {
   "cell_type": "code",
   "execution_count": 19,
   "metadata": {
    "id": "6pkwu2J5N0uQ"
   },
   "outputs": [],
   "source": [
    "def linreg(train, validate, plot = True, train_error = True):\n",
    "    # Data prepare\n",
    "    X = train.drop(['SalePrice'], axis = 1, errors = 'ignore')\n",
    "    y = train.SalePrice\n",
    "    Xv = validate.drop(['SalePrice'], axis = 1, errors = 'ignore')\n",
    "    yv = validate.SalePrice\n",
    "    \n",
    "    # Linear Regression train\n",
    "    clf = linear_model.LinearRegression()\n",
    "    clf.fit(X, y) \n",
    "    \n",
    "    # Print RMSE\n",
    "    print(f'Linear regression root mean squared validation error: {np.sqrt(metrics.mean_squared_error(clf.predict(Xv),yv)):.0f}')\n",
    "    if train_error:\n",
    "        print(f'Linear regression root mean squared train error: {np.sqrt(metrics.mean_squared_error(clf.predict(X), y)):.0f}')\n",
    "    \n",
    "    # Plot\n",
    "    if plot:\n",
    "        plt.scatter(yv, clf.predict(Xv))\n",
    "        plt.plot([0,600000], [0,600000], 'r')\n",
    "        plt.show()\n",
    "\n",
    "def ridgereg(train, validate, plot = True, train_error = True, print_opt = False): \n",
    "    # Prepare functions to automatic alpha determination using cross validation\n",
    "    def scorer(Y, yp):\n",
    "        return np.sqrt(metrics.mean_squared_error(Y, yp)) # RMSE as scorer\n",
    "    def ridgemodel(alpha):\n",
    "        clf = linear_model.Ridge(alpha=alpha)\n",
    "        return np.mean(model_selection.cross_val_score(clf, X, y, cv=5, scoring=metrics.make_scorer(scorer)))\n",
    "\n",
    "    # Data prepare\n",
    "    X = train.drop(['SalePrice'], axis = 1, errors = 'ignore')\n",
    "    y = train.SalePrice\n",
    "    Xv = validate.drop(['SalePrice'], axis = 1, errors = 'ignore')\n",
    "    yv = validate.SalePrice\n",
    "    \n",
    "    # Find Ridge alpha automatically\n",
    "    opt_alpha = optimize.minimize_scalar(ridgemodel, options = {'maxiter': 30}, method = 'bounded', bounds=(0.1, 400))\n",
    "    if print_opt:\n",
    "        print(opt_alpha)\n",
    "    \n",
    "    # Ridge regression model\n",
    "    clf = linear_model.Ridge(alpha=opt_alpha.x)\n",
    "    clf.fit(X, y) \n",
    "    \n",
    "    # Print RMSE\n",
    "    print(f'Ridge regression root mean squared validation error: {np.sqrt(metrics.mean_squared_error(clf.predict(Xv),yv)):.0f}')\n",
    "    if train_error:\n",
    "        print(f'Ridge regression root mean squared train error: {np.sqrt(metrics.mean_squared_error(clf.predict(X), y)):.0f}')\n",
    "    # Plot\n",
    "    if plot:\n",
    "        plt.scatter(yv, clf.predict(Xv))\n",
    "        plt.plot([0,600000], [0,600000], 'r')\n",
    "        plt.show()"
   ]
  },
  {
   "cell_type": "code",
   "execution_count": 20,
   "metadata": {
    "id": "kgrmQcTCN0uR"
   },
   "outputs": [
    {
     "name": "stdout",
     "output_type": "stream",
     "text": [
      "Linear regression root mean squared validation error: 27659\n",
      "Linear regression root mean squared train error: 18135\n"
     ]
    },
    {
     "data": {
      "image/png": "[encoded data removed]",
      "text/plain": [
       "<Figure size 432x288 with 1 Axes>"
      ]
     },
     "metadata": {
      "needs_background": "light"
     },
     "output_type": "display_data"
    },
    {
     "name": "stdout",
     "output_type": "stream",
     "text": [
      "----\n",
      "Ridge regression root mean squared validation error: 26868\n",
      "Ridge regression root mean squared train error: 23473\n"
     ]
    },
    {
     "data": {
      "image/png": "[encoded data removed]",
      "text/plain": [
       "<Figure size 432x288 with 1 Axes>"
      ]
     },
     "metadata": {
      "needs_background": "light"
     },
     "output_type": "display_data"
    }
   ],
   "source": [
    "# Run both models\n",
    "linreg(dt, dv)\n",
    "print(\"----\")\n",
    "ridgereg(dt, dv)"
   ]
  },
  {
   "cell_type": "markdown",
   "metadata": {
    "id": "eWafyH-pN0uR"
   },
   "source": [
    "We can see that without any special transformations and feature selection ridge regression is better than pure linear regression."
   ]
  },
  {
   "cell_type": "markdown",
   "metadata": {
    "id": "UmTzyq-JN0uR"
   },
   "source": [
    "## Features normalization\n",
    "Rescale features in a way that they are be more comparable. Normalization of some features can improve the performance (e.g. ridge regression).\n",
    "\n",
    "We will focus on:\n",
    "* **Standardization** - result has a sample mean 0 and sample variance 1,\n",
    "* **Min-max normalization** - the resulting range is [0,1]."
   ]
  },
  {
   "cell_type": "markdown",
   "metadata": {
    "id": "XqZs41PWN0uS"
   },
   "source": [
    "### Task - discuss which features are reasonable to normalization"
   ]
  },
  {
   "cell_type": "code",
   "execution_count": 21,
   "metadata": {
    "id": "sQ6IMmHkN0uS"
   },
   "outputs": [],
   "source": [
    "# Your code here (if you need any)\n",
    "\n",
    "\n"
   ]
  },
  {
   "cell_type": "code",
   "execution_count": 22,
   "metadata": {
    "id": "hTxMlnfZN0uS"
   },
   "outputs": [
    {
     "name": "stdout",
     "output_type": "stream",
     "text": [
      "Columns to be normalized:  ['Id', 'MSSubClass', 'LotFrontage', 'LotArea', 'OverallQual', 'OverallCond', 'YearBuilt', 'YearRemodAdd', 'MasVnrArea', 'BsmtFinSF1', 'BsmtFinSF2', 'BsmtUnfSF', 'TotalBsmtSF', '1stFlrSF', '2ndFlrSF', 'LowQualFinSF', 'GrLivArea', 'BsmtFullBath', 'BsmtHalfBath', 'FullBath', 'HalfBath', 'BedroomAbvGr', 'KitchenAbvGr', 'TotRmsAbvGrd', 'Fireplaces', 'GarageYrBlt', 'GarageCars', 'GarageArea', 'WoodDeckSF', 'OpenPorchSF', 'EnclosedPorch', '3SsnPorch', 'ScreenPorch', 'PoolArea', 'MiscVal', 'MoSold', 'YrSold', 'SqrtLotArea', 'SqrtMasVnrArea', 'SqrtBsmtFinSF1', 'SqrtBsmtFinSF2', 'SqrtBsmtUnfSF', 'SqrtTotalBsmtSF', 'Sqrt1stFlrSF', 'Sqrt2ndFlrSF', 'SqrtLowQualFinSF', 'SqrtGrLivArea', 'SqrtGarageArea', 'SqrtWoodDeckSF', 'SqrtOpenPorchSF', 'SqrtPoolArea']\n"
     ]
    }
   ],
   "source": [
    "# Standardization\n",
    "standard_scaler = preprocessing.StandardScaler()\n",
    "# Min-max normalization\n",
    "minmax_scaler = preprocessing.MinMaxScaler()\n",
    "\n",
    "# we rescale only numeric values - not indicators\n",
    "columns = dt.select_dtypes(include=['float64']).columns \n",
    "columns = columns.drop('SalePrice', errors = 'ignore')\n",
    "print('Columns to be normalized: ', list(columns))\n",
    "\n",
    "# Prepare values for the transformation\n",
    "standard_scaler.fit(dt[columns])\n",
    "minmax_scaler.fit(dt[columns])\n",
    "\n",
    "# Transform of both train and validation\n",
    "# Standardization\n",
    "dt_s = dt.copy()\n",
    "dv_s = dv.copy()\n",
    "dt_s[columns] = standard_scaler.transform(dt[columns])\n",
    "dv_s[columns] = standard_scaler.transform(dv[columns])\n",
    "# MinMax\n",
    "dt_m = dt.copy()\n",
    "dv_m = dv.copy()\n",
    "dt_m[columns] = minmax_scaler.transform(dt[columns])\n",
    "dv_m[columns] = minmax_scaler.transform(dv[columns])"
   ]
  },
  {
   "cell_type": "code",
   "execution_count": 23,
   "metadata": {
    "id": "VYGstFLGN0uS"
   },
   "outputs": [
    {
     "data": {
      "text/plain": [
       "<matplotlib.axes._subplots.AxesSubplot at 0x7f4e4b33b590>"
      ]
     },
     "execution_count": 23,
     "metadata": {},
     "output_type": "execute_result"
    },
    {
     "data": {
      "image/png": "[encoded data removed]",
      "text/plain": [
       "<Figure size 1080x360 with 3 Axes>"
      ]
     },
     "metadata": {
      "needs_background": "light"
     },
     "output_type": "display_data"
    }
   ],
   "source": [
    "# Distribution of one concrete feature (an ordinal one)\n",
    "f, axes = plt.subplots(1, 3, figsize=(15,5))\n",
    "sns.distplot(dt.OverallQual, kde = False, ax = axes[0])\n",
    "sns.distplot(dt_s.OverallQual, kde = False, ax = axes[1])\n",
    "sns.distplot(dt_m.OverallQual, kde = False, ax = axes[2])"
   ]
  },
  {
   "cell_type": "code",
   "execution_count": 24,
   "metadata": {
    "id": "YPPtVpyqN0uS"
   },
   "outputs": [
    {
     "name": "stdout",
     "output_type": "stream",
     "text": [
      "Standardized data\n",
      "Linear regression root mean squared validation error: 44914431109942\n",
      "Linear regression root mean squared train error: 18135\n"
     ]
    },
    {
     "data": {
      "image/png": "[encoded data removed]",
      "text/plain": [
       "<Figure size 432x288 with 1 Axes>"
      ]
     },
     "metadata": {
      "needs_background": "light"
     },
     "output_type": "display_data"
    },
    {
     "name": "stdout",
     "output_type": "stream",
     "text": [
      "----\n",
      "Ridge regression root mean squared validation error: 26602\n",
      "Ridge regression root mean squared train error: 25037\n"
     ]
    },
    {
     "data": {
      "image/png": "[encoded data removed]",
      "text/plain": [
       "<Figure size 432x288 with 1 Axes>"
      ]
     },
     "metadata": {
      "needs_background": "light"
     },
     "output_type": "display_data"
    },
    {
     "name": "stdout",
     "output_type": "stream",
     "text": [
      "\n",
      "======================\n",
      "MinMax normalized data\n",
      "Linear regression root mean squared validation error: 2748650536950086\n",
      "Linear regression root mean squared train error: 18559\n"
     ]
    },
    {
     "data": {
      "image/png": "[encoded data removed]",
      "text/plain": [
       "<Figure size 432x288 with 1 Axes>"
      ]
     },
     "metadata": {
      "needs_background": "light"
     },
     "output_type": "display_data"
    },
    {
     "name": "stdout",
     "output_type": "stream",
     "text": [
      "----\n",
      "Ridge regression root mean squared validation error: 27198\n",
      "Ridge regression root mean squared train error: 25481\n"
     ]
    },
    {
     "data": {
      "image/png": "[encoded data removed]",
      "text/plain": [
       "<Figure size 432x288 with 1 Axes>"
      ]
     },
     "metadata": {
      "needs_background": "light"
     },
     "output_type": "display_data"
    }
   ],
   "source": [
    "# Run both models\n",
    "print('Standardized data')\n",
    "linreg(dt_s, dv_s)\n",
    "print(\"----\")\n",
    "ridgereg(dt_s, dv_s)\n",
    "\n",
    "print('\\n======================\\nMinMax normalized data')\n",
    "linreg(dt_m, dv_m)\n",
    "print(\"----\")\n",
    "ridgereg(dt_m, dv_m)"
   ]
  },
  {
   "cell_type": "markdown",
   "metadata": {
    "id": "UXCnIIIgN0uS"
   },
   "source": [
    "Standardization was beneficial for Ridge regression but completely destroyed the results for linear regression."
   ]
  },
  {
   "cell_type": "markdown",
   "metadata": {
    "id": "K6lpmelFN0uT"
   },
   "source": [
    "## Feature selection\n",
    "Feature selection can help to decrease the complexity of the model which:\n",
    "* prevents overfitting\n",
    "* helps to speedup training"
   ]
  },
  {
   "cell_type": "markdown",
   "metadata": {
    "id": "djOw2y0QN0uT"
   },
   "source": [
    "### Find irrelevant features - filter methods\n",
    "First focus on the so called **filter methods** where we assess individual features, independently of other features, according to some quality measure (e.g. the variance, the correlation with the target variable,...). Filter methods are supposed to suppress the least interesting variables.\n",
    "\n",
    "Some features are irrelevant just because of our **domain knowledge**."
   ]
  },
  {
   "cell_type": "code",
   "execution_count": 25,
   "metadata": {
    "id": "buGm89PmN0uT"
   },
   "outputs": [],
   "source": [
    "# Drop Id - we will store all features to drop in the columns_to_remove list\n",
    "columns_to_remove = ['Id']"
   ]
  },
  {
   "cell_type": "markdown",
   "metadata": {
    "id": "wTZAOLo3N0uT"
   },
   "source": [
    "#### Variance approach\n",
    "Others can be detected as a variables with very **low variance**. It means that they are almost constant. \n",
    "\n",
    "Be careful, this is strongly influenced by previous transformations!\n",
    "\n",
    "E.g. when standardization was applied - all variables have variance 1."
   ]
  },
  {
   "cell_type": "code",
   "execution_count": 26,
   "metadata": {
    "id": "RK2bLF8iN0uT"
   },
   "outputs": [
    {
     "name": "stdout",
     "output_type": "stream",
     "text": [
      "Id                      1.000914\n",
      "HouseStyle_2.5Unf       0.009954\n",
      "MasVnrType_BrkCmn       0.009954\n",
      "SaleCondition_Alloca    0.009954\n",
      "Functional_Mod          0.009057\n",
      "dtype: float64\n",
      "RoofMatl_Metal      0.000000\n",
      "Utilities_AllPub    0.000000\n",
      "Utilities_NoSeWa    0.000000\n",
      "Condition2_RRNn     0.000000\n",
      "Condition2_RRAn     0.000913\n",
      "dtype: float64\n",
      "91\n"
     ]
    }
   ],
   "source": [
    "# Find features with low variance - we assume that they cannot help to infer the observable\n",
    "# this makes sense especially for indicators\n",
    "# note that after the standardization all non-indicator variables have variance 1\n",
    "# note that for an indicator with true prob p is the var given by p*(1-p) - for p = 0.01 we have 0.0099\n",
    "\n",
    "columns_to_remove = list(set(list(dt_s.columns[dt_s.var() < 0.01]) + columns_to_remove)) \n",
    "\n",
    "# top largest < 0.01\n",
    "print(dt_s[columns_to_remove].var().nlargest(5))\n",
    "# # top smallest\n",
    "print(dt_s[columns_to_remove].var().nsmallest(5))\n",
    "# # number of small ones\n",
    "print(len(columns_to_remove))"
   ]
  },
  {
   "cell_type": "markdown",
   "metadata": {
    "id": "gGvCVwdoN0uT"
   },
   "source": [
    "A more sophisticated approach is to study the relation of a feature to the target variable.\n",
    "\n",
    "#### Correlation approach\n",
    "\n",
    "Analysis of the correlation with the target variable. Note that Linear scaling of features doesn't influence the result."
   ]
  },
  {
   "cell_type": "code",
   "execution_count": 27,
   "metadata": {
    "id": "DZYYoPDQN0uU"
   },
   "outputs": [],
   "source": [
    "# Correlation matrix Pearson & Spearman\n",
    "corrP = dt.drop(columns_to_remove, axis = 1, errors = 'ignore').corr(method='pearson')\n",
    "corrS = dt.drop(columns_to_remove, axis = 1, errors = 'ignore').corr(method='spearman')"
   ]
  },
  {
   "cell_type": "code",
   "execution_count": 28,
   "metadata": {
    "id": "vxQu8-X8N0uU"
   },
   "outputs": [
    {
     "data": {
      "text/plain": [
       "SalePrice        1.000000\n",
       "OverallQual      0.791963\n",
       "SqrtGrLivArea    0.707052\n",
       "GrLivArea        0.703866\n",
       "GarageCars       0.645009\n",
       "GarageArea       0.622276\n",
       "Sqrt1stFlrSF     0.615341\n",
       "1stFlrSF         0.615080\n",
       "TotalBsmtSF      0.614957\n",
       "ExterQual_TA    -0.574401\n",
       "Name: SalePrice, dtype: float64"
      ]
     },
     "metadata": {},
     "output_type": "display_data"
    },
    {
     "data": {
      "text/plain": [
       "SalePrice         1.000000\n",
       "OverallQual       0.810410\n",
       "GrLivArea         0.735184\n",
       "SqrtGrLivArea     0.735184\n",
       "GarageCars        0.694128\n",
       "GarageArea        0.648908\n",
       "SqrtGarageArea    0.648908\n",
       "YearBuilt         0.644751\n",
       "FullBath          0.642719\n",
       "GarageYrBlt       0.632785\n",
       "Name: SalePrice, dtype: float64"
      ]
     },
     "metadata": {},
     "output_type": "display_data"
    }
   ],
   "source": [
    "# Pearson top 10 with target\n",
    "corrP_cols = corrP.SalePrice.abs().nlargest(10).index\n",
    "display(corrP.SalePrice.loc[corrP_cols])\n",
    "# Spearman top 10 with target\n",
    "corrS_cols = corrS.SalePrice.abs().nlargest(10).index\n",
    "display(corrS.SalePrice.loc[corrS_cols])"
   ]
  },
  {
   "cell_type": "code",
   "execution_count": 29,
   "metadata": {
    "id": "2VSBW7xKN0uU"
   },
   "outputs": [
    {
     "data": {
      "text/plain": [
       "<matplotlib.axes._subplots.AxesSubplot at 0x7f4e4afbc150>"
      ]
     },
     "execution_count": 29,
     "metadata": {},
     "output_type": "execute_result"
    },
    {
     "data": {
      "image/png": "[encoded data removed]",
      "text/plain": [
       "<Figure size 1080x504 with 2 Axes>"
      ]
     },
     "metadata": {
      "needs_background": "light"
     },
     "output_type": "display_data"
    }
   ],
   "source": [
    "# Plot those correlations\n",
    "fig, axs = plt.subplots(ncols=2, figsize=(15,7))\n",
    "sns.heatmap(corrP.abs().loc[corrP_cols,corrP_cols],ax=axs[0], cbar=False, annot=True, square=True, fmt='.2f', annot_kws={'size': 10}, yticklabels=corrP_cols.values, xticklabels=corrP_cols.values)\n",
    "sns.heatmap(corrS.abs().loc[corrS_cols,corrS_cols],ax=axs[1], cbar=False, annot=True, square=True, fmt='.2f', annot_kws={'size': 10}, yticklabels=corrS_cols.values, xticklabels=corrS_cols.values)"
   ]
  },
  {
   "cell_type": "code",
   "execution_count": 30,
   "metadata": {
    "id": "lznGg99SN0uU"
   },
   "outputs": [
    {
     "data": {
      "text/plain": [
       "<matplotlib.axes._subplots.AxesSubplot at 0x7f4e4b014210>"
      ]
     },
     "execution_count": 30,
     "metadata": {},
     "output_type": "execute_result"
    },
    {
     "data": {
      "image/png": "[encoded data removed]",
      "text/plain": [
       "<Figure size 432x288 with 1 Axes>"
      ]
     },
     "metadata": {
      "needs_background": "light"
     },
     "output_type": "display_data"
    }
   ],
   "source": [
    "# OverallQual is an ordinal categorical variable stored in numbers\n",
    "sns.boxplot(x='OverallQual', y='SalePrice', data=dt)"
   ]
  },
  {
   "cell_type": "markdown",
   "metadata": {
    "id": "8F2okaJLN0uU"
   },
   "source": [
    "This can be used to remove features that are almost not correlated with the target variable. \n",
    "\n",
    "It makes sense for linear regression.\n",
    "\n",
    "For non-linear models one has to be more careful since the correlation measures only the **linear** relation. They might be full functionally dependent (but not linearly) and have correlation 0."
   ]
  },
  {
   "cell_type": "code",
   "execution_count": 31,
   "metadata": {
    "id": "bvP_2LNjN0uU"
   },
   "outputs": [
    {
     "name": "stdout",
     "output_type": "stream",
     "text": [
      "['BsmtFinSF2', 'BsmtHalfBath', 'Condition1_RRAn', 'Fence_GdPrv']\n"
     ]
    }
   ],
   "source": [
    "# One can remove those with correlation smaller than some treshold.\n",
    "additional_columns = list(corrP.SalePrice[corrP.SalePrice.abs() < 0.001].index)\n",
    "print(additional_columns)\n",
    "# extend columns_to_remove\n",
    "columns_to_remove = list(set(columns_to_remove + additional_columns))"
   ]
  },
  {
   "cell_type": "code",
   "execution_count": 32,
   "metadata": {
    "id": "BrIpv7bnN0uU"
   },
   "outputs": [
    {
     "name": "stdout",
     "output_type": "stream",
     "text": [
      "5 largest P-values:\n"
     ]
    },
    {
     "data": {
      "text/plain": [
       "LandContour_Lvl         0.925093\n",
       "LotConfig_FR2           0.819261\n",
       "BldgType_TwnhsE         0.762734\n",
       "Neighborhood_SawyerW    0.736229\n",
       "Heating_GasW            0.659390\n",
       "dtype: float64"
      ]
     },
     "metadata": {},
     "output_type": "display_data"
    },
    {
     "name": "stdout",
     "output_type": "stream",
     "text": [
      "5 smallest (absolute value) correlations:\n"
     ]
    },
    {
     "data": {
      "text/plain": [
       "LandContour_Lvl         0.002845\n",
       "LotConfig_FR2           0.006913\n",
       "BldgType_TwnhsE         0.009133\n",
       "Neighborhood_SawyerW    0.010191\n",
       "Heating_GasW            0.013334\n",
       "Name: SalePrice, dtype: float64"
      ]
     },
     "metadata": {},
     "output_type": "display_data"
    }
   ],
   "source": [
    "# Alternatively, if we don't want to set a treshold in correlation values (we don't know what value to choose)\n",
    "# we can do the analogous selection based on p-values of statistical test about the zero correlation\n",
    "\n",
    "# prepare data\n",
    "X = dt.drop(columns_to_remove, axis = 1, errors = 'ignore').drop(['SalePrice'], axis = 1, errors = 'ignore')\n",
    "y = dt.SalePrice\n",
    "\n",
    "# calculate p-values of the corresponding F-test\n",
    "Fscores, pvals = feature_selection.f_regression(X,y)\n",
    "pvals_result = pd.Series(pvals, index = X.columns)\n",
    "print(\"5 largest P-values:\")\n",
    "display(pvals_result.nlargest(5))\n",
    "print(\"5 smallest (absolute value) correlations:\")\n",
    "display(corrP.SalePrice.drop(columns_to_remove, errors = 'ignore').abs().nsmallest(5))"
   ]
  },
  {
   "cell_type": "code",
   "execution_count": 33,
   "metadata": {
    "id": "GM5Z6KIpN0uU"
   },
   "outputs": [
    {
     "name": "stdout",
     "output_type": "stream",
     "text": [
      "['LandContour_Lvl', 'LotConfig_FR2']\n"
     ]
    }
   ],
   "source": [
    "# One can remove those with p-value smaller than some treshold. 80%\n",
    "additional_columns = list(pvals_result[pvals_result > 0.8].index)\n",
    "print(additional_columns)\n",
    "# extend columns_to_remove\n",
    "columns_to_remove = list(set(columns_to_remove + additional_columns))"
   ]
  },
  {
   "cell_type": "markdown",
   "metadata": {
    "id": "fXvlgwh-N0uV"
   },
   "source": [
    "#### T-test approach for indicator variables\n",
    "For indicator variables we can measure if the value of the indicator influences the value of the target variable. If not, then it is probably not a relevant feature (especially for linear regression).\n",
    "\n",
    "We shall use the t-test to check whether the value of a selected indicator influence on the mean of the target variable."
   ]
  },
  {
   "cell_type": "code",
   "execution_count": 34,
   "metadata": {
    "id": "121UomvsN0uV"
   },
   "outputs": [
    {
     "data": {
      "text/plain": [
       "LotConfig_Corner        0.880203\n",
       "BldgType_TwnhsE         0.853574\n",
       "Heating_GasW            0.447864\n",
       "Neighborhood_SawyerW    0.439773\n",
       "Exterior2nd_BrkFace     0.435870\n",
       "dtype: float64"
      ]
     },
     "metadata": {},
     "output_type": "display_data"
    },
    {
     "data": {
      "text/plain": [
       "KitchenQual_TA       8.315298e-95\n",
       "ExterQual_TA         5.601284e-93\n",
       "BsmtQual_TA          4.684438e-82\n",
       "Foundation_PConc     2.762385e-79\n",
       "GarageType_Detchd    1.417977e-73\n",
       "dtype: float64"
      ]
     },
     "metadata": {},
     "output_type": "display_data"
    }
   ],
   "source": [
    "# Perform t-test with indicator variables - calculate p-values\n",
    "ttest_pvals = df\\\n",
    "    .drop(columns_to_remove, axis = 1, errors = 'ignore')\\\n",
    "    .select_dtypes(include = ['uint8']).columns\\\n",
    "    .to_series()\\\n",
    "    .apply(lambda x: stats.ttest_ind(df.SalePrice[df[x] == 0], df.SalePrice[df[x] == 1], equal_var = False).pvalue)\n",
    "\n",
    "# show largest and smallest p-values\n",
    "display(ttest_pvals.nlargest(5))\n",
    "display(ttest_pvals.nsmallest(5))"
   ]
  },
  {
   "cell_type": "markdown",
   "metadata": {
    "id": "pwmJuAygN0uV"
   },
   "source": [
    "What does this mean?"
   ]
  },
  {
   "cell_type": "code",
   "execution_count": 35,
   "metadata": {
    "id": "yxNvlFSfN0uV"
   },
   "outputs": [
    {
     "data": {
      "text/plain": [
       "<matplotlib.axes._subplots.AxesSubplot at 0x7f4e4ddee850>"
      ]
     },
     "execution_count": 35,
     "metadata": {},
     "output_type": "execute_result"
    },
    {
     "data": {
      "image/png": "[encoded data removed]",
      "text/plain": [
       "<Figure size 1080x504 with 2 Axes>"
      ]
     },
     "metadata": {
      "needs_background": "light"
     },
     "output_type": "display_data"
    }
   ],
   "source": [
    "fig, axs = plt.subplots(ncols=2, figsize=(15,7))\n",
    "sns.boxplot(x='KitchenQual_TA', y='SalePrice', data=dt,ax=axs[0])\n",
    "sns.boxplot(x='LotConfig_Corner', y='SalePrice', data=dt,ax=axs[1])"
   ]
  },
  {
   "cell_type": "markdown",
   "metadata": {
    "id": "9g4DLWb_N0uV"
   },
   "source": [
    "We can see that small $p$-values corresponds to high differentiation in a target variable."
   ]
  },
  {
   "cell_type": "code",
   "execution_count": 36,
   "metadata": {
    "id": "XV5h5yfzN0uV"
   },
   "outputs": [
    {
     "name": "stdout",
     "output_type": "stream",
     "text": [
      "99\n"
     ]
    }
   ],
   "source": [
    "# Remove all larger than 60%\n",
    "columns_to_remove = list(set(columns_to_remove + list(ttest_pvals[ttest_pvals > 0.6].index)))\n",
    "print(len(columns_to_remove))"
   ]
  },
  {
   "cell_type": "code",
   "execution_count": 37,
   "metadata": {
    "id": "QOZYiXPEN0uV"
   },
   "outputs": [],
   "source": [
    "dt2 = dt.copy()\n",
    "dv2 = dv.copy()"
   ]
  },
  {
   "cell_type": "code",
   "execution_count": 38,
   "metadata": {
    "id": "Xs9MSuY7N0uW"
   },
   "outputs": [
    {
     "data": {
      "text/plain": [
       "(1095, 218)"
      ]
     },
     "execution_count": 38,
     "metadata": {},
     "output_type": "execute_result"
    }
   ],
   "source": [
    "# Final removal from all datasets\n",
    "dt.drop(columns_to_remove, axis = 1, errors = 'ignore', inplace=True)\n",
    "dv.drop(columns_to_remove, axis = 1, errors = 'ignore', inplace=True)\n",
    "dt_s.drop(columns_to_remove, axis = 1, errors = 'ignore', inplace=True)\n",
    "dv_s.drop(columns_to_remove, axis = 1, errors = 'ignore', inplace=True)\n",
    "dt_m.drop(columns_to_remove, axis = 1, errors = 'ignore', inplace=True)\n",
    "dv_m.drop(columns_to_remove, axis = 1, errors = 'ignore', inplace=True)\n",
    "dt.shape"
   ]
  },
  {
   "cell_type": "code",
   "execution_count": 39,
   "metadata": {
    "id": "NWnZxKQBN0uW"
   },
   "outputs": [
    {
     "name": "stdout",
     "output_type": "stream",
     "text": [
      "Linear regression root mean squared validation error: 29033\n",
      "Linear regression root mean squared train error: 23339\n"
     ]
    },
    {
     "data": {
      "image/png": "[encoded data removed]",
      "text/plain": [
       "<Figure size 432x288 with 1 Axes>"
      ]
     },
     "metadata": {
      "needs_background": "light"
     },
     "output_type": "display_data"
    },
    {
     "name": "stdout",
     "output_type": "stream",
     "text": [
      "----\n",
      "Ridge regression root mean squared validation error: 27396\n",
      "Ridge regression root mean squared train error: 24602\n"
     ]
    },
    {
     "data": {
      "image/png": "[encoded data removed]",
      "text/plain": [
       "<Figure size 432x288 with 1 Axes>"
      ]
     },
     "metadata": {
      "needs_background": "light"
     },
     "output_type": "display_data"
    }
   ],
   "source": [
    "# Run both models\n",
    "linreg(dt, dv)\n",
    "print(\"----\")\n",
    "ridgereg(dt, dv)"
   ]
  },
  {
   "cell_type": "markdown",
   "metadata": {
    "id": "QZ8Vd5JHN0uW"
   },
   "source": [
    "### Subset selection based on models - wrapper methods\n",
    "Wrapper methods evaluate subsets of variables. Hence they can properly work with possible interactions between variables.\n",
    "Moreover they are usually linked to the underlying learning algorithm.\n",
    "\n",
    "The two main disadvantages of these methods are:\n",
    "* The increasing overfitting risk when the number of observations is insufficient.\n",
    "* The significant computation time when the number of variables is large.\n",
    "\n",
    "Because of the computional complexity usual aproaches are greedy ones.\n",
    "\n",
    "A simple approach is a backward Recursive Feature Elimination (http://scikit-learn.org/stable/modules/generated/sklearn.feature_selection.RFE.html#sklearn.feature_selection.RFE )."
   ]
  },
  {
   "cell_type": "code",
   "execution_count": 40,
   "metadata": {
    "id": "O_M0Hm3wN0uW"
   },
   "outputs": [
    {
     "data": {
      "text/html": [
       "<div>\n",
       "<style scoped>\n",
       "    .dataframe tbody tr th:only-of-type {\n",
       "        vertical-align: middle;\n",
       "    }\n",
       "\n",
       "    .dataframe tbody tr th {\n",
       "        vertical-align: top;\n",
       "    }\n",
       "\n",
       "    .dataframe thead th {\n",
       "        text-align: right;\n",
       "    }\n",
       "</style>\n",
       "<table border=\"1\" class=\"dataframe\">\n",
       "  <thead>\n",
       "    <tr style=\"text-align: right;\">\n",
       "      <th></th>\n",
       "      <th>Chosen</th>\n",
       "      <th>Ranking</th>\n",
       "    </tr>\n",
       "  </thead>\n",
       "  <tbody>\n",
       "    <tr>\n",
       "      <td>MSSubClass</td>\n",
       "      <td>False</td>\n",
       "      <td>5</td>\n",
       "    </tr>\n",
       "    <tr>\n",
       "      <td>LotArea</td>\n",
       "      <td>False</td>\n",
       "      <td>6</td>\n",
       "    </tr>\n",
       "    <tr>\n",
       "      <td>YearRemodAdd</td>\n",
       "      <td>False</td>\n",
       "      <td>3</td>\n",
       "    </tr>\n",
       "    <tr>\n",
       "      <td>EnclosedPorch</td>\n",
       "      <td>False</td>\n",
       "      <td>2</td>\n",
       "    </tr>\n",
       "    <tr>\n",
       "      <td>MiscVal</td>\n",
       "      <td>False</td>\n",
       "      <td>4</td>\n",
       "    </tr>\n",
       "  </tbody>\n",
       "</table>\n",
       "</div>"
      ],
      "text/plain": [
       "               Chosen  Ranking\n",
       "MSSubClass      False        5\n",
       "LotArea         False        6\n",
       "YearRemodAdd    False        3\n",
       "EnclosedPorch   False        2\n",
       "MiscVal         False        4"
      ]
     },
     "metadata": {},
     "output_type": "display_data"
    },
    {
     "name": "stdout",
     "output_type": "stream",
     "text": [
      "Chosen 212 from  217 features.\n"
     ]
    }
   ],
   "source": [
    "# Recursive feature elimination (RFE) \n",
    "\n",
    "# Prepare the data\n",
    "X = dt.drop(['SalePrice'], axis = 1, errors = 'ignore')\n",
    "y = dt.SalePrice\n",
    "\n",
    "used_columns = X.columns\n",
    "\n",
    "# define the scorer which will be the RMSE\n",
    "def scorer(Y, yp):\n",
    "    return np.sqrt(metrics.mean_squared_error(Y, yp))\n",
    "\n",
    "# prepare the model\n",
    "clfM = linear_model.LinearRegression()\n",
    "\n",
    "# prepare the backward selection algorithm (recursive feature elimination with cross validation)\n",
    "# step = 1 or greater, then corresponds to number of features to remove at each iteration\n",
    "# cv = None, to use the default 5-fold cross-validation\n",
    "selector = feature_selection.RFECV(clfM, step=1, cv=5, scoring=metrics.make_scorer(scorer))\n",
    "# run it\n",
    "selector = selector.fit(X, y)\n",
    "\n",
    "# ranking_ The feature ranking, such that ranking_[i] corresponds to the \n",
    "# ranking position of the i-th feature. Selected features are assigned rank 1.\n",
    "\n",
    "# transform result to dataframe\n",
    "result = pd.DataFrame({'Chosen': selector.support_, 'Ranking': selector.ranking_}, index=list(used_columns))\n",
    "# columns to leave\n",
    "columns_to_leave = result[result.Chosen == True].index\n",
    "# show results\n",
    "display(result[result.Chosen == False].head(5))\n",
    "print('Chosen', len(columns_to_leave),'from ', result.Chosen.shape[0], 'features.')"
   ]
  },
  {
   "cell_type": "code",
   "execution_count": 41,
   "metadata": {
    "id": "cJpEKNYbN0uW"
   },
   "outputs": [
    {
     "name": "stdout",
     "output_type": "stream",
     "text": [
      "(1095, 217)\n",
      "(1095,)\n"
     ]
    }
   ],
   "source": [
    "print(X.shape)\n",
    "print(y.shape)"
   ]
  },
  {
   "cell_type": "code",
   "execution_count": 42,
   "metadata": {
    "id": "R6pql-54N0uW"
   },
   "outputs": [
    {
     "name": "stdout",
     "output_type": "stream",
     "text": [
      "Linear regression root mean squared validation error: 29136\n",
      "Linear regression root mean squared train error: 23360\n"
     ]
    },
    {
     "data": {
      "image/png": "[encoded data removed]",
      "text/plain": [
       "<Figure size 432x288 with 1 Axes>"
      ]
     },
     "metadata": {
      "needs_background": "light"
     },
     "output_type": "display_data"
    },
    {
     "name": "stdout",
     "output_type": "stream",
     "text": [
      "----\n",
      "Ridge regression root mean squared validation error: 27523\n",
      "Ridge regression root mean squared train error: 24620\n"
     ]
    },
    {
     "data": {
      "image/png": "[encoded data removed]",
      "text/plain": [
       "<Figure size 432x288 with 1 Axes>"
      ]
     },
     "metadata": {
      "needs_background": "light"
     },
     "output_type": "display_data"
    }
   ],
   "source": [
    "# Run both models\n",
    "linreg(dt[list(columns_to_leave) + ['SalePrice']], dv[list(columns_to_leave) + ['SalePrice']])\n",
    "print(\"----\")\n",
    "ridgereg(dt[list(columns_to_leave) + ['SalePrice']], dv[list(columns_to_leave) + ['SalePrice']])"
   ]
  },
  {
   "cell_type": "markdown",
   "metadata": {
    "id": "-OBeTZcxN0uW"
   },
   "source": [
    "Other possibility is to use the L^1 regularization (LASSO) which produces sparse weights in the linear model.\n",
    "Then we can select all features with non-zero coefficients."
   ]
  },
  {
   "cell_type": "code",
   "execution_count": 43,
   "metadata": {
    "id": "djjH7XIgN0uW"
   },
   "outputs": [
    {
     "data": {
      "text/html": [
       "<div>\n",
       "<style scoped>\n",
       "    .dataframe tbody tr th:only-of-type {\n",
       "        vertical-align: middle;\n",
       "    }\n",
       "\n",
       "    .dataframe tbody tr th {\n",
       "        vertical-align: top;\n",
       "    }\n",
       "\n",
       "    .dataframe thead th {\n",
       "        text-align: right;\n",
       "    }\n",
       "</style>\n",
       "<table border=\"1\" class=\"dataframe\">\n",
       "  <thead>\n",
       "    <tr style=\"text-align: right;\">\n",
       "      <th></th>\n",
       "      <th>Chosen</th>\n",
       "    </tr>\n",
       "  </thead>\n",
       "  <tbody>\n",
       "    <tr>\n",
       "      <td>LotShape_Reg</td>\n",
       "      <td>False</td>\n",
       "    </tr>\n",
       "    <tr>\n",
       "      <td>LandSlope_Gtl</td>\n",
       "      <td>False</td>\n",
       "    </tr>\n",
       "    <tr>\n",
       "      <td>Neighborhood_BrkSide</td>\n",
       "      <td>False</td>\n",
       "    </tr>\n",
       "    <tr>\n",
       "      <td>Neighborhood_SawyerW</td>\n",
       "      <td>False</td>\n",
       "    </tr>\n",
       "    <tr>\n",
       "      <td>Condition1_Artery</td>\n",
       "      <td>False</td>\n",
       "    </tr>\n",
       "  </tbody>\n",
       "</table>\n",
       "</div>"
      ],
      "text/plain": [
       "                      Chosen\n",
       "LotShape_Reg           False\n",
       "LandSlope_Gtl          False\n",
       "Neighborhood_BrkSide   False\n",
       "Neighborhood_SawyerW   False\n",
       "Condition1_Artery      False"
      ]
     },
     "metadata": {},
     "output_type": "display_data"
    },
    {
     "name": "stdout",
     "output_type": "stream",
     "text": [
      "Chosen 189 from  217 features.\n"
     ]
    }
   ],
   "source": [
    "# The LASSO - L^1 regularized regression to obtain a sparse solution\n",
    "# LASSO = least absolute shrinkage and selection operator\n",
    "# Then the non-zero features may be extracted from the result.\n",
    "\n",
    "# Prepare the data\n",
    "X = dt.drop(['SalePrice'], axis = 1, errors = 'ignore')\n",
    "y = dt.SalePrice\n",
    "\n",
    "used_columns = X.columns\n",
    "\n",
    "# We use the base estimator Lasso since the L1 norm promotes sparsity of features.\n",
    "# alpha = Constant that multiplies the L1 term. Defaults to 1.0\n",
    "# tol = The tolerance for the optimization, default = 1e-4\n",
    "clfL = linear_model.Lasso(alpha = 10, max_iter = 10000, tol = 1e-2)\n",
    "\n",
    "# SelectFromModel = meta-transformer for selecting features based on importance weights\n",
    "sfm = feature_selection.SelectFromModel(clfL)\n",
    "sfm.fit(X, y)\n",
    "\n",
    "# transform result to dataframe\n",
    "result = pd.DataFrame({'Chosen': sfm.get_support()}, index=list(used_columns))\n",
    "# columns to leave\n",
    "columns_to_leave = result[result.Chosen == True].index\n",
    "# show results\n",
    "display(result[result.Chosen == False].head(5))\n",
    "print('Chosen', result.Chosen.sum(),'from ', result.Chosen.shape[0], 'features.')"
   ]
  },
  {
   "cell_type": "code",
   "execution_count": 44,
   "metadata": {
    "id": "hFkXjrdNN0uX"
   },
   "outputs": [
    {
     "name": "stdout",
     "output_type": "stream",
     "text": [
      "Linear regression root mean squared validation error: 28780\n",
      "Linear regression root mean squared train error: 23399\n"
     ]
    },
    {
     "data": {
      "image/png": "[encoded data removed]",
      "text/plain": [
       "<Figure size 432x288 with 1 Axes>"
      ]
     },
     "metadata": {
      "needs_background": "light"
     },
     "output_type": "display_data"
    },
    {
     "name": "stdout",
     "output_type": "stream",
     "text": [
      "----\n",
      "Ridge regression root mean squared validation error: 27450\n",
      "Ridge regression root mean squared train error: 24444\n"
     ]
    },
    {
     "data": {
      "image/png": "[encoded data removed]",
      "text/plain": [
       "<Figure size 432x288 with 1 Axes>"
      ]
     },
     "metadata": {
      "needs_background": "light"
     },
     "output_type": "display_data"
    }
   ],
   "source": [
    "# Run both models\n",
    "linreg(dt[list(columns_to_leave) + ['SalePrice']], dv[list(columns_to_leave) + ['SalePrice']])\n",
    "print(\"----\")\n",
    "ridgereg(dt[list(columns_to_leave) + ['SalePrice']], dv[list(columns_to_leave) + ['SalePrice']])"
   ]
  },
  {
   "cell_type": "markdown",
   "metadata": {
    "id": "uKbdwBAaN0uX"
   },
   "source": [
    "### Transformation of the target variable\n",
    "It might be beneficial to transform the target variable as well."
   ]
  },
  {
   "cell_type": "code",
   "execution_count": 45,
   "metadata": {
    "id": "4OTNtW7sN0uX"
   },
   "outputs": [
    {
     "data": {
      "text/plain": [
       "<matplotlib.legend.Legend at 0x7f4e4ea981d0>"
      ]
     },
     "execution_count": 45,
     "metadata": {},
     "output_type": "execute_result"
    },
    {
     "data": {
      "image/png": "[encoded data removed]",
      "text/plain": [
       "<Figure size 432x288 with 1 Axes>"
      ]
     },
     "metadata": {
      "needs_background": "light"
     },
     "output_type": "display_data"
    }
   ],
   "source": [
    "# Distribution of the target varaible\n",
    "sns.distplot(df.SalePrice, \n",
    "             fit=stats.norm,  # It should be fitted by the normal distribution\n",
    "             hist_kws = {'label': 'Histogram'},\n",
    "             fit_kws = {'label': 'Normal distribution fit'},\n",
    "             kde = False\n",
    "            )\n",
    "\n",
    "plt.legend()"
   ]
  },
  {
   "cell_type": "markdown",
   "metadata": {
    "id": "XnG9N-jIN0uX"
   },
   "source": [
    "We can see that the distribution is not normal.\n",
    "\n",
    "Let's support this visual observation with a statistical test."
   ]
  },
  {
   "cell_type": "code",
   "execution_count": 46,
   "metadata": {
    "id": "qo711BT9N0uX"
   },
   "outputs": [
    {
     "data": {
      "text/plain": [
       "NormaltestResult(statistic=610.8359109472653, pvalue=2.283848353787728e-133)"
      ]
     },
     "execution_count": 46,
     "metadata": {},
     "output_type": "execute_result"
    }
   ],
   "source": [
    "stats.normaltest(df.SalePrice)"
   ]
  },
  {
   "cell_type": "markdown",
   "metadata": {
    "id": "ii7TOwYPN0uX"
   },
   "source": [
    "Since $p$-value is quite small, we can reject the null hypothesis that it has a normal distribution.\n",
    "\n",
    "We can also estimate **skewness** as a measure of distributions asymetry and **kurtosis** as a measure of its \"tailedness\" (how the peak is sharped compared to how tails are long) in comparison to the normal distribution."
   ]
  },
  {
   "cell_type": "code",
   "execution_count": 47,
   "metadata": {
    "id": "iRZSP77XN0uX"
   },
   "outputs": [
    {
     "name": "stdout",
     "output_type": "stream",
     "text": [
      "Skewness: 1.8828757597682129\n",
      "Kurtosis: 6.536281860064529\n"
     ]
    }
   ],
   "source": [
    "# Skewness and kurtosis as measures of asymetry and long tails\n",
    "# Normal distribution has the Skewness = 0 and Kurtosis = 0 (Fisher's definition)\n",
    "print('Skewness:', df.SalePrice.skew())\n",
    "print('Kurtosis:', df.SalePrice.kurtosis())\n",
    "# Again we see that the distribution is far from the normal distribution"
   ]
  },
  {
   "cell_type": "markdown",
   "metadata": {
    "id": "Ypw5R2FKN0uX"
   },
   "source": [
    "We have some basic idea about the distribution of the target variable. Especially we see that it is not normal.\n",
    "\n",
    "Let us now assume that we would like to use linear regression (possibly ridge) as a model to predict sale prices.\n",
    "It is known (or can be easily found), the **least squares** method which is behind this model is actually equivalent to the maximum likelihood method when the target variable has a normal distribution.\n",
    "\n",
    "Hence it is usually beneficial to transform the target variable in such a way that its new distribution will move \n",
    "towards the normal one.\n",
    "\n",
    "In our case we can heuristically choose the logarithm."
   ]
  },
  {
   "cell_type": "code",
   "execution_count": 48,
   "metadata": {
    "id": "wNuuhpusN0uX"
   },
   "outputs": [
    {
     "name": "stdout",
     "output_type": "stream",
     "text": [
      "Skewness: 0.12133506220520406\n",
      "Kurtosis: 0.8095319958036296\n",
      "NormaltestResult(statistic=25.507009834238303, pvalue=2.89216582205235e-06)\n"
     ]
    },
    {
     "data": {
      "image/png": "[encoded data removed]",
      "text/plain": [
       "<Figure size 432x288 with 1 Axes>"
      ]
     },
     "metadata": {
      "needs_background": "light"
     },
     "output_type": "display_data"
    }
   ],
   "source": [
    "# observe the transformed distribution\n",
    "sns.distplot(np.log(df.SalePrice), \n",
    "             fit=stats.norm,  # It should be fitted by the normal distribution\n",
    "             hist_kws = {'label': 'Histogram'},\n",
    "             fit_kws = {'label': 'Normal distribution fit'},\n",
    "             kde = False\n",
    "            )\n",
    "plt.legend()\n",
    "\n",
    "print('Skewness:', np.log(df.SalePrice).skew())\n",
    "print('Kurtosis:', np.log(df.SalePrice).kurtosis())\n",
    " \n",
    "print(stats.normaltest(np.log(df.SalePrice)))"
   ]
  },
  {
   "cell_type": "markdown",
   "metadata": {
    "id": "JNGkovoVN0uY"
   },
   "source": [
    "It is not perfect but better that the original one.\n",
    "So it should be worth trying it."
   ]
  }
 ],
 "metadata": {
  "colab": {
   "name": "03_tutorial_en_full.ipynb",
   "provenance": []
  },
  "kernelspec": {
   "display_name": "Python 3",
   "language": "python",
   "name": "python3"
  },
  "language_info": {
   "codemirror_mode": {
    "name": "ipython",
    "version": 3
   },
   "file_extension": ".py",
   "mimetype": "text/x-python",
   "name": "python",
   "nbconvert_exporter": "python",
   "pygments_lexer": "ipython3",
   "version": "3.7.4"
  }
 },
 "nbformat": 4,
 "nbformat_minor": 1
}
