{
 "cells": [
  {
   "cell_type": "markdown",
   "metadata": {
    "id": "AHDvrkTOCGw3"
   },
   "source": [
    "# Homework 3 - data transformation & dimensionality reduction (deadline 26. 12. 2020, 23:59)\n",
    "\n",
    "In short, the main task is to play with transformations and dimensionality reduction to obtain the best results for the linear regression model predicting house sale prices.\n",
    "  \n",
    "> The instructions are not given in detail: It is up to you to come up with ideas on how to fulfill the particular tasks as best you can!\n",
    "\n",
    "## What are you supposed to do:\n",
    "\n",
    "Your aim is to optimize the _RMSLE_ (see the note below) of the linear regression estimator (=our prediction model) of the observed sale prices.\n",
    "\n",
    "### Instructions:\n",
    "\n",
    "  1. Download the dataset from the course pages (data.csv, data_description.txt). It corresponds to [this Kaggle competition](https://www.kaggle.com/c/house-prices-advanced-regression-techniques). \n",
    "  1. Transform features appropriately and prepare new ones - focus on the increase in the performance of the model (possibly in combination with further steps). Split the dataset into a train and test part exactly as we did in the tutorials. Use the test part for evaluation of the influence of further steps.\n",
    "  1. Try to find some suitable subset of features - first without the use of PCA.\n",
    "  1. Use PCA (principal component analysis) to reduce the dimensionality. Discuss the influence of the number of principal components.\n",
    "  1. Compare the results of previous steps on the test part of the dataset.\n",
    "  \n",
    "Give comments (!) on each step of your solution, with short explanations of your choices.\n",
    "\n",
    "**If you do all this properly, you will obtain 16 points.** \n",
    "\n",
    "\n",
    "**Note**: _RMSLE_ is a Root-Mean-Squared-Error (RMSE) between the logarithm of the predicted value and the logarithm of the observed sale prices.\n",
    "\n",
    "\n",
    "## Comments\n",
    "\n",
    "  * Please follow the instructions from https://courses.fit.cvut.cz/MI-PDD/homeworks/index.html.\n",
    "  * If the reviewing teacher is not satisfied, she can (!) give you another chance to rework your homework and to obtain more points. However, this is not a given, so do your best! :)\n",
    "  * English is not compulsory."
   ]
  },
  {
   "cell_type": "code",
   "execution_count": 1,
   "metadata": {
    "id": "FfYymXD_CGw5"
   },
   "outputs": [],
   "source": [
    "import numpy as np\n",
    "import pandas as pd\n",
    "np.set_printoptions(precision=5, suppress=True)\n",
    "np.random_state =  42"
   ]
  },
  {
   "cell_type": "code",
   "execution_count": 2,
   "metadata": {
    "id": "5uAbGNbd6wyR"
   },
   "outputs": [],
   "source": [
    "from sklearn import model_selection, preprocessing, metrics, linear_model, feature_selection\n",
    "from scipy import optimize\n",
    "import matplotlib\n",
    "import matplotlib.pyplot as plt\n",
    "import seaborn as sns\n",
    "\n",
    "%matplotlib inline"
   ]
  },
  {
   "cell_type": "code",
   "execution_count": 3,
   "metadata": {
    "colab": {
     "base_uri": "https://localhost:8080/"
    },
    "id": "UiAFpm-ECM2H",
    "outputId": "d25b72c6-274d-4cf7-e163-a87efb63d9e6"
   },
   "outputs": [],
   "source": [
    "#from google.colab import drive\n",
    "#drive.mount('/content/drive')"
   ]
  },
  {
   "cell_type": "code",
   "execution_count": 4,
   "metadata": {
    "id": "7Yhm8caNCQtI"
   },
   "outputs": [],
   "source": [
    "#df_base = pd.read_csv('/content/drive/My Drive/data.csv')\n",
    "df_base = pd.read_csv('data.csv')\n",
    "df_base[df_base.select_dtypes(['float64', 'int64']).columns] = df_base[df_base.select_dtypes(['float64', 'int64']).columns].astype('float64')"
   ]
  },
  {
   "cell_type": "code",
   "execution_count": 5,
   "metadata": {
    "id": "DI0FEhfbCQqf"
   },
   "outputs": [],
   "source": [
    "# obtain basic data info\n",
    "#display(df_base.info()) # basic info about entries\n",
    "#display(df_base.nunique()) # number of non-null values\n",
    "#display(df_base.describe()) # number of non-null values\n",
    "#display(df_base.head())"
   ]
  },
  {
   "cell_type": "markdown",
   "metadata": {},
   "source": [
    "# 2 Transform features"
   ]
  },
  {
   "cell_type": "code",
   "execution_count": 6,
   "metadata": {
    "id": "dVTfXv2jXFKE"
   },
   "outputs": [],
   "source": [
    "#change to categorical and onehot/fill NaN\n",
    "def cat_nan_substitute(data):\n",
    "    df = data.copy()\n",
    "    NAN_SUBSTITUTION_VALUE = 'None'\n",
    "    df[df.select_dtypes(include=['object']).columns] = df.select_dtypes(include=['object']).fillna(NAN_SUBSTITUTION_VALUE)\n",
    "    return df\n",
    "\n",
    "def dummifier(data):\n",
    "    df_hot = data.copy()\n",
    "    df_hot[df_hot.select_dtypes(include=['object']).columns] = df_hot.select_dtypes(include=['object']).apply(pd.Series.astype, dtype='category')\n",
    "    df_hot = pd.get_dummies(df_hot)\n",
    "    return df_hot"
   ]
  },
  {
   "cell_type": "code",
   "execution_count": 7,
   "metadata": {
    "id": "5kMrSanPmgzB"
   },
   "outputs": [],
   "source": [
    "#i keep backup of the original data\n",
    "df = df_base.copy()\n",
    "df_hot = df_base.copy()\n",
    "\n",
    "df = cat_nan_substitute(df)\n",
    "df_hot = dummifier(df_hot)"
   ]
  },
  {
   "cell_type": "code",
   "execution_count": 8,
   "metadata": {
    "id": "0Qz9HKOSkl-y"
   },
   "outputs": [],
   "source": [
    "#replace numeric nan values\n",
    "def substitute_numeric_nan(data):\n",
    "    df = data.copy()\n",
    "    if df.notna().all().all():\n",
    "        df[df.select_dtypes(['float64', 'int64']).columns] = df[df.select_dtypes(['float64', 'int64']).columns].astype('float64')\n",
    "        return df\n",
    "    print(df.loc[:, df.isna().any()].describe())\n",
    "    tmp = pd.concat((df.loc[:, df.isna().any()].dropna(), df['SalePrice']), axis = 1) # => replace by lowest value in all cases\n",
    "    display(tmp.corr())\n",
    "    df['MasVnrArea'] = df['MasVnrArea'].fillna(0)\n",
    "    df['LotFrontage'] = df['LotFrontage'].fillna(0)\n",
    "    df['GarageYrBlt'] = df['GarageYrBlt'].fillna(df['GarageYrBlt'].min()) #year 0 would not make sense\n",
    "    return df"
   ]
  },
  {
   "cell_type": "code",
   "execution_count": 9,
   "metadata": {
    "colab": {
     "base_uri": "https://localhost:8080/",
     "height": 652
    },
    "id": "Acx_149UmkMN",
    "outputId": "4f45bb1b-8735-4753-fc5a-c7cd548cc354"
   },
   "outputs": [
    {
     "name": "stdout",
     "output_type": "stream",
     "text": [
      "       LotFrontage   MasVnrArea  GarageYrBlt\n",
      "count  1201.000000  1452.000000  1379.000000\n",
      "mean     70.049958   103.685262  1978.506164\n",
      "std      24.284752   181.066207    24.689725\n",
      "min      21.000000     0.000000  1900.000000\n",
      "25%      59.000000     0.000000  1961.000000\n",
      "50%      69.000000     0.000000  1980.000000\n",
      "75%      80.000000   166.000000  2002.000000\n",
      "max     313.000000  1600.000000  2010.000000\n"
     ]
    },
    {
     "data": {
      "text/html": [
       "<div>\n",
       "<style scoped>\n",
       "    .dataframe tbody tr th:only-of-type {\n",
       "        vertical-align: middle;\n",
       "    }\n",
       "\n",
       "    .dataframe tbody tr th {\n",
       "        vertical-align: top;\n",
       "    }\n",
       "\n",
       "    .dataframe thead th {\n",
       "        text-align: right;\n",
       "    }\n",
       "</style>\n",
       "<table border=\"1\" class=\"dataframe\">\n",
       "  <thead>\n",
       "    <tr style=\"text-align: right;\">\n",
       "      <th></th>\n",
       "      <th>LotFrontage</th>\n",
       "      <th>MasVnrArea</th>\n",
       "      <th>GarageYrBlt</th>\n",
       "      <th>SalePrice</th>\n",
       "    </tr>\n",
       "  </thead>\n",
       "  <tbody>\n",
       "    <tr>\n",
       "      <td>LotFrontage</td>\n",
       "      <td>1.000000</td>\n",
       "      <td>0.189969</td>\n",
       "      <td>0.069878</td>\n",
       "      <td>0.344270</td>\n",
       "    </tr>\n",
       "    <tr>\n",
       "      <td>MasVnrArea</td>\n",
       "      <td>0.189969</td>\n",
       "      <td>1.000000</td>\n",
       "      <td>0.277095</td>\n",
       "      <td>0.488658</td>\n",
       "    </tr>\n",
       "    <tr>\n",
       "      <td>GarageYrBlt</td>\n",
       "      <td>0.069878</td>\n",
       "      <td>0.277095</td>\n",
       "      <td>1.000000</td>\n",
       "      <td>0.504753</td>\n",
       "    </tr>\n",
       "    <tr>\n",
       "      <td>SalePrice</td>\n",
       "      <td>0.344270</td>\n",
       "      <td>0.488658</td>\n",
       "      <td>0.504753</td>\n",
       "      <td>1.000000</td>\n",
       "    </tr>\n",
       "  </tbody>\n",
       "</table>\n",
       "</div>"
      ],
      "text/plain": [
       "             LotFrontage  MasVnrArea  GarageYrBlt  SalePrice\n",
       "LotFrontage     1.000000    0.189969     0.069878   0.344270\n",
       "MasVnrArea      0.189969    1.000000     0.277095   0.488658\n",
       "GarageYrBlt     0.069878    0.277095     1.000000   0.504753\n",
       "SalePrice       0.344270    0.488658     0.504753   1.000000"
      ]
     },
     "metadata": {},
     "output_type": "display_data"
    },
    {
     "name": "stdout",
     "output_type": "stream",
     "text": [
      "One hot:\n",
      "       LotFrontage   MasVnrArea  GarageYrBlt\n",
      "count  1201.000000  1452.000000  1379.000000\n",
      "mean     70.049958   103.685262  1978.506164\n",
      "std      24.284752   181.066207    24.689725\n",
      "min      21.000000     0.000000  1900.000000\n",
      "25%      59.000000     0.000000  1961.000000\n",
      "50%      69.000000     0.000000  1980.000000\n",
      "75%      80.000000   166.000000  2002.000000\n",
      "max     313.000000  1600.000000  2010.000000\n"
     ]
    },
    {
     "data": {
      "text/html": [
       "<div>\n",
       "<style scoped>\n",
       "    .dataframe tbody tr th:only-of-type {\n",
       "        vertical-align: middle;\n",
       "    }\n",
       "\n",
       "    .dataframe tbody tr th {\n",
       "        vertical-align: top;\n",
       "    }\n",
       "\n",
       "    .dataframe thead th {\n",
       "        text-align: right;\n",
       "    }\n",
       "</style>\n",
       "<table border=\"1\" class=\"dataframe\">\n",
       "  <thead>\n",
       "    <tr style=\"text-align: right;\">\n",
       "      <th></th>\n",
       "      <th>LotFrontage</th>\n",
       "      <th>MasVnrArea</th>\n",
       "      <th>GarageYrBlt</th>\n",
       "      <th>SalePrice</th>\n",
       "    </tr>\n",
       "  </thead>\n",
       "  <tbody>\n",
       "    <tr>\n",
       "      <td>LotFrontage</td>\n",
       "      <td>1.000000</td>\n",
       "      <td>0.189969</td>\n",
       "      <td>0.069878</td>\n",
       "      <td>0.344270</td>\n",
       "    </tr>\n",
       "    <tr>\n",
       "      <td>MasVnrArea</td>\n",
       "      <td>0.189969</td>\n",
       "      <td>1.000000</td>\n",
       "      <td>0.277095</td>\n",
       "      <td>0.488658</td>\n",
       "    </tr>\n",
       "    <tr>\n",
       "      <td>GarageYrBlt</td>\n",
       "      <td>0.069878</td>\n",
       "      <td>0.277095</td>\n",
       "      <td>1.000000</td>\n",
       "      <td>0.504753</td>\n",
       "    </tr>\n",
       "    <tr>\n",
       "      <td>SalePrice</td>\n",
       "      <td>0.344270</td>\n",
       "      <td>0.488658</td>\n",
       "      <td>0.504753</td>\n",
       "      <td>1.000000</td>\n",
       "    </tr>\n",
       "  </tbody>\n",
       "</table>\n",
       "</div>"
      ],
      "text/plain": [
       "             LotFrontage  MasVnrArea  GarageYrBlt  SalePrice\n",
       "LotFrontage     1.000000    0.189969     0.069878   0.344270\n",
       "MasVnrArea      0.189969    1.000000     0.277095   0.488658\n",
       "GarageYrBlt     0.069878    0.277095     1.000000   0.504753\n",
       "SalePrice       0.344270    0.488658     0.504753   1.000000"
      ]
     },
     "metadata": {},
     "output_type": "display_data"
    }
   ],
   "source": [
    "df = substitute_numeric_nan(df)\n",
    "print('One hot:')\n",
    "df_hot = substitute_numeric_nan(df_hot)"
   ]
  },
  {
   "cell_type": "code",
   "execution_count": 10,
   "metadata": {
    "id": "ZoGlT4nprelh"
   },
   "outputs": [],
   "source": [
    "#create new columns, just copied code from tutorial, slightly improves predictions\n",
    "def area_sf(data):\n",
    "    df = data.copy()\n",
    "    for column in df.filter(regex='Area|SF', axis=1).columns:  # SF - square foot which means area\n",
    "        df['Has' + column] = (df[column] > 0).replace({True: 1, False: 0}).astype('uint8')\n",
    "        df['Sqrt' + column] = np.sqrt(df[column].astype('float64'))\n",
    "    return df"
   ]
  },
  {
   "cell_type": "code",
   "execution_count": 11,
   "metadata": {
    "id": "UIy4xC35tBO0"
   },
   "outputs": [],
   "source": [
    "df = area_sf(df)\n",
    "df_hot = area_sf(df_hot)"
   ]
  },
  {
   "cell_type": "code",
   "execution_count": 12,
   "metadata": {
    "id": "_8Bcv7U7j2nd"
   },
   "outputs": [],
   "source": [
    "def remove_useless(data):\n",
    "    df = data.copy()\n",
    "    display(df.columns[df.min() == df.max()])\n",
    "    df = df[df.columns[df.min() != df.max()]]\n",
    "    return df"
   ]
  },
  {
   "cell_type": "code",
   "execution_count": 13,
   "metadata": {
    "colab": {
     "base_uri": "https://localhost:8080/",
     "height": 68
    },
    "id": "Cj_Fh_Z9rL9l",
    "outputId": "b1702df5-b3cd-4ac7-b411-2f99a8d2f782"
   },
   "outputs": [
    {
     "data": {
      "text/plain": [
       "Index(['HasLotArea', 'Has1stFlrSF', 'HasGrLivArea'], dtype='object')"
      ]
     },
     "metadata": {},
     "output_type": "display_data"
    },
    {
     "name": "stdout",
     "output_type": "stream",
     "text": [
      "One hot:\n"
     ]
    },
    {
     "data": {
      "text/plain": [
       "Index(['HasLotArea', 'Has1stFlrSF', 'HasGrLivArea'], dtype='object')"
      ]
     },
     "metadata": {},
     "output_type": "display_data"
    }
   ],
   "source": [
    "df = remove_useless(df)\n",
    "print('One hot:')\n",
    "df_hot = remove_useless(df_hot)"
   ]
  },
  {
   "cell_type": "code",
   "execution_count": 14,
   "metadata": {
    "id": "9Ri-NhDK8qi4"
   },
   "outputs": [],
   "source": [
    "#functions for standartization/normalization\n",
    "def standartize_floats(data, validation = None):\n",
    "    dt = data.copy()\n",
    "    standard_scaler = preprocessing.StandardScaler()\n",
    "    columns = dt.select_dtypes(include=['float64']).columns \n",
    "    columns = columns.drop('SalePrice', errors = 'ignore')\n",
    "    standard_scaler.fit(dt[columns])\n",
    "    dt[columns] = standard_scaler.transform(dt[columns])\n",
    "    if validation is not None:\n",
    "        dv = validation.copy()\n",
    "        dv[columns] = standard_scaler.transform(dv[columns])\n",
    "        return dt, dv\n",
    "    return dt\n",
    "\n",
    "def normalize_floats(data, validation = None):\n",
    "    dt = data.copy()\n",
    "    minmax_scaler = preprocessing.MinMaxScaler()\n",
    "    columns = dt.select_dtypes(include=['float64']).columns \n",
    "    columns = columns.drop('SalePrice', errors = 'ignore')\n",
    "    minmax_scaler.fit(dt[columns])\n",
    "    dt[columns] = minmax_scaler.transform(dt[columns])\n",
    "    if validation is not None:\n",
    "        dv = validation.copy()\n",
    "        dv[columns] = minmax_scaler.transform(dv[columns])\n",
    "        return dt, dv\n",
    "    return dt"
   ]
  },
  {
   "cell_type": "code",
   "execution_count": 15,
   "metadata": {
    "id": "pCkX49pD924Q"
   },
   "outputs": [],
   "source": [
    "df_n = normalize_floats(df)\n",
    "df_s = standartize_floats(df)\n",
    "df_n_hot = normalize_floats(df_hot)\n",
    "df_s_hot = standartize_floats(df_hot)"
   ]
  },
  {
   "cell_type": "code",
   "execution_count": 16,
   "metadata": {
    "id": "20pyc56pLMrt"
   },
   "outputs": [],
   "source": [
    "#preparing data after split\n",
    "from sklearn.model_selection import train_test_split\n",
    "\n",
    "#get mean sale prices for each category and store them, normalize if normalize = True, standartize if standartize = True\n",
    "def category_means(data):\n",
    "    columns = []\n",
    "    means = {}\n",
    "    default_mean = pd.Series([data['SalePrice'].mean()], index=['x_default_6542'])#if new category appears in test data, assign overall mean\n",
    "    for col_id in data.columns:\n",
    "        col = data[col_id]\n",
    "        if col.nunique() < 30 and col.dtype == 'object': #in the end works for all\n",
    "            mean = data.groupby(col_id).mean().loc[:, 'SalePrice']\n",
    "            mean = mean.append(default_mean)\n",
    "            means[col_id] = mean\n",
    "            columns.append(col_id)\n",
    "            \n",
    "    return columns, means\n",
    "\n",
    "#convert categories to their respective mean sale price\n",
    "def add_means(data, col_id, mean, new_column_prefix = ''):\n",
    "    result = data.copy()\n",
    "    result[new_column_prefix + col_id] = result[col_id].apply(lambda x: mean.get(x, mean.get('x_default_6542')).astype('float64'))\n",
    "    return result\n",
    "\n",
    "#traintest splitter, parameters copied from tutorial\n",
    "def tts(x,y):\n",
    "    return train_test_split(x, y, test_size=0.25, random_state=17)"
   ]
  },
  {
   "cell_type": "code",
   "execution_count": 17,
   "metadata": {
    "id": "7xoZM8LP4Uaz"
   },
   "outputs": [],
   "source": [
    "def means_and_split(data, standartize = False, normalize = False):\n",
    "    df = data.copy()\n",
    "    X, Xt, y, yt = tts(df.drop(columns=['SalePrice']),df_base['SalePrice'])\n",
    "    cols, means = category_means(pd.concat((X,y), axis = 1))\n",
    "    for col_id in cols:\n",
    "        X = add_means(X, col_id, means[col_id])\n",
    "        Xt = add_means(Xt, col_id, means[col_id])\n",
    "\n",
    "    if standartize:\n",
    "        X, Xt = standartize_floats(X, Xt)\n",
    "    elif normalize:\n",
    "        X, Xt = normalize_floats(X, Xt)\n",
    "    return X, Xt, y, yt"
   ]
  },
  {
   "cell_type": "code",
   "execution_count": 18,
   "metadata": {
    "id": "mXMQF7RkEJnR"
   },
   "outputs": [],
   "source": [
    "dfs = {}\n",
    "dfs['mean_normalized'] = df_n\n",
    "dfs['mean_standartized'] = df_s\n",
    "dfs['hot_normalized'] = df_n_hot\n",
    "dfs['hot_standartized'] = df_s_hot\n",
    "dfs['hot'] = df_hot\n",
    "dfs['mean'] = df"
   ]
  },
  {
   "cell_type": "code",
   "execution_count": 19,
   "metadata": {
    "id": "b1qdN_v7CQns"
   },
   "outputs": [],
   "source": [
    "X, Xt, y, yt = means_and_split(dfs['mean'])\n",
    "Xh, Xth, yh, yth = means_and_split(dfs['hot'])\n",
    "\n",
    "Xs, Xts, ys, yts = means_and_split(dfs['mean_standartized'], standartize = True)\n",
    "Xhs, Xths, yhs, yths = means_and_split(dfs['hot_standartized'], standartize = True)\n",
    "\n",
    "Xn, Xtn, yn, ytn = means_and_split(dfs['mean_normalized'], normalize = True)\n",
    "Xhn, Xthn, yhn, ythn = means_and_split(dfs['hot_normalized'], normalize = True)"
   ]
  },
  {
   "cell_type": "code",
   "execution_count": 20,
   "metadata": {
    "colab": {
     "base_uri": "https://localhost:8080/"
    },
    "id": "Lkuh_DzJ59JP",
    "outputId": "2f0d2565-41ba-49a5-daa9-4c022cb6ae13"
   },
   "outputs": [
    {
     "data": {
      "text/html": [
       "<div>\n",
       "<style scoped>\n",
       "    .dataframe tbody tr th:only-of-type {\n",
       "        vertical-align: middle;\n",
       "    }\n",
       "\n",
       "    .dataframe tbody tr th {\n",
       "        vertical-align: top;\n",
       "    }\n",
       "\n",
       "    .dataframe thead th {\n",
       "        text-align: right;\n",
       "    }\n",
       "</style>\n",
       "<table border=\"1\" class=\"dataframe\">\n",
       "  <thead>\n",
       "    <tr style=\"text-align: right;\">\n",
       "      <th></th>\n",
       "      <th>Id</th>\n",
       "      <th>MSSubClass</th>\n",
       "      <th>LotFrontage</th>\n",
       "      <th>LotArea</th>\n",
       "      <th>OverallQual</th>\n",
       "      <th>OverallCond</th>\n",
       "      <th>YearBuilt</th>\n",
       "      <th>YearRemodAdd</th>\n",
       "      <th>MasVnrArea</th>\n",
       "      <th>BsmtFinSF1</th>\n",
       "      <th>...</th>\n",
       "      <th>HasGarageArea</th>\n",
       "      <th>SqrtGarageArea</th>\n",
       "      <th>HasWoodDeckSF</th>\n",
       "      <th>SqrtWoodDeckSF</th>\n",
       "      <th>HasOpenPorchSF</th>\n",
       "      <th>SqrtOpenPorchSF</th>\n",
       "      <th>HasPoolArea</th>\n",
       "      <th>SqrtPoolArea</th>\n",
       "      <th>HasHouseStyle_SFoyer</th>\n",
       "      <th>SqrtHouseStyle_SFoyer</th>\n",
       "    </tr>\n",
       "  </thead>\n",
       "  <tbody>\n",
       "    <tr>\n",
       "      <td>count</td>\n",
       "      <td>1.095000e+03</td>\n",
       "      <td>1.095000e+03</td>\n",
       "      <td>1.095000e+03</td>\n",
       "      <td>1.095000e+03</td>\n",
       "      <td>1.095000e+03</td>\n",
       "      <td>1.095000e+03</td>\n",
       "      <td>1.095000e+03</td>\n",
       "      <td>1.095000e+03</td>\n",
       "      <td>1.095000e+03</td>\n",
       "      <td>1.095000e+03</td>\n",
       "      <td>...</td>\n",
       "      <td>1095.000000</td>\n",
       "      <td>1.095000e+03</td>\n",
       "      <td>1095.000000</td>\n",
       "      <td>1.095000e+03</td>\n",
       "      <td>1095.000000</td>\n",
       "      <td>1.095000e+03</td>\n",
       "      <td>1095.000000</td>\n",
       "      <td>1.095000e+03</td>\n",
       "      <td>1095.000000</td>\n",
       "      <td>1.095000e+03</td>\n",
       "    </tr>\n",
       "    <tr>\n",
       "      <td>mean</td>\n",
       "      <td>-1.890928e-17</td>\n",
       "      <td>-3.244487e-18</td>\n",
       "      <td>-1.966970e-17</td>\n",
       "      <td>4.288807e-17</td>\n",
       "      <td>4.599314e-17</td>\n",
       "      <td>7.746214e-17</td>\n",
       "      <td>-2.311697e-17</td>\n",
       "      <td>9.327901e-18</td>\n",
       "      <td>3.285043e-17</td>\n",
       "      <td>-4.803362e-17</td>\n",
       "      <td>...</td>\n",
       "      <td>0.951598</td>\n",
       "      <td>2.680504e-17</td>\n",
       "      <td>0.482192</td>\n",
       "      <td>-1.358629e-16</td>\n",
       "      <td>0.543379</td>\n",
       "      <td>-3.127889e-17</td>\n",
       "      <td>0.006393</td>\n",
       "      <td>3.348412e-16</td>\n",
       "      <td>0.025571</td>\n",
       "      <td>3.731160e-16</td>\n",
       "    </tr>\n",
       "    <tr>\n",
       "      <td>std</td>\n",
       "      <td>1.000457e+00</td>\n",
       "      <td>1.000457e+00</td>\n",
       "      <td>1.000457e+00</td>\n",
       "      <td>1.000457e+00</td>\n",
       "      <td>1.000457e+00</td>\n",
       "      <td>1.000457e+00</td>\n",
       "      <td>1.000457e+00</td>\n",
       "      <td>1.000457e+00</td>\n",
       "      <td>1.000457e+00</td>\n",
       "      <td>1.000457e+00</td>\n",
       "      <td>...</td>\n",
       "      <td>0.214712</td>\n",
       "      <td>1.000457e+00</td>\n",
       "      <td>0.499911</td>\n",
       "      <td>1.000457e+00</td>\n",
       "      <td>0.498342</td>\n",
       "      <td>1.000457e+00</td>\n",
       "      <td>0.079735</td>\n",
       "      <td>1.000457e+00</td>\n",
       "      <td>0.157923</td>\n",
       "      <td>1.000457e+00</td>\n",
       "    </tr>\n",
       "    <tr>\n",
       "      <td>min</td>\n",
       "      <td>-1.754601e+00</td>\n",
       "      <td>-8.758972e-01</td>\n",
       "      <td>-1.656944e+00</td>\n",
       "      <td>-8.580866e-01</td>\n",
       "      <td>-3.668381e+00</td>\n",
       "      <td>-4.052709e+00</td>\n",
       "      <td>-3.239369e+00</td>\n",
       "      <td>-1.663202e+00</td>\n",
       "      <td>-5.691486e-01</td>\n",
       "      <td>-9.500490e-01</td>\n",
       "      <td>...</td>\n",
       "      <td>0.000000</td>\n",
       "      <td>-3.381315e+00</td>\n",
       "      <td>0.000000</td>\n",
       "      <td>-8.991869e-01</td>\n",
       "      <td>0.000000</td>\n",
       "      <td>-9.431952e-01</td>\n",
       "      <td>0.000000</td>\n",
       "      <td>-8.001001e-02</td>\n",
       "      <td>0.000000</td>\n",
       "      <td>-1.619932e-01</td>\n",
       "    </tr>\n",
       "    <tr>\n",
       "      <td>25%</td>\n",
       "      <td>-8.500597e-01</td>\n",
       "      <td>-8.758972e-01</td>\n",
       "      <td>-4.406807e-01</td>\n",
       "      <td>-2.833600e-01</td>\n",
       "      <td>-7.899307e-01</td>\n",
       "      <td>-5.173842e-01</td>\n",
       "      <td>-5.523389e-01</td>\n",
       "      <td>-8.952870e-01</td>\n",
       "      <td>-5.691486e-01</td>\n",
       "      <td>-9.500490e-01</td>\n",
       "      <td>...</td>\n",
       "      <td>1.000000</td>\n",
       "      <td>-4.199907e-01</td>\n",
       "      <td>0.000000</td>\n",
       "      <td>-8.991869e-01</td>\n",
       "      <td>0.000000</td>\n",
       "      <td>-9.431952e-01</td>\n",
       "      <td>0.000000</td>\n",
       "      <td>-8.001001e-02</td>\n",
       "      <td>0.000000</td>\n",
       "      <td>-1.619932e-01</td>\n",
       "    </tr>\n",
       "    <tr>\n",
       "      <td>50%</td>\n",
       "      <td>4.427446e-03</td>\n",
       "      <td>-1.582710e-01</td>\n",
       "      <td>1.250231e-01</td>\n",
       "      <td>-9.895824e-02</td>\n",
       "      <td>-7.031829e-02</td>\n",
       "      <td>-5.173842e-01</td>\n",
       "      <td>3.749692e-02</td>\n",
       "      <td>4.005693e-01</td>\n",
       "      <td>-5.691486e-01</td>\n",
       "      <td>-1.350128e-01</td>\n",
       "      <td>...</td>\n",
       "      <td>1.000000</td>\n",
       "      <td>1.507630e-01</td>\n",
       "      <td>0.000000</td>\n",
       "      <td>-8.991869e-01</td>\n",
       "      <td>1.000000</td>\n",
       "      <td>4.826782e-02</td>\n",
       "      <td>0.000000</td>\n",
       "      <td>-8.001001e-02</td>\n",
       "      <td>0.000000</td>\n",
       "      <td>-1.619932e-01</td>\n",
       "    </tr>\n",
       "    <tr>\n",
       "      <td>75%</td>\n",
       "      <td>8.708322e-01</td>\n",
       "      <td>3.201465e-01</td>\n",
       "      <td>5.775862e-01</td>\n",
       "      <td>9.841145e-02</td>\n",
       "      <td>6.492942e-01</td>\n",
       "      <td>3.664469e-01</td>\n",
       "      <td>9.550194e-01</td>\n",
       "      <td>9.285107e-01</td>\n",
       "      <td>3.491756e-01</td>\n",
       "      <td>5.727819e-01</td>\n",
       "      <td>...</td>\n",
       "      <td>1.000000</td>\n",
       "      <td>4.959687e-01</td>\n",
       "      <td>1.000000</td>\n",
       "      <td>8.945203e-01</td>\n",
       "      <td>1.000000</td>\n",
       "      <td>6.947086e-01</td>\n",
       "      <td>0.000000</td>\n",
       "      <td>-8.001001e-02</td>\n",
       "      <td>0.000000</td>\n",
       "      <td>-1.619932e-01</td>\n",
       "    </tr>\n",
       "    <tr>\n",
       "      <td>max</td>\n",
       "      <td>1.720552e+00</td>\n",
       "      <td>3.190652e+00</td>\n",
       "      <td>7.196321e+00</td>\n",
       "      <td>1.881864e+01</td>\n",
       "      <td>2.808131e+00</td>\n",
       "      <td>3.017940e+00</td>\n",
       "      <td>1.282706e+00</td>\n",
       "      <td>1.216479e+00</td>\n",
       "      <td>8.229167e+00</td>\n",
       "      <td>1.115538e+01</td>\n",
       "      <td>...</td>\n",
       "      <td>1.000000</td>\n",
       "      <td>2.702198e+00</td>\n",
       "      <td>1.000000</td>\n",
       "      <td>3.146036e+00</td>\n",
       "      <td>1.000000</td>\n",
       "      <td>3.790111e+00</td>\n",
       "      <td>1.000000</td>\n",
       "      <td>1.412940e+01</td>\n",
       "      <td>1.000000</td>\n",
       "      <td>6.173098e+00</td>\n",
       "    </tr>\n",
       "  </tbody>\n",
       "</table>\n",
       "<p>8 rows × 316 columns</p>\n",
       "</div>"
      ],
      "text/plain": [
       "                 Id    MSSubClass   LotFrontage       LotArea   OverallQual  \\\n",
       "count  1.095000e+03  1.095000e+03  1.095000e+03  1.095000e+03  1.095000e+03   \n",
       "mean  -1.890928e-17 -3.244487e-18 -1.966970e-17  4.288807e-17  4.599314e-17   \n",
       "std    1.000457e+00  1.000457e+00  1.000457e+00  1.000457e+00  1.000457e+00   \n",
       "min   -1.754601e+00 -8.758972e-01 -1.656944e+00 -8.580866e-01 -3.668381e+00   \n",
       "25%   -8.500597e-01 -8.758972e-01 -4.406807e-01 -2.833600e-01 -7.899307e-01   \n",
       "50%    4.427446e-03 -1.582710e-01  1.250231e-01 -9.895824e-02 -7.031829e-02   \n",
       "75%    8.708322e-01  3.201465e-01  5.775862e-01  9.841145e-02  6.492942e-01   \n",
       "max    1.720552e+00  3.190652e+00  7.196321e+00  1.881864e+01  2.808131e+00   \n",
       "\n",
       "        OverallCond     YearBuilt  YearRemodAdd    MasVnrArea    BsmtFinSF1  \\\n",
       "count  1.095000e+03  1.095000e+03  1.095000e+03  1.095000e+03  1.095000e+03   \n",
       "mean   7.746214e-17 -2.311697e-17  9.327901e-18  3.285043e-17 -4.803362e-17   \n",
       "std    1.000457e+00  1.000457e+00  1.000457e+00  1.000457e+00  1.000457e+00   \n",
       "min   -4.052709e+00 -3.239369e+00 -1.663202e+00 -5.691486e-01 -9.500490e-01   \n",
       "25%   -5.173842e-01 -5.523389e-01 -8.952870e-01 -5.691486e-01 -9.500490e-01   \n",
       "50%   -5.173842e-01  3.749692e-02  4.005693e-01 -5.691486e-01 -1.350128e-01   \n",
       "75%    3.664469e-01  9.550194e-01  9.285107e-01  3.491756e-01  5.727819e-01   \n",
       "max    3.017940e+00  1.282706e+00  1.216479e+00  8.229167e+00  1.115538e+01   \n",
       "\n",
       "       ...  HasGarageArea  SqrtGarageArea  HasWoodDeckSF  SqrtWoodDeckSF  \\\n",
       "count  ...    1095.000000    1.095000e+03    1095.000000    1.095000e+03   \n",
       "mean   ...       0.951598    2.680504e-17       0.482192   -1.358629e-16   \n",
       "std    ...       0.214712    1.000457e+00       0.499911    1.000457e+00   \n",
       "min    ...       0.000000   -3.381315e+00       0.000000   -8.991869e-01   \n",
       "25%    ...       1.000000   -4.199907e-01       0.000000   -8.991869e-01   \n",
       "50%    ...       1.000000    1.507630e-01       0.000000   -8.991869e-01   \n",
       "75%    ...       1.000000    4.959687e-01       1.000000    8.945203e-01   \n",
       "max    ...       1.000000    2.702198e+00       1.000000    3.146036e+00   \n",
       "\n",
       "       HasOpenPorchSF  SqrtOpenPorchSF  HasPoolArea  SqrtPoolArea  \\\n",
       "count     1095.000000     1.095000e+03  1095.000000  1.095000e+03   \n",
       "mean         0.543379    -3.127889e-17     0.006393  3.348412e-16   \n",
       "std          0.498342     1.000457e+00     0.079735  1.000457e+00   \n",
       "min          0.000000    -9.431952e-01     0.000000 -8.001001e-02   \n",
       "25%          0.000000    -9.431952e-01     0.000000 -8.001001e-02   \n",
       "50%          1.000000     4.826782e-02     0.000000 -8.001001e-02   \n",
       "75%          1.000000     6.947086e-01     0.000000 -8.001001e-02   \n",
       "max          1.000000     3.790111e+00     1.000000  1.412940e+01   \n",
       "\n",
       "       HasHouseStyle_SFoyer  SqrtHouseStyle_SFoyer  \n",
       "count           1095.000000           1.095000e+03  \n",
       "mean               0.025571           3.731160e-16  \n",
       "std                0.157923           1.000457e+00  \n",
       "min                0.000000          -1.619932e-01  \n",
       "25%                0.000000          -1.619932e-01  \n",
       "50%                0.000000          -1.619932e-01  \n",
       "75%                0.000000          -1.619932e-01  \n",
       "max                1.000000           6.173098e+00  \n",
       "\n",
       "[8 rows x 316 columns]"
      ]
     },
     "execution_count": 20,
     "metadata": {},
     "output_type": "execute_result"
    }
   ],
   "source": [
    "Xhs.describe()"
   ]
  },
  {
   "cell_type": "code",
   "execution_count": 21,
   "metadata": {
    "id": "Gk5tSHOjCQk2"
   },
   "outputs": [],
   "source": [
    "from sklearn.metrics import mean_squared_log_error\n",
    "from sklearn.linear_model import LinearRegression\n",
    "def RMSLE(X,Xt,y,yt):\n",
    "    reg = LinearRegression().fit(X, y)\n",
    "    prediction = np.maximum(reg.predict(Xt), 0) #for cases where prediction gives negative value\n",
    "    return np.sqrt(mean_squared_log_error(yt, prediction))\n",
    "\n",
    "#0.15647604699752776 with just mean sale values for categories, split seed 42\n",
    "#0.1504206900505977 with just mean sale values for categories and area_sf columns, split seed 42\n",
    "#0.14695229359513326 with just mean sale values for categories and area_sf columns, split seed 17\n",
    "\n",
    "#0.5944193755368697 for onehot with area_sf columns, split seed 42\n",
    "#0.1660533076419678 for onehot with area_sf columns, split seed 17"
   ]
  },
  {
   "cell_type": "code",
   "execution_count": 22,
   "metadata": {
    "colab": {
     "base_uri": "https://localhost:8080/",
     "height": 425
    },
    "id": "bO7axotaCQeN",
    "outputId": "3ab23ee6-95d5-4fbf-bc11-c0480d3cb19a"
   },
   "outputs": [
    {
     "name": "stdout",
     "output_type": "stream",
     "text": [
      "mean 0.14695229359566242\n",
      "onehot 0.16605330763982643\n",
      "Standartized\n",
      "mean 0.14695229017702655\n",
      "onehot 1.6814467438479266\n",
      "Normalized\n",
      "mean 0.1520530797321801\n",
      "onehot 2.320534313535139\n"
     ]
    }
   ],
   "source": [
    "#Simple RMSLE calculator\n",
    "print('mean', RMSLE(X,Xt,y,yt))\n",
    "print('onehot', RMSLE(Xh,Xth,yh,yth))\n",
    "print('Standartized')\n",
    "print('mean', RMSLE(Xs,Xts,ys,yts))\n",
    "print('onehot', RMSLE(Xhs,Xths,yhs,yths))\n",
    "print('Normalized')\n",
    "print('mean', RMSLE(Xn,Xtn,yn,ytn))\n",
    "print('onehot', RMSLE(Xhn,Xthn,yhn,ythn))"
   ]
  },
  {
   "cell_type": "code",
   "execution_count": 23,
   "metadata": {
    "id": "yfoUFjwC0WSr"
   },
   "outputs": [
    {
     "name": "stdout",
     "output_type": "stream",
     "text": [
      "Optimalni zaklad log: 4.1170565005064645\n",
      "RMSLE logaritmovaneho y na testovacich datech: 0.12282213460210273\n"
     ]
    }
   ],
   "source": [
    "#Zlogaritmuju odhadovanou hodnotu pri fitovani a po predikci ji znovu vratim do puvodniho skalovani\n",
    "#pomoci getLog najdu idealni zaklad logaritmu. IIRC je tohle nejlepsi dosazene skore (0.12282213460210273)\n",
    "#z pouzitych operaci\n",
    "def getLog(X,Y):\n",
    "    xx,xxt,yy,yyt=tts(X,Y)#oddelim validacni data\n",
    "    def testLog(lo):\n",
    "        lrg = LinearRegression().fit(xx,np.log(yy)/np.log(lo))#logb(x)=loge(x)/loge(b)\n",
    "        l = np.sqrt(mean_squared_log_error(yyt, np.exp(lrg.predict(xxt)*np.log(lo))))\n",
    "        return l\n",
    "    \n",
    "    opt_base = optimize.minimize_scalar(testLog, options= {'maxiter':1100}, method='bounded', bounds=[3.0,5.0])\n",
    "    print('Optimalni zaklad log:', opt_base.x)\n",
    "    return opt_base.x\n",
    "\n",
    "def testTestDataLog(X,y,Xt,yt):\n",
    "    lbase = getLog(X, y)\n",
    "    lrg = LinearRegression().fit(X,np.log(y)/np.log(lbase))\n",
    "    prediction = pd.Series(np.exp(lrg.predict(Xt)*np.log(lbase)), index=yt.index)\n",
    "    l = np.sqrt(mean_squared_log_error(yt, prediction))#*np.log(lbase) me vrati do zakladu e\n",
    "    print('RMSLE logaritmovaneho y na testovacich datech:', l)\n",
    "    \n",
    "testTestDataLog(Xs.copy(),ys.copy(),Xts.copy(),yts.copy())"
   ]
  },
  {
   "cell_type": "code",
   "execution_count": 24,
   "metadata": {
    "id": "14lQacJ1CQbF"
   },
   "outputs": [],
   "source": [
    "#testing methods from tutorial\n",
    "def linreg(X, Xv, y, yv, plot = True, train_error = False):\n",
    "    # Linear Regression train\n",
    "    clf = linear_model.LinearRegression()\n",
    "    clf.fit(X, y) \n",
    "    \n",
    "    # Print RMSLE\n",
    "    prediction = np.maximum(clf.predict(Xv), 0)\n",
    "    print(f'RMSLE validation: {np.sqrt(metrics.mean_squared_log_error(prediction, yv))}')\n",
    "    if train_error:\n",
    "        prediction = np.maximum(clf.predict(X), 0)\n",
    "        print(f'RMSLE train: {np.sqrt(metrics.mean_squared_log_error(prediction, y))}')\n",
    "    \n",
    "    # Plot\n",
    "    if plot:\n",
    "        plt.scatter(yv, clf.predict(Xv))\n",
    "        plt.plot([0,600000], [0,600000], 'r')\n",
    "        plt.show()\n",
    "\n",
    "def ridgereg(X, Xv, y, yv, plot = True, train_error = False, print_opt = False): \n",
    "    # Prepare functions to automatic alpha determination using cross validation\n",
    "    def scorer(Y, yp):\n",
    "        return np.sqrt(metrics.mean_squared_error(Y, yp)) # RMSE as scorer\n",
    "    def ridgemodel(alpha):\n",
    "        clf = linear_model.Ridge(alpha=alpha)\n",
    "        return np.mean(model_selection.cross_val_score(clf, X, y, cv=5, scoring=metrics.make_scorer(scorer)))\n",
    "    \n",
    "    # Find Ridge alpha automatically\n",
    "    opt_alpha = optimize.minimize_scalar(ridgemodel, options = {'maxiter': 30}, method = 'bounded', bounds=(0.1, 400))\n",
    "    if print_opt:\n",
    "        print(opt_alpha)\n",
    "    \n",
    "    # Ridge regression model\n",
    "    clf = linear_model.Ridge(alpha=opt_alpha.x)\n",
    "    clf.fit(X, y) \n",
    "    \n",
    "    # Print RMSLE\n",
    "    prediction = np.maximum(clf.predict(Xv), 0)\n",
    "    print(f'RMSLE validation: {np.sqrt(metrics.mean_squared_log_error(prediction,yv))}')\n",
    "    if train_error:\n",
    "        prediction = np.maximum(clf.predict(X), 0)\n",
    "        print(f'RMSLE train: {np.sqrt(metrics.mean_squared_log_error(prediction, y))}')\n",
    "        \n",
    "    # Plot\n",
    "    if plot:\n",
    "        plt.scatter(yv, clf.predict(Xv))\n",
    "        plt.plot([0,600000], [0,600000], 'r')\n",
    "        plt.show()\n",
    "#Means:\n",
    "#Linear: 0.14695229359513326\n",
    "#Ridge: 0.14997168650409262\n",
    "#One hot:\n",
    "#0.1660533076419678\n",
    "#0.14135887204778697"
   ]
  },
  {
   "cell_type": "code",
   "execution_count": 25,
   "metadata": {
    "id": "KW5BqPQCCQSM",
    "scrolled": true
   },
   "outputs": [
    {
     "name": "stdout",
     "output_type": "stream",
     "text": [
      "LinearRegression\n",
      "\n",
      "mean\n",
      "RMSLE validation: 0.14695229359566242\n",
      "\n",
      "onehot\n",
      "RMSLE validation: 0.16605330763982643\n",
      "\n",
      "Standartized:\n",
      "mean\n",
      "RMSLE validation: 0.14695229017702655\n",
      "\n",
      "onehot\n",
      "RMSLE validation: 1.6814467438479266\n",
      "\n",
      "Normalized:\n",
      "mean\n",
      "RMSLE validation: 0.1520530797321801\n",
      "\n",
      "onehot\n",
      "RMSLE validation: 2.320534313535139\n",
      "\n",
      "======================================\n",
      "\n",
      "\n",
      "RidgeRegression\n",
      "\n",
      "mean\n",
      "RMSLE validation: 0.14997168649828127\n",
      "\n",
      "onehot\n",
      "RMSLE validation: 0.14135887204769754\n",
      "\n",
      "Standartized:\n",
      "mean\n",
      "RMSLE validation: 0.14154344662961743\n",
      "\n",
      "onehot\n",
      "RMSLE validation: 0.13838548809071324\n",
      "\n",
      "Normalized:\n",
      "mean\n",
      "RMSLE validation: 0.1452951184078423\n",
      "\n",
      "onehot\n",
      "RMSLE validation: 0.1373086334231278\n"
     ]
    }
   ],
   "source": [
    "print('LinearRegression')\n",
    "print('\\nmean')\n",
    "linreg(X,Xt,y,yt, plot = False)\n",
    "print('\\nonehot')\n",
    "linreg(Xh,Xth,yh,yth, plot = False)\n",
    "\n",
    "print('\\nStandartized:')\n",
    "print('mean')\n",
    "linreg(Xs,Xts,ys,yts, plot = False)\n",
    "print('\\nonehot')\n",
    "linreg(Xhs,Xths,yhs,yths, plot = False)\n",
    "\n",
    "print('\\nNormalized:')\n",
    "print('mean')\n",
    "linreg(Xn,Xtn,yn,ytn, plot = False)\n",
    "print('\\nonehot')\n",
    "linreg(Xhn,Xthn,yhn,ythn, plot = False)\n",
    "\n",
    "print('\\n======================================')\n",
    "\n",
    "print('\\n\\nRidgeRegression')\n",
    "print('\\nmean')\n",
    "ridgereg(X,Xt,y,yt, plot = False)\n",
    "print('\\nonehot')\n",
    "ridgereg(Xh,Xth,yh,yth, plot = False)\n",
    "print('\\nStandartized:')\n",
    "print('mean')\n",
    "ridgereg(Xs,Xts,ys,yts, plot = False)\n",
    "print('\\nonehot')\n",
    "ridgereg(Xhs,Xths,yhs,yths, plot = False)\n",
    "print('\\nNormalized:')\n",
    "print('mean')\n",
    "ridgereg(Xn,Xtn,yn,ytn, plot = False)\n",
    "print('\\nonehot')\n",
    "ridgereg(Xhn,Xthn,yhn,ythn, plot = False)"
   ]
  },
  {
   "cell_type": "markdown",
   "metadata": {
    "id": "qUiLfYUlCQPx"
   },
   "source": [
    "# 3 - Subset of features"
   ]
  },
  {
   "cell_type": "code",
   "execution_count": 26,
   "metadata": {
    "id": "FZkmQkVt4rIq"
   },
   "outputs": [
    {
     "name": "stdout",
     "output_type": "stream",
     "text": [
      "Mean:\n",
      "Normal with 105 features: 0.1520530797321801\n",
      "Subset of 95 features: 0.13885972837808164\n",
      "Onehot:\n",
      "Normal with 316 features: 2.320534313535139\n",
      "Subset of 216 features: 1.2357143360347145\n"
     ]
    }
   ],
   "source": [
    "#by correlation for normalized data\n",
    "def corr_subset(X, Xt, y, yt):\n",
    "    corr = pd.concat((X, y), axis = 1).corr()\n",
    "    #idx = corr['SalePrice'].abs().nsmallest(15).index\n",
    "    #print(corr.loc[idx, 'SalePrice'])\n",
    "    to_remove = corr.loc[corr['SalePrice'].abs() < 0.05].index\n",
    "\n",
    "    X_subset = X.drop(columns = to_remove)\n",
    "    Xt_subset = Xt.drop(columns = to_remove)\n",
    "    print('Normal with', X.shape[1], 'features:', RMSLE(X,Xt,y,yt))\n",
    "    print('Subset of', X_subset.shape[1], 'features:', RMSLE(X_subset,Xt_subset,y,yt))\n",
    "    return X_subset, Xt_subset\n",
    "\n",
    "print('Mean:')\n",
    "Xn_subset, Xtn_subset = corr_subset(Xn, Xtn, yn, ytn)\n",
    "print('Onehot:')\n",
    "Xhn_subset, Xthn_subset = corr_subset(Xhn, Xthn, yhn, ythn)\n",
    "#Reducing dimensionality actually helped the accuracy in both cases"
   ]
  },
  {
   "cell_type": "code",
   "execution_count": 27,
   "metadata": {},
   "outputs": [
    {
     "name": "stdout",
     "output_type": "stream",
     "text": [
      "Mean:\n",
      "RMSLE validation: 0.14665352388388844\n",
      "Onehot:\n",
      "RMSLE validation: 0.13795030337312875\n"
     ]
    }
   ],
   "source": [
    "print('Mean:')\n",
    "ridgereg(Xn_subset, Xtn_subset, yn, ytn, plot = False)\n",
    "print('Onehot:')\n",
    "ridgereg(Xhn_subset, Xthn_subset, yn, ytn, plot = False)\n",
    "#Ridge improved even more"
   ]
  },
  {
   "cell_type": "code",
   "execution_count": 28,
   "metadata": {},
   "outputs": [
    {
     "name": "stdout",
     "output_type": "stream",
     "text": [
      "Mean:\n",
      "Normal with 105 features: 0.1520530797321801\n",
      "Subset of 92 features: 0.14673818322714408\n",
      "Onehot:\n",
      "Normal with 216 features: 1.2357143360347145\n",
      "Subset of 175 features: 0.15259466103856828\n"
     ]
    }
   ],
   "source": [
    "#Lasso\n",
    "def lasso_subset(X, Xt, y, yt):\n",
    "    lasso = linear_model.Lasso(alpha = 10, max_iter = 10000, tol = 1e-2)\n",
    "    sfm = feature_selection.SelectFromModel(lasso)\n",
    "    sfm.fit(X, y)\n",
    "    to_keep = pd.DataFrame({'Chosen': sfm.get_support()}, index=X.columns)\n",
    "    \n",
    "    display()\n",
    "    X_subset = X.loc[:, to_keep['Chosen']]\n",
    "    Xt_subset = Xt.loc[:, to_keep['Chosen']]\n",
    "    \n",
    "    print('Normal with', X.shape[1], 'features:', RMSLE(X,Xt,y,yt))\n",
    "    print('Subset of', X_subset.shape[1], 'features:', RMSLE(X_subset,Xt_subset,y,yt))\n",
    "    return X_subset, Xt_subset\n",
    "\n",
    "print('Mean:')\n",
    "Xn_subset, Xtn_subset = lasso_subset(Xn, Xtn, yn, ytn)\n",
    "print('Onehot:')  \n",
    "Xhn_subset, Xthn_subset = lasso_subset(Xhn_subset, Xthn_subset, yhn, ythn)\n",
    "#For onehot the result is the same, mean improved slightly"
   ]
  },
  {
   "cell_type": "code",
   "execution_count": 29,
   "metadata": {},
   "outputs": [
    {
     "name": "stdout",
     "output_type": "stream",
     "text": [
      "Mean:\n",
      "RMSLE validation: 0.1453735927928025\n",
      "Onehot:\n",
      "RMSLE validation: 0.1369721253156924\n"
     ]
    }
   ],
   "source": [
    "print('Mean:')\n",
    "ridgereg(Xn_subset, Xtn_subset, yn, ytn, plot = False)\n",
    "print('Onehot:')\n",
    "ridgereg(Xhn_subset, Xthn_subset, yn, ytn, plot = False)\n",
    "#Ridge improved even more"
   ]
  },
  {
   "cell_type": "markdown",
   "metadata": {},
   "source": [
    "# 4 - PCA"
   ]
  },
  {
   "cell_type": "code",
   "execution_count": 30,
   "metadata": {},
   "outputs": [],
   "source": [
    "#PCA is best with Standartized data\n",
    "from sklearn.decomposition import PCA\n",
    "\n",
    "def apply_pca(data, y, validation = None, n_components = None):\n",
    "    def scorer(Y, yp):\n",
    "        return np.sqrt(metrics.mean_squared_log_error(Y, np.maximum(yp, 0)))\n",
    "    def pcamodel(comp):\n",
    "        pca = PCA(n_components = int(comp)).fit_transform(data)\n",
    "        clf = LinearRegression()\n",
    "        crs = model_selection.cross_val_score(clf, X = pca, y = y, cv=5, scoring=metrics.make_scorer(scorer))\n",
    "        return np.mean(crs)\n",
    "    \n",
    "    if n_components is None:\n",
    "        opt_components = optimize.minimize_scalar(pcamodel, options = {'maxiter': 80}, method = 'bounded', bounds=(1, data.shape[1]/2))\n",
    "        opt = int(opt_components.x)\n",
    "        print('Optimal n_components:', opt)\n",
    "    else:\n",
    "        opt = n_components\n",
    "\n",
    "    dt = data.copy()\n",
    "    pca = PCA(n_components = opt)\n",
    "    dt = pca.fit_transform(dt)\n",
    "    if validation is not None:\n",
    "        dv = validation.copy()\n",
    "        dv = pca.transform(dv)\n",
    "        return dt, dv\n",
    "    return dt\n",
    "\n"
   ]
  },
  {
   "cell_type": "code",
   "execution_count": 31,
   "metadata": {},
   "outputs": [],
   "source": [
    "def pca_calculator(X,Xt,y,yt):\n",
    "    def scorer(Y, yp):\n",
    "        return np.sqrt(metrics.mean_squared_log_error(Y, np.maximum(yp, 0)))\n",
    "    errors_cvs = []\n",
    "    errors_RMSLE = []\n",
    "    for i in range(1, X.shape[1]):\n",
    "        X_pca, Xt_pca = apply_pca(X, y, Xt, i)\n",
    "        clf = LinearRegression()\n",
    "        cvs = model_selection.cross_val_score(clf, X = X_pca, y = y, cv=5, scoring=metrics.make_scorer(scorer))\n",
    "        clf.fit(X_pca, y)\n",
    "        prediction = clf.predict(Xt_pca)\n",
    "        err = np.sqrt(metrics.mean_squared_log_error(yt, np.maximum(prediction, 0)))\n",
    "        errors_cvs.append(np.mean(cvs))\n",
    "        errors_RMSLE.append(err)\n",
    "        \n",
    "    return errors_RMSLE, errors_cvs\n"
   ]
  },
  {
   "cell_type": "code",
   "execution_count": 32,
   "metadata": {},
   "outputs": [
    {
     "data": {
      "image/png": "[encoded data removed]",
      "text/plain": [
       "<Figure size 432x288 with 1 Axes>"
      ]
     },
     "metadata": {
      "needs_background": "light"
     },
     "output_type": "display_data"
    },
    {
     "data": {
      "text/plain": [
       "[<matplotlib.lines.Line2D at 0x7f7713dd5d90>]"
      ]
     },
     "execution_count": 32,
     "metadata": {},
     "output_type": "execute_result"
    },
    {
     "data": {
      "image/png": "[encoded data removed]",
      "text/plain": [
       "<Figure size 432x288 with 1 Axes>"
      ]
     },
     "metadata": {
      "needs_background": "light"
     },
     "output_type": "display_data"
    }
   ],
   "source": [
    "#Errors are amplified by high dimensionality in both graphs\n",
    "errors_RMSLE, errors_cvs = pca_calculator(Xhs, Xths, yhs, yths)\n",
    "plt.plot(errors_RMSLE)\n",
    "plt.show()\n",
    "plt.plot(errors_cvs)"
   ]
  },
  {
   "cell_type": "code",
   "execution_count": 33,
   "metadata": {},
   "outputs": [
    {
     "data": {
      "image/png": "[encoded data removed]",
      "text/plain": [
       "<Figure size 432x288 with 1 Axes>"
      ]
     },
     "metadata": {
      "needs_background": "light"
     },
     "output_type": "display_data"
    },
    {
     "data": {
      "image/png": "[encoded data removed]",
      "text/plain": [
       "<Figure size 432x288 with 1 Axes>"
      ]
     },
     "metadata": {
      "needs_background": "light"
     },
     "output_type": "display_data"
    },
    {
     "name": "stdout",
     "output_type": "stream",
     "text": [
      "Standart number of components: 316\n",
      "Optimal n_components by RMSLE: 47 error: 0.1458052771542568\n",
      "Optimal n_components by CVS: 82 error: 0.1629691798520637\n"
     ]
    }
   ],
   "source": [
    "plt.plot(errors_RMSLE[:100])\n",
    "plt.show()\n",
    "plt.plot(errors_cvs[:100])\n",
    "plt.show()\n",
    "print('Standart number of components:', Xhs.shape[1])\n",
    "print('Optimal n_components by RMSLE:', np.argmin(errors_RMSLE), 'error:', min(errors_RMSLE))\n",
    "print('Optimal n_components by CVS:', np.argmin(errors_cvs), 'error:', min(errors_cvs))\n",
    "#TLDR:best value of n_components is around 46"
   ]
  },
  {
   "cell_type": "code",
   "execution_count": 34,
   "metadata": {},
   "outputs": [
    {
     "data": {
      "image/png": "[encoded data removed]",
      "text/plain": [
       "<Figure size 432x288 with 1 Axes>"
      ]
     },
     "metadata": {
      "needs_background": "light"
     },
     "output_type": "display_data"
    },
    {
     "data": {
      "text/plain": [
       "[<matplotlib.lines.Line2D at 0x7f77100edd50>]"
      ]
     },
     "execution_count": 34,
     "metadata": {},
     "output_type": "execute_result"
    },
    {
     "data": {
      "image/png": "[encoded data removed]",
      "text/plain": [
       "<Figure size 432x288 with 1 Axes>"
      ]
     },
     "metadata": {
      "needs_background": "light"
     },
     "output_type": "display_data"
    }
   ],
   "source": [
    "\n",
    "errors_RMSLE, errors_cvs = pca_calculator(Xs, Xts, ys, yts)\n",
    "plt.plot(errors_RMSLE)\n",
    "plt.show()\n",
    "plt.plot(errors_cvs)\n"
   ]
  },
  {
   "cell_type": "code",
   "execution_count": 35,
   "metadata": {},
   "outputs": [
    {
     "data": {
      "image/png": "[encoded data removed]",
      "text/plain": [
       "<Figure size 432x288 with 1 Axes>"
      ]
     },
     "metadata": {
      "needs_background": "light"
     },
     "output_type": "display_data"
    },
    {
     "data": {
      "image/png": "[encoded data removed]",
      "text/plain": [
       "<Figure size 432x288 with 1 Axes>"
      ]
     },
     "metadata": {
      "needs_background": "light"
     },
     "output_type": "display_data"
    },
    {
     "name": "stdout",
     "output_type": "stream",
     "text": [
      "Standart number of components: 105\n",
      "Optimal n_components by RMSLE: 97 error: 0.1457939673856775\n",
      "Optimal n_components by CVS: 44 error: 0.16619233235075842\n"
     ]
    }
   ],
   "source": [
    "plt.plot(errors_RMSLE[:100])\n",
    "plt.show()\n",
    "plt.plot(errors_cvs[:100])\n",
    "plt.show()\n",
    "print('Standart number of components:', Xs.shape[1])\n",
    "print('Optimal n_components by RMSLE:', np.argmin(errors_RMSLE), 'error:', min(errors_RMSLE))\n",
    "print('Optimal n_components by CVS:', np.argmin(errors_cvs), 'error:', min(errors_cvs))\n",
    "#TLDR:very good values of n_components can be as low as 16 (error 0.1708588001494133)"
   ]
  },
  {
   "cell_type": "markdown",
   "metadata": {},
   "source": [
    "### TLDR: aproach with mean values for categories is comparably succesful with onehot encoding. \n",
    "### PCA was able to improve accuracy by reducing number of components, for both onehot and means, sometimes to number of components as low as 16."
   ]
  }
 ],
 "metadata": {
  "colab": {
   "collapsed_sections": [],
   "name": "03_homework.ipynb",
   "provenance": []
  },
  "kernelspec": {
   "display_name": "Python 3",
   "language": "python",
   "name": "python3"
  },
  "language_info": {
   "codemirror_mode": {
    "name": "ipython",
    "version": 3
   },
   "file_extension": ".py",
   "mimetype": "text/x-python",
   "name": "python",
   "nbconvert_exporter": "python",
   "pygments_lexer": "ipython3",
   "version": "3.7.4"
  }
 },
 "nbformat": 4,
 "nbformat_minor": 1
}
