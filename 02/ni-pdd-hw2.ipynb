{
  "nbformat": 4,
  "nbformat_minor": 0,
  "metadata": {
    "kernelspec": {
      "display_name": "Python 3",
      "language": "python",
      "name": "python3"
    },
    "language_info": {
      "codemirror_mode": {
        "name": "ipython",
        "version": 3
      },
      "file_extension": ".py",
      "mimetype": "text/x-python",
      "name": "python",
      "nbconvert_exporter": "python",
      "pygments_lexer": "ipython3",
      "version": "3.7.9"
    },
    "colab": {
      "name": "02_homework.ipynb",
      "provenance": [],
      "collapsed_sections": []
    }
  },
  "cells": [
    {
      "cell_type": "markdown",
      "metadata": {
        "id": "pRGsoMaKiY-K"
      },
      "source": [
        "# Homework 2 - balancing & binning (deadline 28. 11. 2020)\n",
        "\n",
        "In short, the main task is to play with balancing and binning to obtain the best results for the binary classification task.\n",
        "  \n",
        "> The instructions are not given in details: It is up to you to come up with ideas on how to fulfill the particular tasks as best you can!\n",
        "\n",
        "## What are you supposed to do:\n",
        "\n",
        "  1. Download the dataset [here](https://www.dropbox.com/s/aq08ytozfplb97b/data.csv?dl=0).\n",
        "  1. Use 2 binning methods (on features of your choice, with your choice of parameters) and comment on its effects on classification performance.\n",
        "  1. Use at least 2 other data balancing techniques of your choice on the dataset and comment the classification results. **Just copied code from tutorial 4 will not be accepted.**\n",
        "  1. Run all classification tests at least three times - once for unbalanced original data, twice for balanced data (try at least 2 balancing techniques), compare those results (give a comment).\n",
        "  \n",
        "Give comments (!) on each step of your solution, with short explanations of your choices.\n",
        "\n",
        "**If you do all this properly, you will obtain 16 points.** \n",
        "\n",
        "## Comments\n",
        "\n",
        "  * Please follow the instructions from https://courses.fit.cvut.cz/MI-PDD/homeworks/index.html.\n",
        "  * If the reviewing teacher is not satisfied, she can (!) give you another chance to rework your homework and to obtain more points. However, this is not a given, so do your best! :)\n",
        "  * English is not compulsory.\n",
        "  \n",
        "## Data description\n",
        "\n",
        "* The dataset can be downloaded [here](https://www.dropbox.com/s/aq08ytozfplb97b/data.csv?dl=0).\n",
        "* The data are devoted to the binary classification task, the aim is to predict the probability that a driver will initiate an auto insurance claim in the next year.\n",
        "* Target feature is called 'y' and signifies whether or not a claim was filed for that policy holder.\n",
        "* To fulfill the task one does not need to know the meaning of predictors.\n",
        "* Predictors that belong to similar groupings are tagged as such in the feature names (e.g., ind, reg, car, calc). In addition, feature names include the postfix bin to indicate binary features and cat to indicate categorical features. Features without these designations are either continuous or ordinal. Values of -1 indicate that the feature was missing from the observation.\n",
        "* While using [train_test_split](https://scikit-learn.org/stable/modules/generated/sklearn.model_selection.train_test_split.html), control the shuffling of data by random_state parameter. Do not use shuffle=False, probably never (can cause systematic error)."
      ]
    },
    {
      "cell_type": "code",
      "metadata": {
        "colab": {
          "base_uri": "https://localhost:8080/"
        },
        "id": "6UHR14xUPiKA",
        "outputId": "01f7211b-4b98-460b-d197-665f43a154e6"
      },
      "source": [
        "from google.colab import drive\n",
        "drive.mount('/content/drive')"
      ],
      "execution_count": 83,
      "outputs": [
        {
          "output_type": "stream",
          "text": [
            "Drive already mounted at /content/drive; to attempt to forcibly remount, call drive.mount(\"/content/drive\", force_remount=True).\n"
          ],
          "name": "stdout"
        }
      ]
    },
    {
      "cell_type": "code",
      "metadata": {
        "id": "b5QJUmgIiY-K"
      },
      "source": [
        "# Only basic libraries here\n",
        "import numpy as np\n",
        "import pandas as pd"
      ],
      "execution_count": 84,
      "outputs": []
    },
    {
      "cell_type": "code",
      "metadata": {
        "id": "TVT2aur2SNGm"
      },
      "source": [
        "df_base = pd.read_csv('/content/drive/My Drive/data.csv')"
      ],
      "execution_count": 85,
      "outputs": []
    },
    {
      "cell_type": "code",
      "metadata": {
        "colab": {
          "base_uri": "https://localhost:8080/",
          "height": 1000
        },
        "id": "OXlplCdlSSZT",
        "outputId": "bd2423cd-9cb8-4ee4-ec9b-448a1a55795f"
      },
      "source": [
        "# obtain basic data info\n",
        "display(df_base.info()) # basic info about entries including number of non-null values\n",
        "display(df_base.nunique()) # basic info about entries including number of non-null values"
      ],
      "execution_count": 86,
      "outputs": [
        {
          "output_type": "display_data",
          "data": {
            "text/plain": [
              "(595212, 58)"
            ]
          },
          "metadata": {
            "tags": []
          }
        },
        {
          "output_type": "stream",
          "text": [
            "<class 'pandas.core.frame.DataFrame'>\n",
            "RangeIndex: 595212 entries, 0 to 595211\n",
            "Data columns (total 58 columns):\n",
            " #   Column        Non-Null Count   Dtype  \n",
            "---  ------        --------------   -----  \n",
            " 0   y             595212 non-null  int64  \n",
            " 1   xind_01       595212 non-null  int64  \n",
            " 2   xind_02_cat   595212 non-null  int64  \n",
            " 3   xind_03       595212 non-null  int64  \n",
            " 4   xind_04_cat   595212 non-null  int64  \n",
            " 5   xind_05_cat   595212 non-null  int64  \n",
            " 6   xind_06_bin   595212 non-null  int64  \n",
            " 7   xind_07_bin   595212 non-null  int64  \n",
            " 8   xind_08_bin   595212 non-null  int64  \n",
            " 9   xind_09_bin   595212 non-null  int64  \n",
            " 10  xind_10_bin   595212 non-null  int64  \n",
            " 11  xind_11_bin   595212 non-null  int64  \n",
            " 12  xind_12_bin   595212 non-null  int64  \n",
            " 13  xind_13_bin   595212 non-null  int64  \n",
            " 14  xind_14       595212 non-null  int64  \n",
            " 15  xind_15       595212 non-null  int64  \n",
            " 16  xind_16_bin   595212 non-null  int64  \n",
            " 17  xind_17_bin   595212 non-null  int64  \n",
            " 18  xind_18_bin   595212 non-null  int64  \n",
            " 19  xreg_01       595212 non-null  float64\n",
            " 20  xreg_02       595212 non-null  float64\n",
            " 21  xreg_03       595212 non-null  float64\n",
            " 22  xcar_01_cat   595212 non-null  int64  \n",
            " 23  xcar_02_cat   595212 non-null  int64  \n",
            " 24  xcar_03_cat   595212 non-null  int64  \n",
            " 25  xcar_04_cat   595212 non-null  int64  \n",
            " 26  xcar_05_cat   595212 non-null  int64  \n",
            " 27  xcar_06_cat   595212 non-null  int64  \n",
            " 28  xcar_07_cat   595212 non-null  int64  \n",
            " 29  xcar_08_cat   595212 non-null  int64  \n",
            " 30  xcar_09_cat   595212 non-null  int64  \n",
            " 31  xcar_10_cat   595212 non-null  int64  \n",
            " 32  xcar_11_cat   595212 non-null  int64  \n",
            " 33  xcar_11       595212 non-null  int64  \n",
            " 34  xcar_12       595212 non-null  float64\n",
            " 35  xcar_13       595212 non-null  float64\n",
            " 36  xcar_14       595212 non-null  float64\n",
            " 37  xcar_15       595212 non-null  float64\n",
            " 38  xcalc_01      595212 non-null  float64\n",
            " 39  xcalc_02      595212 non-null  float64\n",
            " 40  xcalc_03      595212 non-null  float64\n",
            " 41  xcalc_04      595212 non-null  int64  \n",
            " 42  xcalc_05      595212 non-null  int64  \n",
            " 43  xcalc_06      595212 non-null  int64  \n",
            " 44  xcalc_07      595212 non-null  int64  \n",
            " 45  xcalc_08      595212 non-null  int64  \n",
            " 46  xcalc_09      595212 non-null  int64  \n",
            " 47  xcalc_10      595212 non-null  int64  \n",
            " 48  xcalc_11      595212 non-null  int64  \n",
            " 49  xcalc_12      595212 non-null  int64  \n",
            " 50  xcalc_13      595212 non-null  int64  \n",
            " 51  xcalc_14      595212 non-null  int64  \n",
            " 52  xcalc_15_bin  595212 non-null  int64  \n",
            " 53  xcalc_16_bin  595212 non-null  int64  \n",
            " 54  xcalc_17_bin  595212 non-null  int64  \n",
            " 55  xcalc_18_bin  595212 non-null  int64  \n",
            " 56  xcalc_19_bin  595212 non-null  int64  \n",
            " 57  xcalc_20_bin  595212 non-null  int64  \n",
            "dtypes: float64(10), int64(48)\n",
            "memory usage: 263.4 MB\n"
          ],
          "name": "stdout"
        },
        {
          "output_type": "display_data",
          "data": {
            "text/plain": [
              "None"
            ]
          },
          "metadata": {
            "tags": []
          }
        },
        {
          "output_type": "display_data",
          "data": {
            "text/plain": [
              "y                   2\n",
              "xind_01             8\n",
              "xind_02_cat         5\n",
              "xind_03            12\n",
              "xind_04_cat         3\n",
              "xind_05_cat         8\n",
              "xind_06_bin         2\n",
              "xind_07_bin         2\n",
              "xind_08_bin         2\n",
              "xind_09_bin         2\n",
              "xind_10_bin         2\n",
              "xind_11_bin         2\n",
              "xind_12_bin         2\n",
              "xind_13_bin         2\n",
              "xind_14             5\n",
              "xind_15            14\n",
              "xind_16_bin         2\n",
              "xind_17_bin         2\n",
              "xind_18_bin         2\n",
              "xreg_01            10\n",
              "xreg_02            19\n",
              "xreg_03          5013\n",
              "xcar_01_cat        13\n",
              "xcar_02_cat         3\n",
              "xcar_03_cat         3\n",
              "xcar_04_cat        10\n",
              "xcar_05_cat         3\n",
              "xcar_06_cat        18\n",
              "xcar_07_cat         3\n",
              "xcar_08_cat         2\n",
              "xcar_09_cat         6\n",
              "xcar_10_cat         3\n",
              "xcar_11_cat       104\n",
              "xcar_11             5\n",
              "xcar_12           184\n",
              "xcar_13         70482\n",
              "xcar_14           850\n",
              "xcar_15            15\n",
              "xcalc_01           10\n",
              "xcalc_02           10\n",
              "xcalc_03           10\n",
              "xcalc_04            6\n",
              "xcalc_05            7\n",
              "xcalc_06           11\n",
              "xcalc_07           10\n",
              "xcalc_08           11\n",
              "xcalc_09            8\n",
              "xcalc_10           26\n",
              "xcalc_11           20\n",
              "xcalc_12           11\n",
              "xcalc_13           14\n",
              "xcalc_14           24\n",
              "xcalc_15_bin        2\n",
              "xcalc_16_bin        2\n",
              "xcalc_17_bin        2\n",
              "xcalc_18_bin        2\n",
              "xcalc_19_bin        2\n",
              "xcalc_20_bin        2\n",
              "dtype: int64"
            ]
          },
          "metadata": {
            "tags": []
          }
        }
      ]
    },
    {
      "cell_type": "code",
      "metadata": {
        "id": "Na1kkrymSPOi"
      },
      "source": [
        "#priprava dat\n",
        "df = df_base.copy()\n",
        "\n",
        "for col in df.columns:\n",
        "  if '_bin' in col:\n",
        "    df[col] = df[col].astype('bool')\n",
        "  elif '_cat' in col:\n",
        "    categories = pd.api.types.CategoricalDtype(categories=df[col].unique(), ordered=False)\n",
        "    df[col] = df[col].astype(categories)"
      ],
      "execution_count": 87,
      "outputs": []
    },
    {
      "cell_type": "code",
      "metadata": {
        "colab": {
          "base_uri": "https://localhost:8080/",
          "height": 317
        },
        "id": "XGa5uEZa3Lt1",
        "outputId": "d0e97484-f73b-46a9-88d0-0a9fbfb9a3d0"
      },
      "source": [
        "df.describe()"
      ],
      "execution_count": 88,
      "outputs": [
        {
          "output_type": "execute_result",
          "data": {
            "text/html": [
              "<div>\n",
              "<style scoped>\n",
              "    .dataframe tbody tr th:only-of-type {\n",
              "        vertical-align: middle;\n",
              "    }\n",
              "\n",
              "    .dataframe tbody tr th {\n",
              "        vertical-align: top;\n",
              "    }\n",
              "\n",
              "    .dataframe thead th {\n",
              "        text-align: right;\n",
              "    }\n",
              "</style>\n",
              "<table border=\"1\" class=\"dataframe\">\n",
              "  <thead>\n",
              "    <tr style=\"text-align: right;\">\n",
              "      <th></th>\n",
              "      <th>y</th>\n",
              "      <th>xind_01</th>\n",
              "      <th>xind_03</th>\n",
              "      <th>xind_14</th>\n",
              "      <th>xind_15</th>\n",
              "      <th>xreg_01</th>\n",
              "      <th>xreg_02</th>\n",
              "      <th>xreg_03</th>\n",
              "      <th>xcar_11</th>\n",
              "      <th>xcar_12</th>\n",
              "      <th>xcar_13</th>\n",
              "      <th>xcar_14</th>\n",
              "      <th>xcar_15</th>\n",
              "      <th>xcalc_01</th>\n",
              "      <th>xcalc_02</th>\n",
              "      <th>xcalc_03</th>\n",
              "      <th>xcalc_04</th>\n",
              "      <th>xcalc_05</th>\n",
              "      <th>xcalc_06</th>\n",
              "      <th>xcalc_07</th>\n",
              "      <th>xcalc_08</th>\n",
              "      <th>xcalc_09</th>\n",
              "      <th>xcalc_10</th>\n",
              "      <th>xcalc_11</th>\n",
              "      <th>xcalc_12</th>\n",
              "      <th>xcalc_13</th>\n",
              "      <th>xcalc_14</th>\n",
              "    </tr>\n",
              "  </thead>\n",
              "  <tbody>\n",
              "    <tr>\n",
              "      <th>count</th>\n",
              "      <td>595212.000000</td>\n",
              "      <td>595212.000000</td>\n",
              "      <td>595212.000000</td>\n",
              "      <td>595212.000000</td>\n",
              "      <td>595212.000000</td>\n",
              "      <td>595212.000000</td>\n",
              "      <td>595212.000000</td>\n",
              "      <td>595212.000000</td>\n",
              "      <td>595212.000000</td>\n",
              "      <td>595212.000000</td>\n",
              "      <td>595212.000000</td>\n",
              "      <td>595212.000000</td>\n",
              "      <td>595212.000000</td>\n",
              "      <td>595212.000000</td>\n",
              "      <td>595212.000000</td>\n",
              "      <td>595212.000000</td>\n",
              "      <td>595212.000000</td>\n",
              "      <td>595212.000000</td>\n",
              "      <td>595212.000000</td>\n",
              "      <td>595212.000000</td>\n",
              "      <td>595212.000000</td>\n",
              "      <td>595212.000000</td>\n",
              "      <td>595212.000000</td>\n",
              "      <td>595212.000000</td>\n",
              "      <td>595212.000000</td>\n",
              "      <td>595212.000000</td>\n",
              "      <td>595212.000000</td>\n",
              "    </tr>\n",
              "    <tr>\n",
              "      <th>mean</th>\n",
              "      <td>0.036448</td>\n",
              "      <td>1.900378</td>\n",
              "      <td>4.423318</td>\n",
              "      <td>0.012451</td>\n",
              "      <td>7.299922</td>\n",
              "      <td>0.610991</td>\n",
              "      <td>0.439184</td>\n",
              "      <td>0.551102</td>\n",
              "      <td>2.346072</td>\n",
              "      <td>0.379945</td>\n",
              "      <td>0.813265</td>\n",
              "      <td>0.276256</td>\n",
              "      <td>3.065899</td>\n",
              "      <td>0.449756</td>\n",
              "      <td>0.449589</td>\n",
              "      <td>0.449849</td>\n",
              "      <td>2.372081</td>\n",
              "      <td>1.885886</td>\n",
              "      <td>7.689445</td>\n",
              "      <td>3.005823</td>\n",
              "      <td>9.225904</td>\n",
              "      <td>2.339034</td>\n",
              "      <td>8.433590</td>\n",
              "      <td>5.441382</td>\n",
              "      <td>1.441918</td>\n",
              "      <td>2.872288</td>\n",
              "      <td>7.539026</td>\n",
              "    </tr>\n",
              "    <tr>\n",
              "      <th>std</th>\n",
              "      <td>0.187401</td>\n",
              "      <td>1.983789</td>\n",
              "      <td>2.699902</td>\n",
              "      <td>0.127545</td>\n",
              "      <td>3.546042</td>\n",
              "      <td>0.287643</td>\n",
              "      <td>0.404264</td>\n",
              "      <td>0.793506</td>\n",
              "      <td>0.832548</td>\n",
              "      <td>0.058327</td>\n",
              "      <td>0.224588</td>\n",
              "      <td>0.357154</td>\n",
              "      <td>0.731366</td>\n",
              "      <td>0.287198</td>\n",
              "      <td>0.286893</td>\n",
              "      <td>0.287153</td>\n",
              "      <td>1.117219</td>\n",
              "      <td>1.134927</td>\n",
              "      <td>1.334312</td>\n",
              "      <td>1.414564</td>\n",
              "      <td>1.459672</td>\n",
              "      <td>1.246949</td>\n",
              "      <td>2.904597</td>\n",
              "      <td>2.332871</td>\n",
              "      <td>1.202963</td>\n",
              "      <td>1.694887</td>\n",
              "      <td>2.746652</td>\n",
              "    </tr>\n",
              "    <tr>\n",
              "      <th>min</th>\n",
              "      <td>0.000000</td>\n",
              "      <td>0.000000</td>\n",
              "      <td>0.000000</td>\n",
              "      <td>0.000000</td>\n",
              "      <td>0.000000</td>\n",
              "      <td>0.000000</td>\n",
              "      <td>0.000000</td>\n",
              "      <td>-1.000000</td>\n",
              "      <td>-1.000000</td>\n",
              "      <td>-1.000000</td>\n",
              "      <td>0.250619</td>\n",
              "      <td>-1.000000</td>\n",
              "      <td>0.000000</td>\n",
              "      <td>0.000000</td>\n",
              "      <td>0.000000</td>\n",
              "      <td>0.000000</td>\n",
              "      <td>0.000000</td>\n",
              "      <td>0.000000</td>\n",
              "      <td>0.000000</td>\n",
              "      <td>0.000000</td>\n",
              "      <td>2.000000</td>\n",
              "      <td>0.000000</td>\n",
              "      <td>0.000000</td>\n",
              "      <td>0.000000</td>\n",
              "      <td>0.000000</td>\n",
              "      <td>0.000000</td>\n",
              "      <td>0.000000</td>\n",
              "    </tr>\n",
              "    <tr>\n",
              "      <th>25%</th>\n",
              "      <td>0.000000</td>\n",
              "      <td>0.000000</td>\n",
              "      <td>2.000000</td>\n",
              "      <td>0.000000</td>\n",
              "      <td>5.000000</td>\n",
              "      <td>0.400000</td>\n",
              "      <td>0.200000</td>\n",
              "      <td>0.525000</td>\n",
              "      <td>2.000000</td>\n",
              "      <td>0.316228</td>\n",
              "      <td>0.670867</td>\n",
              "      <td>0.333167</td>\n",
              "      <td>2.828427</td>\n",
              "      <td>0.200000</td>\n",
              "      <td>0.200000</td>\n",
              "      <td>0.200000</td>\n",
              "      <td>2.000000</td>\n",
              "      <td>1.000000</td>\n",
              "      <td>7.000000</td>\n",
              "      <td>2.000000</td>\n",
              "      <td>8.000000</td>\n",
              "      <td>1.000000</td>\n",
              "      <td>6.000000</td>\n",
              "      <td>4.000000</td>\n",
              "      <td>1.000000</td>\n",
              "      <td>2.000000</td>\n",
              "      <td>6.000000</td>\n",
              "    </tr>\n",
              "    <tr>\n",
              "      <th>50%</th>\n",
              "      <td>0.000000</td>\n",
              "      <td>1.000000</td>\n",
              "      <td>4.000000</td>\n",
              "      <td>0.000000</td>\n",
              "      <td>7.000000</td>\n",
              "      <td>0.700000</td>\n",
              "      <td>0.300000</td>\n",
              "      <td>0.720677</td>\n",
              "      <td>3.000000</td>\n",
              "      <td>0.374166</td>\n",
              "      <td>0.765811</td>\n",
              "      <td>0.368782</td>\n",
              "      <td>3.316625</td>\n",
              "      <td>0.500000</td>\n",
              "      <td>0.400000</td>\n",
              "      <td>0.500000</td>\n",
              "      <td>2.000000</td>\n",
              "      <td>2.000000</td>\n",
              "      <td>8.000000</td>\n",
              "      <td>3.000000</td>\n",
              "      <td>9.000000</td>\n",
              "      <td>2.000000</td>\n",
              "      <td>8.000000</td>\n",
              "      <td>5.000000</td>\n",
              "      <td>1.000000</td>\n",
              "      <td>3.000000</td>\n",
              "      <td>7.000000</td>\n",
              "    </tr>\n",
              "    <tr>\n",
              "      <th>75%</th>\n",
              "      <td>0.000000</td>\n",
              "      <td>3.000000</td>\n",
              "      <td>6.000000</td>\n",
              "      <td>0.000000</td>\n",
              "      <td>10.000000</td>\n",
              "      <td>0.900000</td>\n",
              "      <td>0.600000</td>\n",
              "      <td>1.000000</td>\n",
              "      <td>3.000000</td>\n",
              "      <td>0.400000</td>\n",
              "      <td>0.906190</td>\n",
              "      <td>0.396485</td>\n",
              "      <td>3.605551</td>\n",
              "      <td>0.700000</td>\n",
              "      <td>0.700000</td>\n",
              "      <td>0.700000</td>\n",
              "      <td>3.000000</td>\n",
              "      <td>3.000000</td>\n",
              "      <td>9.000000</td>\n",
              "      <td>4.000000</td>\n",
              "      <td>10.000000</td>\n",
              "      <td>3.000000</td>\n",
              "      <td>10.000000</td>\n",
              "      <td>7.000000</td>\n",
              "      <td>2.000000</td>\n",
              "      <td>4.000000</td>\n",
              "      <td>9.000000</td>\n",
              "    </tr>\n",
              "    <tr>\n",
              "      <th>max</th>\n",
              "      <td>1.000000</td>\n",
              "      <td>7.000000</td>\n",
              "      <td>11.000000</td>\n",
              "      <td>4.000000</td>\n",
              "      <td>13.000000</td>\n",
              "      <td>0.900000</td>\n",
              "      <td>1.800000</td>\n",
              "      <td>4.037945</td>\n",
              "      <td>3.000000</td>\n",
              "      <td>1.264911</td>\n",
              "      <td>3.720626</td>\n",
              "      <td>0.636396</td>\n",
              "      <td>3.741657</td>\n",
              "      <td>0.900000</td>\n",
              "      <td>0.900000</td>\n",
              "      <td>0.900000</td>\n",
              "      <td>5.000000</td>\n",
              "      <td>6.000000</td>\n",
              "      <td>10.000000</td>\n",
              "      <td>9.000000</td>\n",
              "      <td>12.000000</td>\n",
              "      <td>7.000000</td>\n",
              "      <td>25.000000</td>\n",
              "      <td>19.000000</td>\n",
              "      <td>10.000000</td>\n",
              "      <td>13.000000</td>\n",
              "      <td>23.000000</td>\n",
              "    </tr>\n",
              "  </tbody>\n",
              "</table>\n",
              "</div>"
            ],
            "text/plain": [
              "                   y        xind_01  ...       xcalc_13       xcalc_14\n",
              "count  595212.000000  595212.000000  ...  595212.000000  595212.000000\n",
              "mean        0.036448       1.900378  ...       2.872288       7.539026\n",
              "std         0.187401       1.983789  ...       1.694887       2.746652\n",
              "min         0.000000       0.000000  ...       0.000000       0.000000\n",
              "25%         0.000000       0.000000  ...       2.000000       6.000000\n",
              "50%         0.000000       1.000000  ...       3.000000       7.000000\n",
              "75%         0.000000       3.000000  ...       4.000000       9.000000\n",
              "max         1.000000       7.000000  ...      13.000000      23.000000\n",
              "\n",
              "[8 rows x 27 columns]"
            ]
          },
          "metadata": {
            "tags": []
          },
          "execution_count": 88
        }
      ]
    },
    {
      "cell_type": "markdown",
      "metadata": {
        "id": "tCrswHhgb93i"
      },
      "source": [
        "#2:"
      ]
    },
    {
      "cell_type": "code",
      "metadata": {
        "id": "DvheiJ8BA2RU"
      },
      "source": [
        "#binning - připravené funkce pro použití na sloupce\n",
        "def eq_width(col, bins = 100):\n",
        "  #samostatne pracuju s hodnotami a nan\n",
        "  values = col.loc[col >= 0].copy()\n",
        "  nvalues = col.loc[col < 0].copy()\n",
        "  values = pd.cut(values, bins, labels=range(bins))\n",
        "  if nvalues.shape[0] != 0:\n",
        "    nvalues = pd.cut(nvalues, 1, labels={values.astype('Int64').mean().astype(int)}) #pro neznamou hodnotu pouziju prumernou\n",
        "  sol = pd.concat([values, nvalues], axis=0).sort_index().astype('Int64')\n",
        "  return sol\n",
        "\n",
        "def eq_depth(col, bins = 100):\n",
        "  #samostatne pracuju s hodnotami a nan, takze je mozne ze nan bude mit vetsi hloubku\n",
        "  values = col.loc[col >= 0].copy()\n",
        "  nvalues = col.loc[col < 0].copy()\n",
        "  values = pd.qcut(values, bins, labels=range(bins))\n",
        "  if nvalues.shape[0] != 0:\n",
        "    nvalues = pd.qcut(nvalues, 1, labels={values.astype('Int64').mean().astype(int)}) #pro neznamou hodnotu pouziju prumernou\n",
        "  sol = pd.concat([values, nvalues], axis=0).sort_index().astype('Int64')\n",
        "  return sol\n",
        "  "
      ],
      "execution_count": 89,
      "outputs": []
    },
    {
      "cell_type": "code",
      "metadata": {
        "id": "E9w9-fnz3D44",
        "colab": {
          "base_uri": "https://localhost:8080/",
          "height": 418
        },
        "outputId": "5616e8ce-061c-4a18-8994-05216be42302"
      },
      "source": [
        "df_bins_ed = df.copy() #budu používat kopii dat pro další jejich úpravy\n",
        "\n",
        "#equal depth pro sloupce 'xcar_13', 'xreg_03' a 'xcar_14'\n",
        "df_bins_ed['xcar_13'] = eq_depth(df_bins_ed['xcar_13'])\n",
        "print(df_bins_ed['xcar_13'].describe())\n",
        "df_bins_ed.xcar_13.hist() #je videt ze hodnoty jsou rovnomerne rozdelene\n",
        "\n",
        "df_bins_ed['xreg_03'] = eq_depth(df_bins_ed['xreg_03'])\n",
        "\n",
        "df_bins_ed['xcar_14'] = eq_depth(df_bins_ed['xcar_14'], 20)"
      ],
      "execution_count": 91,
      "outputs": [
        {
          "output_type": "stream",
          "text": [
            "count    595212.000000\n",
            "mean         49.495081\n",
            "std          28.867229\n",
            "min           0.000000\n",
            "25%          24.000000\n",
            "50%          49.000000\n",
            "75%          74.250000\n",
            "max          99.000000\n",
            "Name: xcar_13, dtype: float64\n"
          ],
          "name": "stdout"
        },
        {
          "output_type": "display_data",
          "data": {
            "image/png": "[encoded data removed]",
            "text/plain": [
              "<Figure size 432x288 with 1 Axes>"
            ]
          },
          "metadata": {
            "tags": [],
            "needs_background": "light"
          }
        }
      ]
    },
    {
      "cell_type": "code",
      "metadata": {
        "colab": {
          "base_uri": "https://localhost:8080/",
          "height": 435
        },
        "id": "Ptvzei403Sbo",
        "outputId": "9aea733e-671c-42d5-c35a-efb5bb1d5967"
      },
      "source": [
        "df_bins_ew = df.copy()\n",
        "#equal width pro sloupce 'xcar_13', 'xreg_03' a 'xcar_14'\n",
        "\n",
        "#equal width pro sloupec 'xcar_13'\n",
        "df_bins_ew['xcar_13'] = eq_width(df_bins_ew['xcar_13'])\n",
        "print(df_bins_ew['xcar_13'].describe())\n",
        "df_bins_ew.xcar_13.hist() #je videt ze hodnoty nejsou rovnomerne rozdelene"
      ],
      "execution_count": 92,
      "outputs": [
        {
          "output_type": "stream",
          "text": [
            "count    595212.000000\n",
            "mean         15.716682\n",
            "std           6.480549\n",
            "min           0.000000\n",
            "25%          12.000000\n",
            "50%          14.000000\n",
            "75%          18.000000\n",
            "max          99.000000\n",
            "Name: xcar_13, dtype: float64\n"
          ],
          "name": "stdout"
        },
        {
          "output_type": "execute_result",
          "data": {
            "text/plain": [
              "<matplotlib.axes._subplots.AxesSubplot at 0x7fe62735cf28>"
            ]
          },
          "metadata": {
            "tags": []
          },
          "execution_count": 92
        },
        {
          "output_type": "display_data",
          "data": {
            "image/png": "[encoded data removed]",
            "text/plain": [
              "<Figure size 432x288 with 1 Axes>"
            ]
          },
          "metadata": {
            "tags": [],
            "needs_background": "light"
          }
        }
      ]
    },
    {
      "cell_type": "code",
      "metadata": {
        "colab": {
          "base_uri": "https://localhost:8080/",
          "height": 435
        },
        "id": "N02Exq4A3FDw",
        "outputId": "9d22c84e-fb88-4bb8-e3a9-905d28c523ab"
      },
      "source": [
        "#equal width pro sloupec 'xreg_03'\n",
        "df_bins_ew['xreg_03'] = eq_width(df_bins_ew['xreg_03'])\n",
        "print(df_bins_ew['xreg_03'].describe())\n",
        "df_bins_ew.xreg_03.hist() #je videt ze hodnoty nejsou rovnomerne rozdelene"
      ],
      "execution_count": 93,
      "outputs": [
        {
          "output_type": "stream",
          "text": [
            "count    595212.000000\n",
            "mean         20.362377\n",
            "std           7.865870\n",
            "min           0.000000\n",
            "25%          15.000000\n",
            "50%          20.000000\n",
            "75%          23.000000\n",
            "max          99.000000\n",
            "Name: xreg_03, dtype: float64\n"
          ],
          "name": "stdout"
        },
        {
          "output_type": "execute_result",
          "data": {
            "text/plain": [
              "<matplotlib.axes._subplots.AxesSubplot at 0x7fe633f1e278>"
            ]
          },
          "metadata": {
            "tags": []
          },
          "execution_count": 93
        },
        {
          "output_type": "display_data",
          "data": {
            "image/png": "[encoded data removed]",
            "text/plain": [
              "<Figure size 432x288 with 1 Axes>"
            ]
          },
          "metadata": {
            "tags": [],
            "needs_background": "light"
          }
        }
      ]
    },
    {
      "cell_type": "code",
      "metadata": {
        "id": "xSLycTW9vu2C",
        "colab": {
          "base_uri": "https://localhost:8080/",
          "height": 435
        },
        "outputId": "4d284a6e-f941-44be-aa8a-73e765b96762"
      },
      "source": [
        "#equal width pro sloupec 'xcar_14'\n",
        "df_bins_ew['xcar_14'] = eq_width(df_bins_ew['xcar_14'])\n",
        "print(df_bins_ew['xcar_14'].describe())\n",
        "df_bins_ew.xcar_14.hist() #je videt ze hodnoty nejsou rovnomerne rozdelene,\n",
        "#  ale podle stredni hodnoty je alespon blize nez predchozi prevedeny sloupec"
      ],
      "execution_count": 94,
      "outputs": [
        {
          "output_type": "stream",
          "text": [
            "count    595212.000000\n",
            "mean         49.753936\n",
            "std           8.330646\n",
            "min           0.000000\n",
            "25%          46.000000\n",
            "50%          49.000000\n",
            "75%          54.000000\n",
            "max          99.000000\n",
            "Name: xcar_14, dtype: float64\n"
          ],
          "name": "stdout"
        },
        {
          "output_type": "execute_result",
          "data": {
            "text/plain": [
              "<matplotlib.axes._subplots.AxesSubplot at 0x7fe62d5150f0>"
            ]
          },
          "metadata": {
            "tags": []
          },
          "execution_count": 94
        },
        {
          "output_type": "display_data",
          "data": {
            "image/png": "[encoded data removed]",
            "text/plain": [
              "<Figure size 432x288 with 1 Axes>"
            ]
          },
          "metadata": {
            "tags": [],
            "needs_background": "light"
          }
        }
      ]
    },
    {
      "cell_type": "code",
      "metadata": {
        "id": "fzC3Y_xaMHPe"
      },
      "source": [
        "#funkce pro klasifikaci\n",
        "from sklearn.metrics import confusion_matrix\n",
        "from sklearn.model_selection import train_test_split, cross_val_score\n",
        "from sklearn.ensemble import RandomForestClassifier, AdaBoostClassifier\n",
        "def classify_base(X,y):\n",
        "  X_train, X_test, y_train, y_test = train_test_split(X, y, test_size=.4, random_state=42)\n",
        "  return classify_split(X_train, y_train, X_test, y_test)\n",
        "\n",
        "def classify_w_clf(X,y,clf):\n",
        "  X,Xt,y,yt = train_test_split(X, y, test_size=.4, random_state=42)\n",
        "  return classify_full(X,y,Xt,yt,clf)\n",
        "\n",
        "def classify_split(X,y,Xt,yt):\n",
        "  clf = RandomForestClassifier(max_depth=5, n_estimators=50, max_features=1)\n",
        "  #clf = AdaBoostClassifier()\n",
        "  return classify_full(X,y,Xt,yt, clf)\n",
        "\n",
        "def classify_full(X,y,Xt,yt, clf):\n",
        "  clf.fit(X, y)\n",
        "  display(clf.score(Xt, yt))\n",
        "  y_pred = clf.predict(Xt)\n",
        "  return confusion_matrix(yt, y_pred)"
      ],
      "execution_count": 95,
      "outputs": []
    },
    {
      "cell_type": "code",
      "metadata": {
        "id": "y-f6-AYp4407"
      },
      "source": [
        "#priprava klasifikatoru\n",
        "from sklearn.tree import DecisionTreeClassifier\n",
        "from sklearn.ensemble import RandomForestClassifier, AdaBoostClassifier\n",
        "from sklearn.naive_bayes import GaussianNB\n",
        "\n",
        "classifiers = [\n",
        "    DecisionTreeClassifier(max_depth=5),\n",
        "    RandomForestClassifier(max_depth=5, n_estimators=10, max_features=1),\n",
        "    AdaBoostClassifier(),\n",
        "    GaussianNB()]\n",
        "names = [\"Decision Tree\", \"Random Forest\", \"AdaBoost\",\n",
        "         \"Naive Bayes\"]"
      ],
      "execution_count": 96,
      "outputs": []
    },
    {
      "cell_type": "code",
      "metadata": {
        "colab": {
          "base_uri": "https://localhost:8080/",
          "height": 1000
        },
        "id": "33pRt1pM6PNE",
        "outputId": "9a6be700-1abb-4bfc-8186-ba5e65e9dc6c"
      },
      "source": [
        "#klasifikace dosavadnich uprav\n",
        "print('TN      FP\\nFN      TP\\n')\n",
        "for name, clf in zip(names, classifiers):\n",
        "  display(name)\n",
        "\n",
        "  print('data puvodni:')\n",
        "  y = df_base['y']\n",
        "  X = df_base.drop(['y'],axis=1)\n",
        "  display(classify_w_clf(X,y,clf))\n",
        "\n",
        "  print('data po upravach:')\n",
        "  y = df['y']\n",
        "  X = df.drop(['y'],axis=1)\n",
        "  display(classify_w_clf(X,y,clf))\n",
        "\n",
        "  print('data s equal width:')\n",
        "  y = df_bins_ew['y']\n",
        "  X = df_bins_ew.drop(['y'],axis=1)\n",
        "  display(classify_w_clf(X,y,clf))\n",
        "\n",
        "  print('data s equal depth:')\n",
        "  y = df_bins_ed['y']\n",
        "  X = df_bins_ed.drop(['y'],axis=1)\n",
        "  display(classify_w_clf(X,y,clf))\n",
        "\n",
        "#vestinou klasifikuje jako 0 pro vsechny verze, binning nektere vysledky \n",
        "#pozmeni, ale ne vyznamne\n",
        "\n",
        "#k-Nearest Neighbors\n",
        "#data puvodni:\n",
        "#0.9596320641787597\n",
        "#array([[228420,    904],\n",
        "#       [  8707,     54]])\n",
        "#data po upravach:\n",
        "#0.9596320641787597\n",
        "#array([[228420,    904],\n",
        "#       [  8707,     54]])\n",
        "#data a binning:\n",
        "#0.9599512779049499\n",
        "#array([[228495,    829],\n",
        "#       [  8706,     55]])"
      ],
      "execution_count": 97,
      "outputs": [
        {
          "output_type": "stream",
          "text": [
            "TN      FP\n",
            "FN      TP\n",
            "\n"
          ],
          "name": "stdout"
        },
        {
          "output_type": "display_data",
          "data": {
            "application/vnd.google.colaboratory.intrinsic+json": {
              "type": "string"
            },
            "text/plain": [
              "'Decision Tree'"
            ]
          },
          "metadata": {
            "tags": []
          }
        },
        {
          "output_type": "stream",
          "text": [
            "data puvodni:\n"
          ],
          "name": "stdout"
        },
        {
          "output_type": "display_data",
          "data": {
            "text/plain": [
              "0.9631518155280677"
            ]
          },
          "metadata": {
            "tags": []
          }
        },
        {
          "output_type": "display_data",
          "data": {
            "text/plain": [
              "array([[229309,     15],\n",
              "       [  8758,      3]])"
            ]
          },
          "metadata": {
            "tags": []
          }
        },
        {
          "output_type": "stream",
          "text": [
            "data po upravach:\n"
          ],
          "name": "stdout"
        },
        {
          "output_type": "display_data",
          "data": {
            "text/plain": [
              "0.9631602158892832"
            ]
          },
          "metadata": {
            "tags": []
          }
        },
        {
          "output_type": "display_data",
          "data": {
            "text/plain": [
              "array([[229313,     11],\n",
              "       [  8760,      1]])"
            ]
          },
          "metadata": {
            "tags": []
          }
        },
        {
          "output_type": "stream",
          "text": [
            "data s equal width:\n"
          ],
          "name": "stdout"
        },
        {
          "output_type": "display_data",
          "data": {
            "text/plain": [
              "0.9631938173341453"
            ]
          },
          "metadata": {
            "tags": []
          }
        },
        {
          "output_type": "display_data",
          "data": {
            "text/plain": [
              "array([[229319,      5],\n",
              "       [  8758,      3]])"
            ]
          },
          "metadata": {
            "tags": []
          }
        },
        {
          "output_type": "stream",
          "text": [
            "data s equal depth:\n"
          ],
          "name": "stdout"
        },
        {
          "output_type": "display_data",
          "data": {
            "text/plain": [
              "0.9631938173341453"
            ]
          },
          "metadata": {
            "tags": []
          }
        },
        {
          "output_type": "display_data",
          "data": {
            "text/plain": [
              "array([[229321,      3],\n",
              "       [  8760,      1]])"
            ]
          },
          "metadata": {
            "tags": []
          }
        },
        {
          "output_type": "display_data",
          "data": {
            "application/vnd.google.colaboratory.intrinsic+json": {
              "type": "string"
            },
            "text/plain": [
              "'Random Forest'"
            ]
          },
          "metadata": {
            "tags": []
          }
        },
        {
          "output_type": "stream",
          "text": [
            "data puvodni:\n"
          ],
          "name": "stdout"
        },
        {
          "output_type": "display_data",
          "data": {
            "text/plain": [
              "0.9632022176953609"
            ]
          },
          "metadata": {
            "tags": []
          }
        },
        {
          "output_type": "display_data",
          "data": {
            "text/plain": [
              "array([[229324,      0],\n",
              "       [  8761,      0]])"
            ]
          },
          "metadata": {
            "tags": []
          }
        },
        {
          "output_type": "stream",
          "text": [
            "data po upravach:\n"
          ],
          "name": "stdout"
        },
        {
          "output_type": "display_data",
          "data": {
            "text/plain": [
              "0.9632022176953609"
            ]
          },
          "metadata": {
            "tags": []
          }
        },
        {
          "output_type": "display_data",
          "data": {
            "text/plain": [
              "array([[229324,      0],\n",
              "       [  8761,      0]])"
            ]
          },
          "metadata": {
            "tags": []
          }
        },
        {
          "output_type": "stream",
          "text": [
            "data s equal width:\n"
          ],
          "name": "stdout"
        },
        {
          "output_type": "display_data",
          "data": {
            "text/plain": [
              "0.9632022176953609"
            ]
          },
          "metadata": {
            "tags": []
          }
        },
        {
          "output_type": "display_data",
          "data": {
            "text/plain": [
              "array([[229324,      0],\n",
              "       [  8761,      0]])"
            ]
          },
          "metadata": {
            "tags": []
          }
        },
        {
          "output_type": "stream",
          "text": [
            "data s equal depth:\n"
          ],
          "name": "stdout"
        },
        {
          "output_type": "display_data",
          "data": {
            "text/plain": [
              "0.9632022176953609"
            ]
          },
          "metadata": {
            "tags": []
          }
        },
        {
          "output_type": "display_data",
          "data": {
            "text/plain": [
              "array([[229324,      0],\n",
              "       [  8761,      0]])"
            ]
          },
          "metadata": {
            "tags": []
          }
        },
        {
          "output_type": "display_data",
          "data": {
            "application/vnd.google.colaboratory.intrinsic+json": {
              "type": "string"
            },
            "text/plain": [
              "'AdaBoost'"
            ]
          },
          "metadata": {
            "tags": []
          }
        },
        {
          "output_type": "stream",
          "text": [
            "data puvodni:\n"
          ],
          "name": "stdout"
        },
        {
          "output_type": "display_data",
          "data": {
            "text/plain": [
              "0.9632022176953609"
            ]
          },
          "metadata": {
            "tags": []
          }
        },
        {
          "output_type": "display_data",
          "data": {
            "text/plain": [
              "array([[229324,      0],\n",
              "       [  8761,      0]])"
            ]
          },
          "metadata": {
            "tags": []
          }
        },
        {
          "output_type": "stream",
          "text": [
            "data po upravach:\n"
          ],
          "name": "stdout"
        },
        {
          "output_type": "display_data",
          "data": {
            "text/plain": [
              "0.9632022176953609"
            ]
          },
          "metadata": {
            "tags": []
          }
        },
        {
          "output_type": "display_data",
          "data": {
            "text/plain": [
              "array([[229324,      0],\n",
              "       [  8761,      0]])"
            ]
          },
          "metadata": {
            "tags": []
          }
        },
        {
          "output_type": "stream",
          "text": [
            "data s equal width:\n"
          ],
          "name": "stdout"
        },
        {
          "output_type": "display_data",
          "data": {
            "text/plain": [
              "0.9632022176953609"
            ]
          },
          "metadata": {
            "tags": []
          }
        },
        {
          "output_type": "display_data",
          "data": {
            "text/plain": [
              "array([[229324,      0],\n",
              "       [  8761,      0]])"
            ]
          },
          "metadata": {
            "tags": []
          }
        },
        {
          "output_type": "stream",
          "text": [
            "data s equal depth:\n"
          ],
          "name": "stdout"
        },
        {
          "output_type": "display_data",
          "data": {
            "text/plain": [
              "0.9632022176953609"
            ]
          },
          "metadata": {
            "tags": []
          }
        },
        {
          "output_type": "display_data",
          "data": {
            "text/plain": [
              "array([[229324,      0],\n",
              "       [  8761,      0]])"
            ]
          },
          "metadata": {
            "tags": []
          }
        },
        {
          "output_type": "display_data",
          "data": {
            "application/vnd.google.colaboratory.intrinsic+json": {
              "type": "string"
            },
            "text/plain": [
              "'Naive Bayes'"
            ]
          },
          "metadata": {
            "tags": []
          }
        },
        {
          "output_type": "stream",
          "text": [
            "data puvodni:\n"
          ],
          "name": "stdout"
        },
        {
          "output_type": "display_data",
          "data": {
            "text/plain": [
              "0.9067013881596908"
            ]
          },
          "metadata": {
            "tags": []
          }
        },
        {
          "output_type": "display_data",
          "data": {
            "text/plain": [
              "array([[214801,  14523],\n",
              "       [  7690,   1071]])"
            ]
          },
          "metadata": {
            "tags": []
          }
        },
        {
          "output_type": "stream",
          "text": [
            "data po upravach:\n"
          ],
          "name": "stdout"
        },
        {
          "output_type": "display_data",
          "data": {
            "text/plain": [
              "0.9067013881596908"
            ]
          },
          "metadata": {
            "tags": []
          }
        },
        {
          "output_type": "display_data",
          "data": {
            "text/plain": [
              "array([[214801,  14523],\n",
              "       [  7690,   1071]])"
            ]
          },
          "metadata": {
            "tags": []
          }
        },
        {
          "output_type": "stream",
          "text": [
            "data s equal width:\n"
          ],
          "name": "stdout"
        },
        {
          "output_type": "display_data",
          "data": {
            "text/plain": [
              "0.9010857466871075"
            ]
          },
          "metadata": {
            "tags": []
          }
        },
        {
          "output_type": "display_data",
          "data": {
            "text/plain": [
              "array([[213368,  15956],\n",
              "       [  7594,   1167]])"
            ]
          },
          "metadata": {
            "tags": []
          }
        },
        {
          "output_type": "stream",
          "text": [
            "data s equal depth:\n"
          ],
          "name": "stdout"
        },
        {
          "output_type": "display_data",
          "data": {
            "text/plain": [
              "0.9108805678644182"
            ]
          },
          "metadata": {
            "tags": []
          }
        },
        {
          "output_type": "display_data",
          "data": {
            "text/plain": [
              "array([[215863,  13461],\n",
              "       [  7757,   1004]])"
            ]
          },
          "metadata": {
            "tags": []
          }
        }
      ]
    },
    {
      "cell_type": "markdown",
      "metadata": {
        "id": "lPdRTvX1bq0v"
      },
      "source": [
        "#3:"
      ]
    },
    {
      "cell_type": "code",
      "metadata": {
        "id": "g0n8sViU45Hs"
      },
      "source": [
        "#3. balance - oversampling a undersampling\n",
        "from imblearn.under_sampling import RandomUnderSampler\n",
        "from imblearn.under_sampling import TomekLinks"
      ],
      "execution_count": 98,
      "outputs": []
    },
    {
      "cell_type": "code",
      "metadata": {
        "id": "ueuHkvgR45T1",
        "colab": {
          "base_uri": "https://localhost:8080/",
          "height": 345
        },
        "outputId": "d875bc31-f37a-480c-9e8b-d4e21192d90d"
      },
      "source": [
        "#nahodny undersampling\n",
        "y = df_bins_ew['y']\n",
        "X = df_bins_ew.drop(['y'],axis=1)\n",
        "X_train, X_test, y_train, y_test = train_test_split(X, y, test_size=.4, random_state=42)\n",
        "rus = RandomUnderSampler(random_state=42)\n",
        "X_res, y_res = rus.fit_resample(X_train, y_train)\n",
        "display('Pocet prvku po undersamplingu: ' + str(X_res.shape[0]))\n",
        "\n",
        "for name, clf in zip(names, classifiers):\n",
        "  display(name)\n",
        "  display(classify_full(X_res, y_res, X_test, y_test,clf)) #celkove skore se zhorsilo, ale pocet\n",
        "#true positive se vyrazne zvysil, ještě výrazněji se ale zvětšil false negative. Ze všech testovaných\n",
        "#sad příznaků má jejich množství nejvyšší."
      ],
      "execution_count": 99,
      "outputs": [
        {
          "output_type": "stream",
          "text": [
            "/usr/local/lib/python3.6/dist-packages/sklearn/utils/deprecation.py:87: FutureWarning: Function safe_indexing is deprecated; safe_indexing is deprecated in version 0.22 and will be removed in version 0.24.\n",
            "  warnings.warn(msg, category=FutureWarning)\n"
          ],
          "name": "stderr"
        },
        {
          "output_type": "display_data",
          "data": {
            "application/vnd.google.colaboratory.intrinsic+json": {
              "type": "string"
            },
            "text/plain": [
              "'Pocet prvku po undersamplingu: 25866'"
            ]
          },
          "metadata": {
            "tags": []
          }
        },
        {
          "output_type": "display_data",
          "data": {
            "application/vnd.google.colaboratory.intrinsic+json": {
              "type": "string"
            },
            "text/plain": [
              "'Decision Tree'"
            ]
          },
          "metadata": {
            "tags": []
          }
        },
        {
          "output_type": "display_data",
          "data": {
            "text/plain": [
              "0.7232122981288195"
            ]
          },
          "metadata": {
            "tags": []
          }
        },
        {
          "output_type": "display_data",
          "data": {
            "text/plain": [
              "array([[168551,  60773],\n",
              "       [  5126,   3635]])"
            ]
          },
          "metadata": {
            "tags": []
          }
        },
        {
          "output_type": "display_data",
          "data": {
            "application/vnd.google.colaboratory.intrinsic+json": {
              "type": "string"
            },
            "text/plain": [
              "'Random Forest'"
            ]
          },
          "metadata": {
            "tags": []
          }
        },
        {
          "output_type": "display_data",
          "data": {
            "text/plain": [
              "0.5964676481088687"
            ]
          },
          "metadata": {
            "tags": []
          }
        },
        {
          "output_type": "display_data",
          "data": {
            "text/plain": [
              "array([[137200,  92124],\n",
              "       [  3951,   4810]])"
            ]
          },
          "metadata": {
            "tags": []
          }
        },
        {
          "output_type": "display_data",
          "data": {
            "application/vnd.google.colaboratory.intrinsic+json": {
              "type": "string"
            },
            "text/plain": [
              "'AdaBoost'"
            ]
          },
          "metadata": {
            "tags": []
          }
        },
        {
          "output_type": "display_data",
          "data": {
            "text/plain": [
              "0.6152676565092299"
            ]
          },
          "metadata": {
            "tags": []
          }
        },
        {
          "output_type": "display_data",
          "data": {
            "text/plain": [
              "array([[141537,  87787],\n",
              "       [  3812,   4949]])"
            ]
          },
          "metadata": {
            "tags": []
          }
        },
        {
          "output_type": "display_data",
          "data": {
            "application/vnd.google.colaboratory.intrinsic+json": {
              "type": "string"
            },
            "text/plain": [
              "'Naive Bayes'"
            ]
          },
          "metadata": {
            "tags": []
          }
        },
        {
          "output_type": "display_data",
          "data": {
            "text/plain": [
              "0.7276098872251506"
            ]
          },
          "metadata": {
            "tags": []
          }
        },
        {
          "output_type": "display_data",
          "data": {
            "text/plain": [
              "array([[169653,  59671],\n",
              "       [  5181,   3580]])"
            ]
          },
          "metadata": {
            "tags": []
          }
        }
      ]
    },
    {
      "cell_type": "code",
      "metadata": {
        "id": "zr06DG5r45m1",
        "colab": {
          "base_uri": "https://localhost:8080/",
          "height": 345
        },
        "outputId": "789c64a1-dc4e-4c2f-92fe-b8fe76538807"
      },
      "source": [
        "#TomekLinks\n",
        "tl = TomekLinks(random_state=42)\n",
        "X_res, y_res = tl.fit_resample(X_train, y_train)\n",
        "display('Pocet prvku po undersamplingu: ' + str(X_res.shape[0]))\n",
        "\n",
        "for name, clf in zip(names, classifiers):\n",
        "  display(name)\n",
        "  display(classify_full(X_res, y_res, X_test, y_test,clf)) \n",
        "#výkon je srovnatelný s daty před samplingem, pořád není moc pokusů o volbu positive."
      ],
      "execution_count": 100,
      "outputs": [
        {
          "output_type": "stream",
          "text": [
            "/usr/local/lib/python3.6/dist-packages/sklearn/utils/deprecation.py:87: FutureWarning: Function safe_indexing is deprecated; safe_indexing is deprecated in version 0.22 and will be removed in version 0.24.\n",
            "  warnings.warn(msg, category=FutureWarning)\n"
          ],
          "name": "stderr"
        },
        {
          "output_type": "display_data",
          "data": {
            "application/vnd.google.colaboratory.intrinsic+json": {
              "type": "string"
            },
            "text/plain": [
              "'Pocet prvku po undersamplingu: 352986'"
            ]
          },
          "metadata": {
            "tags": []
          }
        },
        {
          "output_type": "display_data",
          "data": {
            "application/vnd.google.colaboratory.intrinsic+json": {
              "type": "string"
            },
            "text/plain": [
              "'Decision Tree'"
            ]
          },
          "metadata": {
            "tags": []
          }
        },
        {
          "output_type": "display_data",
          "data": {
            "text/plain": [
              "0.9632022176953609"
            ]
          },
          "metadata": {
            "tags": []
          }
        },
        {
          "output_type": "display_data",
          "data": {
            "text/plain": [
              "array([[229322,      2],\n",
              "       [  8759,      2]])"
            ]
          },
          "metadata": {
            "tags": []
          }
        },
        {
          "output_type": "display_data",
          "data": {
            "application/vnd.google.colaboratory.intrinsic+json": {
              "type": "string"
            },
            "text/plain": [
              "'Random Forest'"
            ]
          },
          "metadata": {
            "tags": []
          }
        },
        {
          "output_type": "display_data",
          "data": {
            "text/plain": [
              "0.9632022176953609"
            ]
          },
          "metadata": {
            "tags": []
          }
        },
        {
          "output_type": "display_data",
          "data": {
            "text/plain": [
              "array([[229324,      0],\n",
              "       [  8761,      0]])"
            ]
          },
          "metadata": {
            "tags": []
          }
        },
        {
          "output_type": "display_data",
          "data": {
            "application/vnd.google.colaboratory.intrinsic+json": {
              "type": "string"
            },
            "text/plain": [
              "'AdaBoost'"
            ]
          },
          "metadata": {
            "tags": []
          }
        },
        {
          "output_type": "display_data",
          "data": {
            "text/plain": [
              "0.9632022176953609"
            ]
          },
          "metadata": {
            "tags": []
          }
        },
        {
          "output_type": "display_data",
          "data": {
            "text/plain": [
              "array([[229324,      0],\n",
              "       [  8761,      0]])"
            ]
          },
          "metadata": {
            "tags": []
          }
        },
        {
          "output_type": "display_data",
          "data": {
            "application/vnd.google.colaboratory.intrinsic+json": {
              "type": "string"
            },
            "text/plain": [
              "'Naive Bayes'"
            ]
          },
          "metadata": {
            "tags": []
          }
        },
        {
          "output_type": "display_data",
          "data": {
            "text/plain": [
              "0.8997248881701914"
            ]
          },
          "metadata": {
            "tags": []
          }
        },
        {
          "output_type": "display_data",
          "data": {
            "text/plain": [
              "array([[213026,  16298],\n",
              "       [  7576,   1185]])"
            ]
          },
          "metadata": {
            "tags": []
          }
        }
      ]
    },
    {
      "cell_type": "code",
      "metadata": {
        "id": "LunncsOt45x3",
        "colab": {
          "base_uri": "https://localhost:8080/",
          "height": 345
        },
        "outputId": "b3d29a18-686d-4031-8de5-091b886efbf5"
      },
      "source": [
        "#oversampling SMOTE\n",
        "from imblearn.over_sampling import SMOTE\n",
        "\n",
        "sm = SMOTE(random_state=42)\n",
        "X_res, y_res = sm.fit_resample(X_train, y_train)\n",
        "display('Pocet prvku po undersamplingu: ' + str(X_res.shape[0]))\n",
        "\n",
        "for name, clf in zip(names, classifiers):\n",
        "  display(name)\n",
        "  display(classify_full(X_res, y_res, X_test, y_test,clf))\n",
        "#stejně jako u ostatních, se zvyšujícím se true positive se zvyšuje i false negative, a to přibližně 20x rychleji.\n"
      ],
      "execution_count": 101,
      "outputs": [
        {
          "output_type": "stream",
          "text": [
            "/usr/local/lib/python3.6/dist-packages/sklearn/utils/deprecation.py:87: FutureWarning: Function safe_indexing is deprecated; safe_indexing is deprecated in version 0.22 and will be removed in version 0.24.\n",
            "  warnings.warn(msg, category=FutureWarning)\n"
          ],
          "name": "stderr"
        },
        {
          "output_type": "display_data",
          "data": {
            "application/vnd.google.colaboratory.intrinsic+json": {
              "type": "string"
            },
            "text/plain": [
              "'Pocet prvku po undersamplingu: 688388'"
            ]
          },
          "metadata": {
            "tags": []
          }
        },
        {
          "output_type": "display_data",
          "data": {
            "application/vnd.google.colaboratory.intrinsic+json": {
              "type": "string"
            },
            "text/plain": [
              "'Decision Tree'"
            ]
          },
          "metadata": {
            "tags": []
          }
        },
        {
          "output_type": "display_data",
          "data": {
            "text/plain": [
              "0.9632022176953609"
            ]
          },
          "metadata": {
            "tags": []
          }
        },
        {
          "output_type": "display_data",
          "data": {
            "text/plain": [
              "array([[229324,      0],\n",
              "       [  8761,      0]])"
            ]
          },
          "metadata": {
            "tags": []
          }
        },
        {
          "output_type": "display_data",
          "data": {
            "application/vnd.google.colaboratory.intrinsic+json": {
              "type": "string"
            },
            "text/plain": [
              "'Random Forest'"
            ]
          },
          "metadata": {
            "tags": []
          }
        },
        {
          "output_type": "display_data",
          "data": {
            "text/plain": [
              "0.8142848142470126"
            ]
          },
          "metadata": {
            "tags": []
          }
        },
        {
          "output_type": "display_data",
          "data": {
            "text/plain": [
              "array([[191948,  37376],\n",
              "       [  6840,   1921]])"
            ]
          },
          "metadata": {
            "tags": []
          }
        },
        {
          "output_type": "display_data",
          "data": {
            "application/vnd.google.colaboratory.intrinsic+json": {
              "type": "string"
            },
            "text/plain": [
              "'AdaBoost'"
            ]
          },
          "metadata": {
            "tags": []
          }
        },
        {
          "output_type": "display_data",
          "data": {
            "text/plain": [
              "0.9632022176953609"
            ]
          },
          "metadata": {
            "tags": []
          }
        },
        {
          "output_type": "display_data",
          "data": {
            "text/plain": [
              "array([[229324,      0],\n",
              "       [  8761,      0]])"
            ]
          },
          "metadata": {
            "tags": []
          }
        },
        {
          "output_type": "display_data",
          "data": {
            "application/vnd.google.colaboratory.intrinsic+json": {
              "type": "string"
            },
            "text/plain": [
              "'Naive Bayes'"
            ]
          },
          "metadata": {
            "tags": []
          }
        },
        {
          "output_type": "display_data",
          "data": {
            "text/plain": [
              "0.673150345464855"
            ]
          },
          "metadata": {
            "tags": []
          }
        },
        {
          "output_type": "display_data",
          "data": {
            "text/plain": [
              "array([[156515,  72809],\n",
              "       [  5009,   3752]])"
            ]
          },
          "metadata": {
            "tags": []
          }
        }
      ]
    },
    {
      "cell_type": "code",
      "metadata": {
        "id": "89yVj1hfoTuO",
        "colab": {
          "base_uri": "https://localhost:8080/",
          "height": 379
        },
        "outputId": "1ae6db8f-c0bd-4c39-a9a9-9252ac4c2020"
      },
      "source": [
        "#kombinace SMOTE a Tomek\n",
        "from imblearn.combine import SMOTETomek\n",
        "st = SMOTETomek(random_state=42)\n",
        "X_res, y_res = st.fit_resample(X_train, y_train)\n",
        "display('Pocet prvku po undersamplingu: ' + str(X_res.shape[0]))\n",
        "\n",
        "for name, clf in zip(names, classifiers):\n",
        "  display(name)\n",
        "  display(classify_full(X_res, y_res, X_test, y_test,clf))\n",
        "  #Ani tento pomalý algoritmus se nedokázal vymanit z rychlého růstu false negative s růstem true positive."
      ],
      "execution_count": 102,
      "outputs": [
        {
          "output_type": "stream",
          "text": [
            "/usr/local/lib/python3.6/dist-packages/sklearn/utils/deprecation.py:87: FutureWarning: Function safe_indexing is deprecated; safe_indexing is deprecated in version 0.22 and will be removed in version 0.24.\n",
            "  warnings.warn(msg, category=FutureWarning)\n",
            "/usr/local/lib/python3.6/dist-packages/sklearn/utils/deprecation.py:87: FutureWarning: Function safe_indexing is deprecated; safe_indexing is deprecated in version 0.22 and will be removed in version 0.24.\n",
            "  warnings.warn(msg, category=FutureWarning)\n"
          ],
          "name": "stderr"
        },
        {
          "output_type": "display_data",
          "data": {
            "application/vnd.google.colaboratory.intrinsic+json": {
              "type": "string"
            },
            "text/plain": [
              "'Pocet prvku po undersamplingu: 688386'"
            ]
          },
          "metadata": {
            "tags": []
          }
        },
        {
          "output_type": "display_data",
          "data": {
            "application/vnd.google.colaboratory.intrinsic+json": {
              "type": "string"
            },
            "text/plain": [
              "'Decision Tree'"
            ]
          },
          "metadata": {
            "tags": []
          }
        },
        {
          "output_type": "display_data",
          "data": {
            "text/plain": [
              "0.9632022176953609"
            ]
          },
          "metadata": {
            "tags": []
          }
        },
        {
          "output_type": "display_data",
          "data": {
            "text/plain": [
              "array([[229324,      0],\n",
              "       [  8761,      0]])"
            ]
          },
          "metadata": {
            "tags": []
          }
        },
        {
          "output_type": "display_data",
          "data": {
            "application/vnd.google.colaboratory.intrinsic+json": {
              "type": "string"
            },
            "text/plain": [
              "'Random Forest'"
            ]
          },
          "metadata": {
            "tags": []
          }
        },
        {
          "output_type": "display_data",
          "data": {
            "text/plain": [
              "0.7816074091185921"
            ]
          },
          "metadata": {
            "tags": []
          }
        },
        {
          "output_type": "display_data",
          "data": {
            "text/plain": [
              "array([[183822,  45502],\n",
              "       [  6494,   2267]])"
            ]
          },
          "metadata": {
            "tags": []
          }
        },
        {
          "output_type": "display_data",
          "data": {
            "application/vnd.google.colaboratory.intrinsic+json": {
              "type": "string"
            },
            "text/plain": [
              "'AdaBoost'"
            ]
          },
          "metadata": {
            "tags": []
          }
        },
        {
          "output_type": "display_data",
          "data": {
            "text/plain": [
              "0.9632022176953609"
            ]
          },
          "metadata": {
            "tags": []
          }
        },
        {
          "output_type": "display_data",
          "data": {
            "text/plain": [
              "array([[229324,      0],\n",
              "       [  8761,      0]])"
            ]
          },
          "metadata": {
            "tags": []
          }
        },
        {
          "output_type": "display_data",
          "data": {
            "application/vnd.google.colaboratory.intrinsic+json": {
              "type": "string"
            },
            "text/plain": [
              "'Naive Bayes'"
            ]
          },
          "metadata": {
            "tags": []
          }
        },
        {
          "output_type": "display_data",
          "data": {
            "text/plain": [
              "0.673150345464855"
            ]
          },
          "metadata": {
            "tags": []
          }
        },
        {
          "output_type": "display_data",
          "data": {
            "text/plain": [
              "array([[156515,  72809],\n",
              "       [  5009,   3752]])"
            ]
          },
          "metadata": {
            "tags": []
          }
        }
      ]
    },
    {
      "cell_type": "markdown",
      "metadata": {
        "id": "A-3JGe-vYse5"
      },
      "source": [
        "#4:\n",
        "Závěr: prediktory na původních datech a datech bez samplingu víceméně vše predikovaly jako false. Proto se nedá říct jestli je binning podle šířky nebo hloubky úspěšnější, oba mají podobné výsledky, a to i nezávisle na tom, jestli interpretujeme výsledky jako čísla nebo kategoricky. Klasifikátory začaly volit true až po využití samplingu. S tím se ale také hned objevilo mnoho false negative označení, které významně převyšují true positive. Jen v několika případech se podařilo správně označit většinu positive záznamů, ale za cenu okolo 90000 false negative označení. Z klasifikátorů nejvíce jako true označovaly KNN a naivní bayes, KNN jsem nakonec ale z klasifikátorů odebral, protože jeho průběh byl pomalý. Nejpřesnějšími tedy zůstaly klasifikátory označující vše jako false, a to asi kvůli zmiňovanému rychlému růstu false negative."
      ]
    },
    {
      "cell_type": "code",
      "metadata": {
        "id": "-qRtffHEU695"
      },
      "source": [
        ""
      ],
      "execution_count": 103,
      "outputs": []
    },
    {
      "cell_type": "code",
      "metadata": {
        "id": "wLaPbUyLU7Qd"
      },
      "source": [
        ""
      ],
      "execution_count": 103,
      "outputs": []
    }
  ]
}